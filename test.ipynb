{
 "cells": [
  {
   "cell_type": "code",
   "execution_count": 1,
   "metadata": {},
   "outputs": [],
   "source": [
    "import os\n",
    "os.environ[\"SPS_HOME\"] = \"/Users/fpetri/packages/fsps\" "
   ]
  },
  {
   "cell_type": "code",
   "execution_count": 2,
   "metadata": {},
   "outputs": [],
   "source": [
    "import numpy as np\n",
    "\n",
    "import lbg_forecast.sps as sps\n",
    "import lbg_forecast.popmodel as pop\n",
    "import lbg_forecast.sfh as sfh"
   ]
  },
  {
   "cell_type": "code",
   "execution_count": 3,
   "metadata": {},
   "outputs": [],
   "source": [
    "def simulate_sample_photometry_dpl(nsamples, spectra=False):\n",
    "\n",
    "    #Define SPS Model\n",
    "    sps_model = sps.initialise_sps_model(sfh_type=3, dust_type=2)\n",
    "\n",
    "    i = 0\n",
    "    photo_data = []\n",
    "    while(i <  nsamples):\n",
    "\n",
    "        #Update Model and draw Priors\n",
    "        sps_params = pop.galaxy_population_model_dpl(1, np.array([3]))\n",
    "        sps.update_sps_model_dpl(sps_model, sps_params)\n",
    "\n",
    "        #Generate Photometry\n",
    "        photo_data.append(sps.simulate_photometry_lsst_fsps(sps_model, mass=sps_params[\"mass\"]))\n",
    "\n",
    "        #Plot Spectra\n",
    "        if(spectra):\n",
    "            spectrum = sps.simulate_sed(sps_model, sps_params)\n",
    "            \n",
    "            sps.plot_sed(spectrum, scaley = 16, xmin=2000, xmax=12000, ymin=0,\n",
    "                ymax=1.4, xsize=20, ysize=10, \n",
    "                fontsize=32, log=False, c = 'k')\n",
    "            \n",
    "            sps.plot_lsst_filters(factor=1)\n",
    "\n",
    "        i+=1\n",
    "\n",
    "    return np.asarray(photo_data)\n"
   ]
  },
  {
   "cell_type": "code",
   "execution_count": 4,
   "metadata": {},
   "outputs": [],
   "source": [
    "def simulate_sample_photometry_tau(nsamples, spectra=False):\n",
    "\n",
    "    #Define SPS Model\n",
    "    sps_model = sps.initialise_sps_model(sfh_type=1, dust_type=2)\n",
    "\n",
    "    i = 0\n",
    "    photo_data = []\n",
    "    while(i <  nsamples):\n",
    "\n",
    "        #Update Model and draw Priors\n",
    "        sps_params = pop.galaxy_population_model(1, np.array([3]))\n",
    "        sps.update_sps_model(sps_model, sps_params)\n",
    "\n",
    "        #Generate Photometry\n",
    "        photo_data.append(sps.simulate_photometry_lsst_fsps(sps_model, mass=sps_params[\"mass\"]))\n",
    "\n",
    "        #Plot Spectra\n",
    "        if(spectra):\n",
    "            spectrum = sps.simulate_sed(sps_model, sps_params)\n",
    "            \n",
    "            sps.plot_sed(spectrum, scaley = 16, xmin=2000, xmax=12000, ymin=0,\n",
    "                ymax=1.4, xsize=20, ysize=10, \n",
    "                fontsize=32, log=False, c = 'k')\n",
    "            \n",
    "            sps.plot_lsst_filters(factor=1)\n",
    "\n",
    "        i+=1\n",
    "\n",
    "    return np.asarray(photo_data)\n"
   ]
  },
  {
   "cell_type": "code",
   "execution_count": 11,
   "metadata": {},
   "outputs": [],
   "source": [
    "import lbg_forecast.igm as igm\n",
    "\n",
    "zz = 3.5\n",
    "\n",
    "l_min = 3400#913*(1+zz)\n",
    "l_max = 5700#1215*(1+zz)\n",
    "l_obs = np.linspace(l_min, l_max, int(l_max-l_min)*1)\n",
    "tau_eff = igm.lyman_continuum_tau(l_obs, 3.5)\n",
    "tau_eff_series = igm.lyman_series_line_tau(l_obs, 3.5)"
   ]
  },
  {
   "cell_type": "code",
   "execution_count": 15,
   "metadata": {},
   "outputs": [
    {
     "data": {
      "text/plain": [
       "[<matplotlib.lines.Line2D at 0x16a62a390>]"
      ]
     },
     "execution_count": 15,
     "metadata": {},
     "output_type": "execute_result"
    },
    {
     "data": {
      "image/png": "[encoded data removed]",
      "text/plain": [
       "<Figure size 640x480 with 1 Axes>"
      ]
     },
     "metadata": {},
     "output_type": "display_data"
    }
   ],
   "source": [
    "import matplotlib.pyplot as plt\n",
    "plt.plot(l_obs, 1-(tau_eff + tau_eff_series))\n"
   ]
  },
  {
   "cell_type": "code",
   "execution_count": 7,
   "metadata": {},
   "outputs": [],
   "source": [
    "#simulate_sample_photometry_dpl(1, spectra=True)"
   ]
  },
  {
   "cell_type": "code",
   "execution_count": 8,
   "metadata": {},
   "outputs": [],
   "source": [
    "#simulate_sample_photometry_tau(1, spectra=True)"
   ]
  },
  {
   "cell_type": "code",
   "execution_count": 9,
   "metadata": {},
   "outputs": [],
   "source": [
    "#pop.plot_galaxy_population(1000000, rows=6, nbins=30)"
   ]
  }
 ],
 "metadata": {
  "kernelspec": {
   "display_name": "test_env",
   "language": "python",
   "name": "test_env"
  },
  "language_info": {
   "codemirror_mode": {
    "name": "ipython",
    "version": 3
   },
   "file_extension": ".py",
   "mimetype": "text/x-python",
   "name": "python",
   "nbconvert_exporter": "python",
   "pygments_lexer": "ipython3",
   "version": "3.11.2"
  },
  "orig_nbformat": 4
 },
 "nbformat": 4,
 "nbformat_minor": 2
}
