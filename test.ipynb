{
 "cells": [
  {
   "cell_type": "code",
   "execution_count": 1,
   "metadata": {},
   "outputs": [],
   "source": [
    "import os\n",
    "os.environ[\"SPS_HOME\"] = \"/Users/fpetri/packages/fsps\" "
   ]
  },
  {
   "cell_type": "code",
   "execution_count": 2,
   "metadata": {},
   "outputs": [],
   "source": [
    "import numpy as np\n",
    "\n",
    "from lbg_forecast.sps import simulate_sed\n",
    "from lbg_forecast.sps import initialise_sps_model\n",
    "from lbg_forecast.sps import update_sps_model\n",
    "from lbg_forecast.sps import plot_sed\n",
    "from lbg_forecast.sps import plot_lsst_filters\n",
    "from lbg_forecast.sps import simulate_photometry_lsst_fsps\n",
    "from lbg_forecast.sps import simulate_photometry_lsst\n",
    "from lbg_forecast.popmodel import galaxy_population_model\n",
    "from lbg_forecast.popmodel import plot_galaxy_population"
   ]
  },
  {
   "cell_type": "code",
   "execution_count": 3,
   "metadata": {},
   "outputs": [],
   "source": [
    "def simulate_sample_photometry(nsamples, spectra=False):\n",
    "\n",
    "    #Define SPS Model\n",
    "    sps_model = initialise_sps_model(dust_type=2)\n",
    "\n",
    "    i = 0\n",
    "    photo_data = []\n",
    "    while(i < nsamples):\n",
    "\n",
    "        #Draw Priors and Update Model\n",
    "        sps_params = galaxy_population_model(np.array([3]))\n",
    "        update_sps_model(sps_model, sps_params)\n",
    "\n",
    "        #Generate Photometry\n",
    "        photo_data.append(simulate_photometry_lsst_fsps(sps_model, mass=sps_params[\"mass\"]))\n",
    "\n",
    "        #Plot Spectra\n",
    "        if(spectra):\n",
    "            spectrum = simulate_sed(sps_model, sps_params)\n",
    "            plot_sed(spectrum, scaley = 16, xmin=2000, xmax=12000, ymin=0,\n",
    "                ymax=1.4, xsize=20, ysize=10, \n",
    "                fontsize=32, log=False, c = 'k')\n",
    "            plot_lsst_filters(factor=1)\n",
    "\n",
    "        i+=1\n",
    "\n",
    "    return np.array([photo_data])\n"
   ]
  },
  {
   "cell_type": "code",
   "execution_count": 4,
   "metadata": {},
   "outputs": [
    {
     "data": {
      "image/png": "[encoded data removed]",
      "text/plain": [
       "<Figure size 640x480 with 1 Axes>"
      ]
     },
     "metadata": {},
     "output_type": "display_data"
    }
   ],
   "source": [
    "plot_galaxy_population(1000)"
   ]
  },
  {
   "cell_type": "code",
   "execution_count": 5,
   "metadata": {},
   "outputs": [],
   "source": [
    "#simulate_sample_photometry(2, spectra=True)"
   ]
  }
 ],
 "metadata": {
  "kernelspec": {
   "display_name": "test_env",
   "language": "python",
   "name": "test_env"
  },
  "language_info": {
   "codemirror_mode": {
    "name": "ipython",
    "version": 3
   },
   "file_extension": ".py",
   "mimetype": "text/x-python",
   "name": "python",
   "nbconvert_exporter": "python",
   "pygments_lexer": "ipython3",
   "version": "3.11.2"
  },
  "orig_nbformat": 4
 },
 "nbformat": 4,
 "nbformat_minor": 2
}
