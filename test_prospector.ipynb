{
 "cells": [
  {
   "cell_type": "code",
   "execution_count": 1,
   "metadata": {},
   "outputs": [],
   "source": [
    "import os\n",
    "os.environ[\"SPS_HOME\"] = \"/Users/fpetri/packages/fsps\" \n",
    "\n",
    "import numpy as np\n",
    "from prospect.models.templates import TemplateLibrary\n",
    "from prospect.models import SpecModel\n",
    "import prospect.models.transforms as transforms\n",
    "import prospect.plotting.utils as utils\n",
    "import matplotlib.pyplot as plt\n",
    "from prospect.sources import CSPSpecBasis"
   ]
  },
  {
   "cell_type": "code",
   "execution_count": 2,
   "metadata": {},
   "outputs": [
    {
     "name": "stdout",
     "output_type": "stream",
     "text": [
      "(b'mist', b'miles', b'DL07')\n",
      ":::::::\n",
      "<class 'prospect.models.sedmodel.SpecModel'>\n",
      "\n",
      "Free Parameters: (name: prior) \n",
      "-----------\n",
      "  dust2: <class 'prospect.models.priors.TopHat'>(mini=0.0,maxi=4.0)\n",
      "  duste_umin: <class 'prospect.models.priors.TopHat'>(mini=0.1,maxi=25)\n",
      "  duste_qpah: <class 'prospect.models.priors.TopHat'>(mini=0.5,maxi=7.0)\n",
      "  duste_gamma: <class 'prospect.models.priors.LogUniform'>(mini=0.001,maxi=0.15)\n",
      "  fagn: <class 'prospect.models.priors.LogUniform'>(mini=1e-05,maxi=3.0)\n",
      "  agn_tau: <class 'prospect.models.priors.LogUniform'>(mini=5.0,maxi=150.0)\n",
      "  dust_ratio: <class 'prospect.models.priors.ClippedNormal'>(mean=1.0,sigma=0.3,mini=0.0,maxi=2.0)\n",
      "  dust_index: <class 'prospect.models.priors.TopHat'>(mini=-2.0,maxi=0.5)\n",
      "  nzsfh: <class 'prospect.models.priors_beta.NzSFH'>(zred_mini=0.001,zred_maxi=15.0,mass_mini=7.0,mass_maxi=12.5,z_mini=-1.98,z_maxi=0.19,logsfr_ratio_mini=-5.0,logsfr_ratio_maxi=5.0,logsfr_ratio_tscale=0.3,nbins_sfh=7,const_phi=True)\n",
      "\n",
      "Fixed Parameters: (name: value [, depends_on]) \n",
      "-----------\n",
      "  zred: [0.5] <function nzsfh_to_zred at 0x13fe10fe0>\n",
      "  mass: [1000000.] <function logsfr_ratios_to_masses at 0x13fe10540>\n",
      "  logzsol: [-0.5] <function nzsfh_to_logzsol at 0x13fe111c0>\n",
      "  sfh: [3] \n",
      "  imf_type: [2] \n",
      "  dust_type: [4] \n",
      "  agebins: [[0.         7.47712   ]\n",
      " [7.47712    8.        ]\n",
      " [8.         8.47289792]\n",
      " [8.47289792 8.94579584]\n",
      " [8.94579584 9.41869375]\n",
      " [9.41869375 9.89159167]\n",
      " [9.89159167 9.93734916]] <function zred_to_agebins_pbeta at 0x13fe10cc0>\n",
      "  add_dust_emission: [ True] \n",
      "  add_neb_emission: [ True] \n",
      "  add_neb_continuum: [ True] \n",
      "  nebemlineinspec: [ True] \n",
      "  gas_logz: [0.] <function stellar_logzsol at 0x13acc3560>\n",
      "  gas_logu: [-2.] \n",
      "  add_agn_dust: [ True] \n",
      "  dust1: [0.] <function dustratio_to_dust1 at 0x13fe104a0>\n",
      "  logmass: [8.] <function nzsfh_to_logmass at 0x13fe11080>\n",
      "  logsfr_ratios: [0.] <function nzsfh_to_logsfr_ratios at 0x13fe11260>\n"
     ]
    }
   ],
   "source": [
    "model_params = TemplateLibrary[\"beta\"]\n",
    "model = SpecModel(model_params)\n",
    "sps = CSPSpecBasis(zcontinuous=1)\n",
    "print(sps.ssp.libraries)\n",
    "print(model)"
   ]
  },
  {
   "cell_type": "code",
   "execution_count": 3,
   "metadata": {},
   "outputs": [
    {
     "data": {
      "text/plain": [
       "(array([100., 100., 100., 100., 100., 100., 100., 100., 100., 100.]),\n",
       " array([0. , 0.4, 0.8, 1.2, 1.6, 2. , 2.4, 2.8, 3.2, 3.6, 4. ]),\n",
       " <BarContainer object of 10 artists>)"
      ]
     },
     "execution_count": 3,
     "metadata": {},
     "output_type": "execute_result"
    },
    {
     "data": {
      "image/png": "[encoded data removed]",
      "text/plain": [
       "<Figure size 640x480 with 1 Axes>"
      ]
     },
     "metadata": {},
     "output_type": "display_data"
    }
   ],
   "source": [
    "samples = utils.sample_prior(model, 1000)[0]\n",
    "plt.hist(samples[:,0])"
   ]
  },
  {
   "cell_type": "code",
   "execution_count": 4,
   "metadata": {},
   "outputs": [
    {
     "data": {
      "text/plain": [
       "(1000,)"
      ]
     },
     "execution_count": 4,
     "metadata": {},
     "output_type": "execute_result"
    }
   ],
   "source": [
    "meow = samples[:, -1]\n",
    "meow.shape\n",
    "#transforms.nzsfh_to_zred(meow)"
   ]
  },
  {
   "cell_type": "code",
   "execution_count": 20,
   "metadata": {},
   "outputs": [
    {
     "name": "stdout",
     "output_type": "stream",
     "text": [
      "(10000, 9)\n",
      "[ 6.70975033  7.1790984   0.23795717 -0.29661553  0.93547504  0.72267632\n",
      "  0.73355973  1.08212998  0.7036052 ]\n"
     ]
    }
   ],
   "source": [
    "from prospect.models import priors_beta as pb\n",
    "prior = pb.PhiSFH(zred_mini=0.01, zred_maxi=7.0, mass_mini=7.0, mass_maxi=13.0,\n",
    "                z_mini=-2.5, z_maxi=0.5,\n",
    "                logsfr_ratio_mini=-5.0, logsfr_ratio_maxi=5.0,\n",
    "                logsfr_ratio_tscale=0.3, nbins_sfh=7,\n",
    "                const_phi=True)\n",
    "\n",
    "\n",
    "nsamples = 10000\n",
    "prior_samples = []\n",
    "for i in range(nsamples):\n",
    "    prior_samples.append(prior.sample())\n",
    "\n",
    "samples = np.vstack(np.array(prior_samples))\n",
    "print(samples.shape) #z, mass, met, sfrs\n",
    "print(samples[0, :])"
   ]
  },
  {
   "cell_type": "code",
   "execution_count": 21,
   "metadata": {},
   "outputs": [
    {
     "data": {
      "text/plain": [
       "(array([1.673e+00, 8.970e-01, 7.920e-01, 6.730e-01, 6.280e-01, 6.020e-01,\n",
       "        4.700e-01, 4.580e-01, 4.500e-01, 3.400e-01, 3.090e-01, 2.880e-01,\n",
       "        2.760e-01, 2.750e-01, 2.220e-01, 1.800e-01, 1.630e-01, 1.480e-01,\n",
       "        1.390e-01, 1.210e-01, 1.200e-01, 9.700e-02, 9.100e-02, 7.500e-02,\n",
       "        7.300e-02, 5.000e-02, 5.800e-02, 5.100e-02, 3.500e-02, 2.400e-02,\n",
       "        4.200e-02, 2.300e-02, 2.700e-02, 2.400e-02, 2.100e-02, 2.300e-02,\n",
       "        1.900e-02, 7.000e-03, 1.100e-02, 9.000e-03, 6.000e-03, 2.000e-03,\n",
       "        2.000e-03, 1.000e-03, 3.000e-03, 2.000e-03, 0.000e+00, 0.000e+00,\n",
       "        0.000e+00, 0.000e+00, 0.000e+00, 0.000e+00, 0.000e+00, 0.000e+00,\n",
       "        0.000e+00, 0.000e+00, 0.000e+00, 0.000e+00, 0.000e+00]),\n",
       " array([ 7. ,  7.1,  7.2,  7.3,  7.4,  7.5,  7.6,  7.7,  7.8,  7.9,  8. ,\n",
       "         8.1,  8.2,  8.3,  8.4,  8.5,  8.6,  8.7,  8.8,  8.9,  9. ,  9.1,\n",
       "         9.2,  9.3,  9.4,  9.5,  9.6,  9.7,  9.8,  9.9, 10. , 10.1, 10.2,\n",
       "        10.3, 10.4, 10.5, 10.6, 10.7, 10.8, 10.9, 11. , 11.1, 11.2, 11.3,\n",
       "        11.4, 11.5, 11.6, 11.7, 11.8, 11.9, 12. , 12.1, 12.2, 12.3, 12.4,\n",
       "        12.5, 12.6, 12.7, 12.8, 12.9]),\n",
       " <BarContainer object of 59 artists>)"
      ]
     },
     "execution_count": 21,
     "metadata": {},
     "output_type": "execute_result"
    },
    {
     "data": {
      "image/png": "[encoded data removed]",
      "text/plain": [
       "<Figure size 640x480 with 1 Axes>"
      ]
     },
     "metadata": {},
     "output_type": "display_data"
    }
   ],
   "source": [
    "zbins = np.arange(7, 13, 0.1)\n",
    "plt.hist(samples[:, 1], density=True, bins=zbins)"
   ]
  },
  {
   "cell_type": "code",
   "execution_count": 4,
   "metadata": {},
   "outputs": [
    {
     "data": {
      "text/plain": [
       "(100, 6)"
      ]
     },
     "execution_count": 4,
     "metadata": {},
     "output_type": "execute_result"
    }
   ],
   "source": [
    "from prospect.models import priors_beta as pb\n",
    "from scipy.stats import t\n",
    "import numpy as np\n",
    "\n",
    "nsamples = 100\n",
    "redshift = np.ones(nsamples)\n",
    "mass = np.ones(nsamples)*9.0\n",
    "log_sfr_rations_means = []\n",
    "for n in range(nsamples):\n",
    "    log_sfr_rations_means.append(pb.expe_logsfr_ratios(redshift[n], mass[n], -5.0, 5.0))\n",
    "\n",
    "logsfr_ratios_rvs = t.rvs(df=2, loc=log_sfr_rations_means, scale=0.3)\n",
    "logsfr_ratios_rvs = np.clip(logsfr_ratios_rvs, a_min=-5.0, a_max=5.0)\n",
    "\n",
    "logsfr_ratios_rvs.shape"
   ]
  },
  {
   "cell_type": "code",
   "execution_count": 11,
   "metadata": {},
   "outputs": [
    {
     "name": "stdout",
     "output_type": "stream",
     "text": [
      "(10000, 9)\n",
      "[ 1.12361915  7.32800715 -0.50024136  0.25693942  0.31371752 -0.27139574\n",
      " -0.57362704  1.62483976  1.27416985]\n",
      "[1.12361915 2.74358395 2.81386167 ... 1.28462396 2.88762443 4.20004886]\n"
     ]
    },
    {
     "data": {
      "text/plain": [
       "(array([ 11.,  47.,  87., 169., 197., 218., 228., 264., 282., 314., 274.,\n",
       "        281., 289., 256., 270., 249., 224., 237., 208., 186., 190., 183.,\n",
       "        172., 155., 167., 147., 152., 132., 158., 127., 127., 131., 118.,\n",
       "        117., 104., 104., 103.,  88., 116., 100., 111.,  88., 114., 102.,\n",
       "        115., 108.,  92., 106.,  99.,  91., 106.,  95., 102.,  96., 108.,\n",
       "        104.,  99., 102.,  78., 102., 106., 115., 104., 101.,  94., 100.,\n",
       "         98., 113.,  80.]),\n",
       " array([0. , 0.1, 0.2, 0.3, 0.4, 0.5, 0.6, 0.7, 0.8, 0.9, 1. , 1.1, 1.2,\n",
       "        1.3, 1.4, 1.5, 1.6, 1.7, 1.8, 1.9, 2. , 2.1, 2.2, 2.3, 2.4, 2.5,\n",
       "        2.6, 2.7, 2.8, 2.9, 3. , 3.1, 3.2, 3.3, 3.4, 3.5, 3.6, 3.7, 3.8,\n",
       "        3.9, 4. , 4.1, 4.2, 4.3, 4.4, 4.5, 4.6, 4.7, 4.8, 4.9, 5. , 5.1,\n",
       "        5.2, 5.3, 5.4, 5.5, 5.6, 5.7, 5.8, 5.9, 6. , 6.1, 6.2, 6.3, 6.4,\n",
       "        6.5, 6.6, 6.7, 6.8, 6.9]),\n",
       " <BarContainer object of 69 artists>)"
      ]
     },
     "execution_count": 11,
     "metadata": {},
     "output_type": "execute_result"
    },
    {
     "data": {
      "image/png": "[encoded data removed]",
      "text/plain": [
       "<Figure size 640x480 with 1 Axes>"
      ]
     },
     "metadata": {},
     "output_type": "display_data"
    }
   ],
   "source": [
    "from prospect.models import priors_beta as pb\n",
    "import numpy as np\n",
    "import matplotlib.pyplot as plt\n",
    "\n",
    "prior = pb.NzSFH(zred_mini=0.01, zred_maxi=7.0, mass_mini=7.0, mass_maxi=13.0,\n",
    "                z_mini=-2.5, z_maxi=0.5,\n",
    "                logsfr_ratio_mini=-5.0, logsfr_ratio_maxi=5.0,\n",
    "                logsfr_ratio_tscale=0.3, nbins_sfh=7,\n",
    "                const_phi=True)\n",
    "\n",
    "\n",
    "zbins = np.arange(0, 7, 0.1)\n",
    "\n",
    "nsamples = 10000\n",
    "prior_samples = []\n",
    "for i in range(nsamples):\n",
    "    prior_samples.append(prior.sample())\n",
    "\n",
    "samples = np.vstack(np.array(prior_samples))\n",
    "print(samples.shape) #z, mass, met, sfrs\n",
    "print(samples[0, :])\n",
    "print(samples[:, 0])\n",
    "plt.hist(samples[:, 0], bins=zbins)"
   ]
  }
 ],
 "metadata": {
  "kernelspec": {
   "display_name": "tfdt_env",
   "language": "python",
   "name": "python3"
  },
  "language_info": {
   "codemirror_mode": {
    "name": "ipython",
    "version": 3
   },
   "file_extension": ".py",
   "mimetype": "text/x-python",
   "name": "python",
   "nbconvert_exporter": "python",
   "pygments_lexer": "ipython3",
   "version": "3.11.9"
  }
 },
 "nbformat": 4,
 "nbformat_minor": 2
}
