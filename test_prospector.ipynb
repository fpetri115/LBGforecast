{
 "cells": [
  {
   "cell_type": "code",
   "execution_count": 1,
   "metadata": {},
   "outputs": [],
   "source": [
    "import os\n",
    "os.environ[\"SPS_HOME\"] = \"/Users/fpetri/packages/fsps\" "
   ]
  },
  {
   "cell_type": "code",
   "execution_count": 2,
   "metadata": {},
   "outputs": [],
   "source": [
    "import fsps\n",
    "import prospect\n",
    "import numpy as np\n",
    "import matplotlib.pyplot as plt\n",
    "from scipy.stats import dirichlet\n",
    "from astropy.cosmology import WMAP9 as cosmo"
   ]
  },
  {
   "cell_type": "code",
   "execution_count": 3,
   "metadata": {},
   "outputs": [
    {
     "name": "stdout",
     "output_type": "stream",
     "text": [
      "Free Parameters: (name: prior) \n",
      "-----------\n",
      "  logzsol: <class 'prospect.models.priors.TopHat'>(mini=-2,maxi=0.19)\n",
      "  dust2: <class 'prospect.models.priors.TopHat'>(mini=0.0,maxi=2.0)\n",
      "  z_fraction: <class 'prospect.models.priors.Beta'>(mini=0.0,maxi=1.0,alpha=1.0,beta=1.0)\n",
      "  total_mass: <class 'prospect.models.priors.LogUniform'>(mini=100000000.0,maxi=1000000000000.0)\n",
      "\n",
      "Fixed Parameters: (name: value [, depends_on]) \n",
      "-----------\n",
      "  zred: 0.1 \n",
      "  mass: 1.0 <function zfrac_to_masses at 0x17c12b7e0>\n",
      "  sfh: 3 \n",
      "  imf_type: 2 \n",
      "  dust_type: 0 \n",
      "  agebins: [[0.0, 8.0], [8.0, 9.0], [9.0, 10.0]] \n"
     ]
    }
   ],
   "source": [
    "from prospect.models.templates import TemplateLibrary\n",
    "TemplateLibrary.describe(\"dirichlet_sfh\")\n"
   ]
  },
  {
   "cell_type": "code",
   "execution_count": 4,
   "metadata": {},
   "outputs": [],
   "source": [
    "def convert_sfh(agebins, mformed, epsilon=1e-4, maxage=None):\n",
    "        \"\"\"Given arrays of agebins and formed masses with each bin, calculate a\n",
    "        tabular SFH.  The resulting time vector has time points either side of\n",
    "        each bin edge with a \"closeness\" defined by a parameter epsilon.\n",
    "\n",
    "        :param agebins:\n",
    "            An array of bin edges, log(yrs).  This method assumes that the\n",
    "            upper edge of one bin is the same as the lower edge of another bin.\n",
    "            ndarray of shape ``(nbin, 2)``\n",
    "\n",
    "        :param mformed:\n",
    "            The stellar mass formed in each bin.  ndarray of shape ``(nbin,)``\n",
    "\n",
    "        :param epsilon: (optional, default 1e-4)\n",
    "            A small number used to define the fraction time separation of\n",
    "            adjacent points at the bin edges.\n",
    "\n",
    "        :param maxage: (optional, default: ``None``)\n",
    "            A maximum age of stars in the population, in yrs.  If ``None`` then the maximum\n",
    "            value of ``agebins`` is used.  Note that an error will occur if maxage\n",
    "            < the maximum age in agebins.\n",
    "\n",
    "        :returns time:\n",
    "            The output time array for use with sfh=3, in Gyr.  ndarray of shape (2*N)\n",
    "\n",
    "        :returns sfr:\n",
    "            The output sfr array for use with sfh=3, in M_sun/yr.  ndarray of shape (2*N)\n",
    "\n",
    "        :returns maxage:\n",
    "            The maximum valid age in the returned isochrone.\n",
    "        \"\"\"\n",
    "        #### create time vector\n",
    "        agebins_yrs = 10**agebins.T\n",
    "        dt = agebins_yrs[1, :] - agebins_yrs[0, :]\n",
    "        bin_edges = np.unique(agebins_yrs)\n",
    "        if maxage is None:\n",
    "            maxage = agebins_yrs.max()  # can replace maxage with something else, e.g. tuniv\n",
    "        t = np.concatenate((bin_edges * (1.-epsilon), bin_edges * (1+epsilon)))\n",
    "        t.sort()\n",
    "        t = t[1:-1] # remove older than oldest bin, younger than youngest bin\n",
    "        fsps_time = maxage - t\n",
    "\n",
    "        #### calculate SFR at each t\n",
    "        sfr = mformed / dt\n",
    "        sfrout = np.zeros_like(t)\n",
    "        sfrout[::2] = sfr\n",
    "        sfrout[1::2] = sfr  # * (1+epsilon)\n",
    "\n",
    "        return (fsps_time / 1e9)[::-1], sfrout[::-1], maxage / 1e9"
   ]
  },
  {
   "cell_type": "code",
   "execution_count": 5,
   "metadata": {},
   "outputs": [],
   "source": [
    "def zfrac_to_masses(total_mass=None, z_fraction=None, agebins=None, **extras):\n",
    "    \"\"\"This transforms from independent dimensionless `z` variables to sfr\n",
    "    fractions and then to bin mass fractions. The transformation is such that\n",
    "    sfr fractions are drawn from a Dirichlet prior.  See Betancourt et al. 2010\n",
    "    and Leja et al. 2017\n",
    "\n",
    "    Parameters\n",
    "    ----------\n",
    "    total_mass : float\n",
    "        The total mass formed over all bins in the SFH.\n",
    "\n",
    "    z_fraction : ndarray of shape ``(Nbins-1,)``\n",
    "        latent variables drawn from a specific set of Beta distributions. (see\n",
    "        Betancourt 2010)\n",
    "\n",
    "    Returns\n",
    "    -------\n",
    "    masses : ndarray of shape ``(Nbins,)``\n",
    "        The stellar mass formed in each age bin.\n",
    "    \"\"\"\n",
    "    # sfr fractions\n",
    "    sfr_fraction = np.zeros(len(z_fraction) + 1)\n",
    "    sfr_fraction[0] = 1.0 - z_fraction[0]\n",
    "    for i in range(1, len(z_fraction)):\n",
    "        sfr_fraction[i] = np.prod(z_fraction[:i]) * (1.0 - z_fraction[i])\n",
    "    sfr_fraction[-1] = 1 - np.sum(sfr_fraction[:-1])\n",
    "\n",
    "    # convert to mass fractions\n",
    "    time_per_bin = np.diff(10**agebins, axis=-1)[:, 0]\n",
    "    mass_fraction = sfr_fraction * np.array(time_per_bin)\n",
    "    mass_fraction /= mass_fraction.sum()\n",
    "\n",
    "    if (mass_fraction < 0).any():\n",
    "        idx = mass_fraction < 0\n",
    "        if np.isclose(mass_fraction[idx],0,rtol=1e-8):\n",
    "            mass_fraction[idx] = 0.0\n",
    "        else:\n",
    "            raise ValueError('The input z_fractions are returning negative masses!')\n",
    "\n",
    "    masses = total_mass * mass_fraction\n",
    "    return masses\n"
   ]
  },
  {
   "cell_type": "code",
   "execution_count": 6,
   "metadata": {},
   "outputs": [],
   "source": [
    "def zred_to_agebins(zred=0.0, agebins=[], **extras):\n",
    "    \"\"\"Set the nonparameteric SFH age bins depending on the age of the universe\n",
    "    at ``zred``. The first bin is not altered and the last bin is always 15% of\n",
    "    the upper edge of the oldest bin, but the intervening bins are evenly\n",
    "    spaced in log(age).\n",
    "\n",
    "    Parameters\n",
    "    ----------\n",
    "    zred : float\n",
    "        Cosmological redshift.  This sets the age of the universe.\n",
    "\n",
    "    agebins :  ndarray of shape ``(nbin, 2)``\n",
    "        The SFH bin edges in log10(years).\n",
    "\n",
    "    Returns\n",
    "    -------\n",
    "    agebins : ndarray of shape ``(nbin, 2)``\n",
    "        The new SFH bin edges.\n",
    "    \"\"\"\n",
    "    tuniv = cosmo.age(zred).value * 1e9\n",
    "    tbinmax = tuniv * 0.85\n",
    "    ncomp = len(agebins)\n",
    "    agelims = list(agebins[0]) + np.linspace(agebins[1][1], np.log10(tbinmax), ncomp-2).tolist() + [np.log10(tuniv)]\n",
    "    return np.array([agelims[:-1], agelims[1:]]).T"
   ]
  },
  {
   "cell_type": "code",
   "execution_count": 71,
   "metadata": {},
   "outputs": [],
   "source": [
    "def zfrac_to_sfr(total_mass=None, z_fraction=None, agebins=None, **extras):\n",
    "    \"\"\"This transforms from independent dimensionless `z` variables to SFRs.\n",
    "\n",
    "    :returns sfrs:\n",
    "        The SFR in each age bin (msun/yr).\n",
    "    \"\"\"\n",
    "    time_per_bin = np.diff(10**agebins, axis=-1)[:, 0]\n",
    "    masses = zfrac_to_masses(total_mass, z_fraction, agebins)\n",
    "    return masses / time_per_bin\n",
    "\n",
    "def mwa(sfrs, total_mass_formed, agebins):\n",
    "    \"\"\"mass-weighted age, vectorized\n",
    "    \"\"\"\n",
    "    ages = 10**(agebins)\n",
    "    dtsq = (ages[:, 1]**2 - ages[:, 0]**2) / 2\n",
    "    mwa = [(dtsq * sfr).sum() / mass\n",
    "           for sfr, mass in zip(sfrs, total_mass_formed)]\n",
    "    return np.array(mwa) / 1e9\n",
    "\n",
    "\n",
    "def mwa(sfrs, agebins, mass):\n",
    "\n",
    "    ages = 10**(agebins)\n",
    "    t = (ages[:, 1] - ages[:, 0])/2 + ages[:, 0] #midpoint\n",
    "    t_grid = np.linspace(ages[0,0], ages[-1,1], 100)\n",
    "    sfrs_interp = np.interp(t_grid, t, sfrs)\n",
    "    plt.plot(t, sfrs)\n",
    "    plt.plot(t_grid, sfrs_interp)\n",
    "\n",
    "    return (10**-9)*np.trapz(sfrs_interp*t_grid, t_grid)/mass"
   ]
  },
  {
   "cell_type": "code",
   "execution_count": 8,
   "metadata": {},
   "outputs": [],
   "source": [
    "#Dirichlet prior\n",
    "def generate_tabulated_sfh(redshift, concentration_parameter, total_mass_formed):\n",
    "    #look back time\n",
    "    age_bins = np.log10(np.array([[10**-9, 30*0.001],\n",
    "                        [30*0.001, 100*0.001],\n",
    "                        [100*0.001, 330*0.001],  \n",
    "                        [330*0.001, 1.1], \n",
    "                        [1.1, 3.6],\n",
    "                        [3.6, 11.7],\n",
    "                        [11.7, 13.7]])*10**9)\n",
    "    #age_bins = zred_to_agebins(redshift, age_bins)\n",
    "    nbins = len(age_bins)\n",
    "    alphas = np.ones((nbins-1,))*concentration_parameter\n",
    "    z_fractions = dirichlet(alphas).rvs().reshape((nbins-1,))\n",
    "    masses_formed = zfrac_to_masses(total_mass_formed, z_fractions, age_bins)\n",
    "    sf_grid, sfrs, maxage = convert_sfh(age_bins, masses_formed)\n",
    "\n",
    "    return [sf_grid, sfrs, maxage]\n",
    "\n",
    "#Dirichlet prior\n",
    "def generate_sfh(redshift, concentration_parameter, total_mass_formed):\n",
    "    age_bins = np.log10(np.array([[10**-9, 30*0.001],\n",
    "                        [30*0.001, 100*0.001],\n",
    "                        [100*0.001, 330*0.001],  \n",
    "                        [330*0.001, 1.1], \n",
    "                        [1.1, 3.6],\n",
    "                        [3.6, 11.7],\n",
    "                        [11.7, 13.7]])*10**9)\n",
    "    #age_bins = zred_to_agebins(redshift, age_bins)\n",
    "    nbins = len(age_bins)\n",
    "    alphas = np.ones((nbins-1,))*concentration_parameter\n",
    "    z_fractions = dirichlet(alphas).rvs().reshape((nbins-1,))\n",
    "    sfh = zfrac_to_sfr(total_mass_formed, z_fractions, age_bins)\n",
    "\n",
    "    return [sfh, age_bins]\n",
    "\n"
   ]
  },
  {
   "cell_type": "code",
   "execution_count": 9,
   "metadata": {},
   "outputs": [],
   "source": [
    "def generate_multiple_tabulated_sfh(nsamples, redshift, concentration_parameter, total_mass_formed):\n",
    "\n",
    "    i = 0\n",
    "    sfhs = []\n",
    "    while(i < nsamples):\n",
    "        sfh_outputs = generate_tabulated_sfh(redshift, concentration_parameter, total_mass_formed)\n",
    "        sfhs.append(sfh_outputs[1])\n",
    "        i+=1\n",
    "\n",
    "    grid = sfh_outputs[0]\n",
    "\n",
    "    return [np.asarray(sfhs), grid]\n",
    "\n",
    "def generate_multiple_sfh(nsamples, redshift, concentration_parameter, total_mass_formed):\n",
    "\n",
    "    i = 0\n",
    "    sfhs = []\n",
    "    while(i < nsamples):\n",
    "        sfh_outputs = generate_sfh(redshift, concentration_parameter, total_mass_formed)\n",
    "        sfhs.append(sfh_outputs[0])\n",
    "        i+=1\n",
    "\n",
    "    bins = sfh_outputs[1]\n",
    "\n",
    "    return [np.asarray(sfhs), bins]\n",
    "\n"
   ]
  },
  {
   "cell_type": "code",
   "execution_count": 10,
   "metadata": {},
   "outputs": [
    {
     "data": {
      "text/plain": [
       "Text(0, 0.5, '$M_{\\\\mathrm{sun}}$yr$^{-1}$')"
      ]
     },
     "execution_count": 10,
     "metadata": {},
     "output_type": "execute_result"
    },
    {
     "data": {
      "image/png": "[encoded data removed]",
      "text/plain": [
       "<Figure size 640x480 with 1 Axes>"
      ]
     },
     "metadata": {},
     "output_type": "display_data"
    }
   ],
   "source": [
    "sf_grid, sfrs, maxage = generate_tabulated_sfh(0.01, 1.0, 10**10)\n",
    "plt.plot(sf_grid, sfrs)\n",
    "plt.xlabel(\"$t$ Gyr\")\n",
    "plt.ylabel(\"$M_{\\mathrm{sun}}$yr$^{-1}$\")"
   ]
  },
  {
   "cell_type": "code",
   "execution_count": 63,
   "metadata": {},
   "outputs": [
    {
     "data": {
      "text/plain": [
       "0.21425833555899848"
      ]
     },
     "execution_count": 63,
     "metadata": {},
     "output_type": "execute_result"
    }
   ],
   "source": [
    "mass_formed = 10**10\n",
    "sfhs = generate_multiple_sfh(1, 0.01, 1.0, mass_formed)\n",
    "ages = mwa(np.reshape(sfhs[0], (sfhs[0].shape[1],)), sfhs[1], mass_formed)\n",
    "ages"
   ]
  },
  {
   "cell_type": "code",
   "execution_count": 73,
   "metadata": {},
   "outputs": [
    {
     "data": {
      "image/png": "[encoded data removed]",
      "text/plain": [
       "<Figure size 640x480 with 1 Axes>"
      ]
     },
     "metadata": {},
     "output_type": "display_data"
    }
   ],
   "source": [
    "i = 0\n",
    "ages = []\n",
    "while(i < 5):\n",
    "    sfhs = generate_multiple_sfh(1, 0.01, 1.0, mass_formed)\n",
    "    ages.append(mwa(np.reshape(sfhs[0], (sfhs[0].shape[1],)), sfhs[1], mass_formed))\n",
    "    i+=1"
   ]
  },
  {
   "cell_type": "code",
   "execution_count": 67,
   "metadata": {},
   "outputs": [
    {
     "data": {
      "text/plain": [
       "(array([251., 224., 188., 123.,  87.,  66.,  34.,  17.,   7.,   3.]),\n",
       " array([8.09254856e-05, 9.76425413e-02, 1.95204157e-01, 2.92765773e-01,\n",
       "        3.90327389e-01, 4.87889005e-01, 5.85450620e-01, 6.83012236e-01,\n",
       "        7.80573852e-01, 8.78135468e-01, 9.75697084e-01]),\n",
       " <BarContainer object of 10 artists>)"
      ]
     },
     "execution_count": 67,
     "metadata": {},
     "output_type": "execute_result"
    },
    {
     "data": {
      "image/png": "[encoded data removed]",
      "text/plain": [
       "<Figure size 640x480 with 1 Axes>"
      ]
     },
     "metadata": {},
     "output_type": "display_data"
    }
   ],
   "source": [
    "plt.hist(ages)"
   ]
  }
 ],
 "metadata": {
  "kernelspec": {
   "display_name": "tensorflow",
   "language": "python",
   "name": "tf_env"
  },
  "language_info": {
   "codemirror_mode": {
    "name": "ipython",
    "version": 3
   },
   "file_extension": ".py",
   "mimetype": "text/x-python",
   "name": "python",
   "nbconvert_exporter": "python",
   "pygments_lexer": "ipython3",
   "version": "3.11.0"
  }
 },
 "nbformat": 4,
 "nbformat_minor": 2
}
