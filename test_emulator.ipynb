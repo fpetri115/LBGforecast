{
 "cells": [
  {
   "cell_type": "code",
   "execution_count": 1,
   "metadata": {},
   "outputs": [],
   "source": [
    "import os\n",
    "os.environ[\"SPS_HOME\"] = \"/Users/fpetri/packages/fsps\" "
   ]
  },
  {
   "cell_type": "code",
   "execution_count": 2,
   "metadata": {},
   "outputs": [],
   "source": [
    "import numpy as np\n",
    "import speculator\n",
    "from speculator import  Photulator\n",
    "from speculator import train_photulator_stack\n",
    "import fsps"
   ]
  },
  {
   "cell_type": "code",
   "execution_count": 3,
   "metadata": {},
   "outputs": [],
   "source": [
    "# architecture\n",
    "n_layers = 4\n",
    "n_units = 128"
   ]
  },
  {
   "cell_type": "code",
   "execution_count": 4,
   "metadata": {},
   "outputs": [
    {
     "data": {
      "text/plain": [
       "['lsst_u',\n",
       " 'lsst_g',\n",
       " 'lsst_r',\n",
       " 'lsst_i',\n",
       " 'lsst_z',\n",
       " 'lsst_y',\n",
       " 'suprimecam_g',\n",
       " 'suprimecam_r',\n",
       " 'suprimecam_i',\n",
       " 'suprimecam_z']"
      ]
     },
     "execution_count": 4,
     "metadata": {},
     "output_type": "execute_result"
    }
   ],
   "source": [
    "filter_list = fsps.find_filter('lsst') + fsps.find_filter('suprimecam')[1:2]+fsps.find_filter('suprimecam')[3:]\n",
    "filter_list"
   ]
  },
  {
   "cell_type": "code",
   "execution_count": 5,
   "metadata": {},
   "outputs": [
    {
     "ename": "NameError",
     "evalue": "name 'training_theta' is not defined",
     "output_type": "error",
     "traceback": [
      "\u001b[0;31m---------------------------------------------------------------------------\u001b[0m",
      "\u001b[0;31mNameError\u001b[0m                                 Traceback (most recent call last)",
      "\u001b[1;32m/Users/fpetri/repos/LBGforecast/test_emulator.ipynb Cell 5\u001b[0m line \u001b[0;36m1\n\u001b[0;32m----> <a href='vscode-notebook-cell:/Users/fpetri/repos/LBGforecast/test_emulator.ipynb#W4sZmlsZQ%3D%3D?line=0'>1</a>\u001b[0m train_photulator_stack(training_theta, \n\u001b[1;32m      <a href='vscode-notebook-cell:/Users/fpetri/repos/LBGforecast/test_emulator.ipynb#W4sZmlsZQ%3D%3D?line=1'>2</a>\u001b[0m                        training_mag[:,select:], \n\u001b[1;32m      <a href='vscode-notebook-cell:/Users/fpetri/repos/LBGforecast/test_emulator.ipynb#W4sZmlsZQ%3D%3D?line=2'>3</a>\u001b[0m                        parameters_shift, \n\u001b[1;32m      <a href='vscode-notebook-cell:/Users/fpetri/repos/LBGforecast/test_emulator.ipynb#W4sZmlsZQ%3D%3D?line=3'>4</a>\u001b[0m                        parameters_scale, \n\u001b[1;32m      <a href='vscode-notebook-cell:/Users/fpetri/repos/LBGforecast/test_emulator.ipynb#W4sZmlsZQ%3D%3D?line=4'>5</a>\u001b[0m                        magnitudes_shift[select:], \n\u001b[1;32m      <a href='vscode-notebook-cell:/Users/fpetri/repos/LBGforecast/test_emulator.ipynb#W4sZmlsZQ%3D%3D?line=5'>6</a>\u001b[0m                        magnitudes_scale[select:],\n\u001b[1;32m      <a href='vscode-notebook-cell:/Users/fpetri/repos/LBGforecast/test_emulator.ipynb#W4sZmlsZQ%3D%3D?line=6'>7</a>\u001b[0m                        filters\u001b[39m=\u001b[39mfilters[select:],\n\u001b[1;32m      <a href='vscode-notebook-cell:/Users/fpetri/repos/LBGforecast/test_emulator.ipynb#W4sZmlsZQ%3D%3D?line=7'>8</a>\u001b[0m                        n_layers\u001b[39m=\u001b[39mn_layers,\n\u001b[1;32m      <a href='vscode-notebook-cell:/Users/fpetri/repos/LBGforecast/test_emulator.ipynb#W4sZmlsZQ%3D%3D?line=8'>9</a>\u001b[0m                        n_units\u001b[39m=\u001b[39mn_units,\n\u001b[1;32m     <a href='vscode-notebook-cell:/Users/fpetri/repos/LBGforecast/test_emulator.ipynb#W4sZmlsZQ%3D%3D?line=9'>10</a>\u001b[0m                        validation_split\u001b[39m=\u001b[39mvalidation_split,\n\u001b[1;32m     <a href='vscode-notebook-cell:/Users/fpetri/repos/LBGforecast/test_emulator.ipynb#W4sZmlsZQ%3D%3D?line=10'>11</a>\u001b[0m                        lr\u001b[39m=\u001b[39mlr,\n\u001b[1;32m     <a href='vscode-notebook-cell:/Users/fpetri/repos/LBGforecast/test_emulator.ipynb#W4sZmlsZQ%3D%3D?line=11'>12</a>\u001b[0m                        batch_size\u001b[39m=\u001b[39mbatch_size,\n\u001b[1;32m     <a href='vscode-notebook-cell:/Users/fpetri/repos/LBGforecast/test_emulator.ipynb#W4sZmlsZQ%3D%3D?line=12'>13</a>\u001b[0m                        gradient_accumulation_steps\u001b[39m=\u001b[39mgradient_accumulation_steps,\n\u001b[1;32m     <a href='vscode-notebook-cell:/Users/fpetri/repos/LBGforecast/test_emulator.ipynb#W4sZmlsZQ%3D%3D?line=13'>14</a>\u001b[0m                        epochs\u001b[39m=\u001b[39mepochs,\n\u001b[1;32m     <a href='vscode-notebook-cell:/Users/fpetri/repos/LBGforecast/test_emulator.ipynb#W4sZmlsZQ%3D%3D?line=14'>15</a>\u001b[0m                        patience\u001b[39m=\u001b[39mpatience,\n\u001b[1;32m     <a href='vscode-notebook-cell:/Users/fpetri/repos/LBGforecast/test_emulator.ipynb#W4sZmlsZQ%3D%3D?line=15'>16</a>\u001b[0m                        verbose\u001b[39m=\u001b[39m\u001b[39mTrue\u001b[39;00m, \n\u001b[1;32m     <a href='vscode-notebook-cell:/Users/fpetri/repos/LBGforecast/test_emulator.ipynb#W4sZmlsZQ%3D%3D?line=16'>17</a>\u001b[0m                        root_dir\u001b[39m=\u001b[39mroot_dir \u001b[39m+\u001b[39m \u001b[39m'\u001b[39m\u001b[39mtrained_models/\u001b[39m\u001b[39m'\u001b[39m)\n",
      "\u001b[0;31mNameError\u001b[0m: name 'training_theta' is not defined"
     ]
    }
   ],
   "source": [
    "train_photulator_stack(training_theta, \n",
    "                       training_mag[:,select:], \n",
    "                       parameters_shift, \n",
    "                       parameters_scale, \n",
    "                       magnitudes_shift[select:], \n",
    "                       magnitudes_scale[select:],\n",
    "                       filters=filters[select:],\n",
    "                       n_layers=n_layers,\n",
    "                       n_units=n_units,\n",
    "                       validation_split=validation_split,\n",
    "                       lr=lr,\n",
    "                       batch_size=batch_size,\n",
    "                       gradient_accumulation_steps=gradient_accumulation_steps,\n",
    "                       epochs=epochs,\n",
    "                       patience=patience,\n",
    "                       verbose=True, \n",
    "                       root_dir=root_dir + 'trained_models/')"
   ]
  }
 ],
 "metadata": {
  "kernelspec": {
   "display_name": "emulator_env",
   "language": "python",
   "name": "python3"
  },
  "language_info": {
   "codemirror_mode": {
    "name": "ipython",
    "version": 3
   },
   "file_extension": ".py",
   "mimetype": "text/x-python",
   "name": "python",
   "nbconvert_exporter": "python",
   "pygments_lexer": "ipython3",
   "version": "3.11.5"
  },
  "orig_nbformat": 4
 },
 "nbformat": 4,
 "nbformat_minor": 2
}
