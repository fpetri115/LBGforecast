{
 "cells": [
  {
   "cell_type": "code",
   "execution_count": 1,
   "metadata": {},
   "outputs": [],
   "source": [
    "import os\n",
    "os.environ[\"SPS_HOME\"] = \"/Users/fpetri/packages/fsps\" "
   ]
  },
  {
   "cell_type": "code",
   "execution_count": 2,
   "metadata": {},
   "outputs": [],
   "source": [
    "import numpy as np\n",
    "import speculator\n",
    "from speculator import  Photulator\n",
    "import fsps\n",
    "import matplotlib.pyplot as plt\n",
    "import torch\n",
    "import torch.nn as nn"
   ]
  },
  {
   "cell_type": "code",
   "execution_count": 3,
   "metadata": {},
   "outputs": [],
   "source": [
    "# architecture\n",
    "n_layers = 4\n",
    "n_units = 128"
   ]
  },
  {
   "cell_type": "code",
   "execution_count": 4,
   "metadata": {},
   "outputs": [
    {
     "data": {
      "text/plain": [
       "['lsst_u',\n",
       " 'lsst_g',\n",
       " 'lsst_r',\n",
       " 'lsst_i',\n",
       " 'lsst_z',\n",
       " 'lsst_y',\n",
       " 'suprimecam_g',\n",
       " 'suprimecam_r',\n",
       " 'suprimecam_i',\n",
       " 'suprimecam_z']"
      ]
     },
     "execution_count": 4,
     "metadata": {},
     "output_type": "execute_result"
    }
   ],
   "source": [
    "filter_list = fsps.find_filter('lsst') + fsps.find_filter('suprimecam')[1:2]+fsps.find_filter('suprimecam')[3:]\n",
    "filter_list"
   ]
  },
  {
   "cell_type": "code",
   "execution_count": 5,
   "metadata": {},
   "outputs": [
    {
     "name": "stdout",
     "output_type": "stream",
     "text": [
      "(1000000, 15) (1000000, 10)\n"
     ]
    }
   ],
   "source": [
    "spsparams = np.load(\"data/data/training_params.npy\")[:1000000]\n",
    "photometry = np.load(\"data/data/training_data.npy\")[:1000000]\n",
    "print(spsparams.shape, photometry.shape)"
   ]
  },
  {
   "cell_type": "code",
   "execution_count": 6,
   "metadata": {},
   "outputs": [],
   "source": [
    "# parameters shift and scale\n",
    "parameters_shift = np.mean(spsparams, axis=0)\n",
    "parameters_scale = np.std(spsparams, axis=0)\n",
    "magnitudes_shift = np.mean(photometry, axis=0)\n",
    "magnitudes_scale = np.std(photometry, axis=0)"
   ]
  },
  {
   "cell_type": "code",
   "execution_count": 7,
   "metadata": {},
   "outputs": [],
   "source": [
    "device='cpu'\n",
    "training_theta = torch.from_numpy(spsparams).float().to(device)\n",
    "training_mags = torch.from_numpy(photometry[:,0]).float().to(device)"
   ]
  },
  {
   "cell_type": "code",
   "execution_count": 8,
   "metadata": {},
   "outputs": [],
   "source": [
    "n_parameters = spsparams.shape[-1]\n",
    "n_layers=4\n",
    "n_units=128\n",
    "n_hidden = [n_units]*n_layers"
   ]
  },
  {
   "cell_type": "code",
   "execution_count": 9,
   "metadata": {},
   "outputs": [],
   "source": [
    "#model for lsst u\n",
    "photulator = Photulator(n_parameters=n_parameters,\n",
    "                           filters=[filter_list[0]],\n",
    "                           parameters_shift=parameters_shift,\n",
    "                           parameters_scale=parameters_scale,\n",
    "                           magnitudes_shift=magnitudes_shift[0],\n",
    "                           magnitudes_scale=magnitudes_scale[0],\n",
    "                           n_hidden=n_hidden,\n",
    "                           optimizer=lambda x: torch.optim.Adam(x, lr=1e-3),\n",
    "                           device=device)\n"
   ]
  },
  {
   "cell_type": "code",
   "execution_count": 10,
   "metadata": {},
   "outputs": [],
   "source": [
    "#create dataset\n",
    "training_dataset = torch.utils.data.TensorDataset(training_theta, training_mags)\n",
    "training_data, validation_data = torch.utils.data.random_split(training_dataset, [0.90, 0.1])\n",
    "validation_theta, validation_mag = validation_data[:]\n",
    "\n",
    "trainloader = torch.utils.data.DataLoader(training_data, batch_size=1000,\n",
    "                                          shuffle=True)\n",
    "\n"
   ]
  },
  {
   "cell_type": "code",
   "execution_count": 11,
   "metadata": {},
   "outputs": [],
   "source": [
    "optimiser = torch.optim.Adam(photulator.parameters(), lr=1e-3)"
   ]
  },
  {
   "cell_type": "code",
   "execution_count": 12,
   "metadata": {},
   "outputs": [
    {
     "name": "stdout",
     "output_type": "stream",
     "text": [
      "epoch  0\n",
      "0\n",
      "100\n",
      "200\n",
      "300\n",
      "400\n",
      "500\n",
      "600\n",
      "700\n",
      "800\n",
      "epoch  1\n",
      "0\n",
      "100\n",
      "200\n",
      "300\n",
      "400\n",
      "500\n",
      "600\n",
      "700\n",
      "800\n",
      "epoch  2\n",
      "0\n",
      "100\n",
      "200\n",
      "300\n",
      "400\n",
      "500\n",
      "600\n",
      "700\n",
      "800\n",
      "epoch  3\n",
      "0\n",
      "100\n",
      "200\n",
      "300\n",
      "400\n",
      "500\n",
      "600\n",
      "700\n",
      "800\n",
      "epoch  4\n",
      "0\n",
      "100\n",
      "200\n",
      "300\n",
      "400\n",
      "500\n",
      "600\n",
      "700\n",
      "800\n",
      "epoch  5\n",
      "0\n",
      "100\n",
      "200\n",
      "300\n",
      "400\n",
      "500\n",
      "600\n",
      "700\n",
      "800\n",
      "epoch  6\n",
      "0\n",
      "100\n",
      "200\n",
      "300\n",
      "400\n",
      "500\n",
      "600\n",
      "700\n",
      "800\n",
      "epoch  7\n",
      "0\n",
      "100\n",
      "200\n",
      "300\n",
      "400\n",
      "500\n",
      "600\n",
      "700\n",
      "800\n",
      "epoch  8\n",
      "0\n",
      "100\n",
      "200\n",
      "300\n",
      "400\n",
      "500\n",
      "600\n",
      "700\n",
      "800\n",
      "epoch  9\n",
      "0\n",
      "100\n",
      "200\n",
      "300\n",
      "400\n",
      "500\n",
      "600\n",
      "700\n",
      "800\n"
     ]
    }
   ],
   "source": [
    "j = 0\n",
    "loss_list = []\n",
    "validation_loss = []\n",
    "#loop over dataset multiple times\n",
    "for epoch in range(10):\n",
    "    print(\"epoch \", j)\n",
    "    #loops over batches\n",
    "    i = 0\n",
    "    for th, mgs in trainloader:\n",
    "\n",
    "        # zero the parameter gradients\n",
    "        optimiser.zero_grad()\n",
    "\n",
    "        th.to(device)\n",
    "        mgs.to(device)\n",
    "\n",
    "        loss = photulator.compute_loss(th, mgs)\n",
    "        loss.backward()\n",
    "        optimiser.step()\n",
    "        \n",
    "        loss_list.append(loss.item())\n",
    "\n",
    "        if(i%100 == 0):\n",
    "            print(i)\n",
    "        i+=1\n",
    "    \n",
    "    validation_loss.append(photulator.compute_loss(validation_theta, torch.reshape(validation_mag, (validation_mag.shape[0], 1))).cpu().detach().numpy())\n",
    "    j+=1"
   ]
  },
  {
   "cell_type": "code",
   "execution_count": 13,
   "metadata": {},
   "outputs": [
    {
     "data": {
      "image/png": "[encoded data removed]",
      "text/plain": [
       "<Figure size 640x480 with 1 Axes>"
      ]
     },
     "metadata": {},
     "output_type": "display_data"
    }
   ],
   "source": [
    "plt.plot(loss_list)\n",
    "plt.ylabel('loss (training)')\n",
    "plt.xlabel('batches')\n",
    "plt.yscale(\"log\")"
   ]
  },
  {
   "cell_type": "code",
   "execution_count": 14,
   "metadata": {},
   "outputs": [
    {
     "data": {
      "text/plain": [
       "Text(0.5, 0, 'epoch')"
      ]
     },
     "execution_count": 14,
     "metadata": {},
     "output_type": "execute_result"
    },
    {
     "data": {
      "image/png": "[encoded data removed]",
      "text/plain": [
       "<Figure size 640x480 with 1 Axes>"
      ]
     },
     "metadata": {},
     "output_type": "display_data"
    }
   ],
   "source": [
    "plt.plot(validation_loss)\n",
    "plt.ylabel('loss (validation)')\n",
    "plt.xlabel('epoch')"
   ]
  }
 ],
 "metadata": {
  "kernelspec": {
   "display_name": "emulator_env",
   "language": "python",
   "name": "python3"
  },
  "language_info": {
   "codemirror_mode": {
    "name": "ipython",
    "version": 3
   },
   "file_extension": ".py",
   "mimetype": "text/x-python",
   "name": "python",
   "nbconvert_exporter": "python",
   "pygments_lexer": "ipython3",
   "version": "3.11.6"
  },
  "orig_nbformat": 4
 },
 "nbformat": 4,
 "nbformat_minor": 2
}
