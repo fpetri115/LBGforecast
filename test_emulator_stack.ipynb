{
 "cells": [
  {
   "cell_type": "code",
   "execution_count": 1,
   "metadata": {},
   "outputs": [],
   "source": [
    "import os\n",
    "os.environ[\"SPS_HOME\"] = \"/Users/fpetri/packages/fsps\" "
   ]
  },
  {
   "cell_type": "code",
   "execution_count": 2,
   "metadata": {},
   "outputs": [],
   "source": [
    "import numpy as np\n",
    "from speculator import Photulator\n",
    "import fsps\n",
    "import matplotlib.pyplot as plt\n",
    "import torch\n",
    "import torch.nn as nn"
   ]
  },
  {
   "cell_type": "code",
   "execution_count": 3,
   "metadata": {},
   "outputs": [
    {
     "data": {
      "text/plain": [
       "['lsst_u',\n",
       " 'lsst_g',\n",
       " 'lsst_r',\n",
       " 'lsst_i',\n",
       " 'lsst_z',\n",
       " 'lsst_y',\n",
       " 'suprimecam_g',\n",
       " 'suprimecam_r',\n",
       " 'suprimecam_i',\n",
       " 'suprimecam_z']"
      ]
     },
     "execution_count": 3,
     "metadata": {},
     "output_type": "execute_result"
    }
   ],
   "source": [
    "filters = fsps.find_filter('lsst') + fsps.find_filter('suprimecam')[1:2]+fsps.find_filter('suprimecam')[3:]\n",
    "print(filters)"
   ]
  },
  {
   "cell_type": "code",
   "execution_count": 4,
   "metadata": {},
   "outputs": [
    {
     "name": "stdout",
     "output_type": "stream",
     "text": [
      "(1000000, 15) (1000000, 10)\n"
     ]
    }
   ],
   "source": [
    "#training data\n",
    "spsparams = np.load(\"data/data/training_params.npy\")[:1000000]\n",
    "photometry = np.load(\"data/data/training_data.npy\")[:1000000]\n",
    "print(spsparams.shape, photometry.shape)\n",
    "\n",
    "# parameters shift and scale\n",
    "parameters_shift = np.mean(spsparams, axis=0)\n",
    "parameters_scale = np.std(spsparams, axis=0)\n",
    "magnitudes_shift = np.mean(photometry, axis=0)\n",
    "magnitudes_scale = np.std(photometry, axis=0)"
   ]
  },
  {
   "cell_type": "code",
   "execution_count": 6,
   "metadata": {},
   "outputs": [],
   "source": [
    "# devices\n",
    "device='cpu'\n",
    "all_on_device = True\n",
    "training_theta = torch.from_numpy(spsparams).float().to(device)\n",
    "training_mag = torch.from_numpy(photometry).float().to(device)"
   ]
  },
  {
   "cell_type": "code",
   "execution_count": 7,
   "metadata": {},
   "outputs": [],
   "source": [
    "#inputs\n",
    "n_parameters = spsparams.shape[-1]\n",
    "n_layers=4\n",
    "n_units=128"
   ]
  },
  {
   "cell_type": "code",
   "execution_count": 8,
   "metadata": {},
   "outputs": [
    {
     "name": "stdout",
     "output_type": "stream",
     "text": [
      "filter lsst_u...\n",
      "learning rate = 0.001, batch size = 1000\n",
      "Validation loss = 0.20265715\n",
      "learning rate = 0.0001, batch size = 10000\n",
      "Validation loss = 0.12367343\n",
      "learning rate = 1e-05, batch size = 50000\n",
      "Validation loss = 0.11252295\n",
      "learning rate = 1e-06, batch size = 1000000\n",
      "Validation loss = 0.11554267\n"
     ]
    }
   ],
   "source": [
    "#settings \n",
    "verbose = True\n",
    "filter = 0\n",
    "optimizer = lambda x: torch.optim.Adam(x, lr=1e-3)\n",
    "lr=[1e-3, 1e-4, 1e-5, 1e-6]\n",
    "batch_size=[1000, 10000, 50000, 1000000]\n",
    "validation_split=0.1\n",
    "patience=20\n",
    "maxbatch = 10000\n",
    "root_dir=''\n",
    "\n",
    "# put the training data all on the device if we want it there\n",
    "if all_on_device:\n",
    "    training_theta = training_theta.to(device)\n",
    "    training_mag = training_mag.to(device)\n",
    "\n",
    "# architecture\n",
    "n_hidden = [n_units]*n_layers\n",
    "\n",
    "# train one band\n",
    "f =  filter\n",
    "\n",
    "if verbose is True:\n",
    "    print('filter ' + filters[f] + '...')\n",
    "\n",
    "# construct the PHOTULATOR model\n",
    "photulator = Photulator(n_parameters=training_theta.shape[-1],\n",
    "                    filters=[filters[f]],\n",
    "                    parameters_shift=parameters_shift,\n",
    "                    parameters_scale=parameters_scale,\n",
    "                    magnitudes_shift=magnitudes_shift[f],\n",
    "                    magnitudes_scale=magnitudes_scale[f],\n",
    "                    n_hidden=[n_units]*n_layers,\n",
    "                    optimizer=optimizer,\n",
    "                    device=device)\n",
    "\n",
    "# train using cooling/heating schedule for lr/batch-size\n",
    "for i in range(len(lr)):\n",
    "\n",
    "    if verbose is True:\n",
    "        print('learning rate = ' + str(lr[i]) + ', batch size = ' + str(batch_size[i]))\n",
    "\n",
    "    # set learning rate\n",
    "    optimizer_state_dict = photulator.optimizer.state_dict()\n",
    "    optimizer_state_dict['param_groups'][0]['lr'] = lr[i]\n",
    "    photulator.optimizer.load_state_dict(optimizer_state_dict)\n",
    "\n",
    "    # dataset and dataloader\n",
    "    dataset = torch.utils.data.TensorDataset(training_theta, torch.unsqueeze(training_mag[:,f],-1))\n",
    "    training_data, validation_data = torch.utils.data.random_split(dataset, [int(len(dataset)*(1.-validation_split)), len(dataset) - int(len(dataset)*(1.-validation_split))])\n",
    "    training_dataloader = torch.utils.data.DataLoader(training_data, shuffle=True, batch_size=batch_size[i])\n",
    "\n",
    "    # set up training loss\n",
    "    training_loss = [np.infty]\n",
    "    validation_loss = [np.infty]\n",
    "    best_loss = np.infty\n",
    "    best_state = photulator.state_dict()\n",
    "    patience_counter = 0\n",
    "\n",
    "    # loop over epochs\n",
    "    while patience_counter < patience:\n",
    "\n",
    "        # loop over batches for a single epoch\n",
    "        for theta, mag in training_dataloader:\n",
    "\n",
    "            # move to correct device\n",
    "            theta.to(device)\n",
    "            mag.to(device)\n",
    "\n",
    "            # training step\n",
    "            loss = photulator.training_step(theta, mag, maxbatch=maxbatch)\n",
    "\n",
    "        # compute total loss and validation loss\n",
    "        validation_theta, validation_mag = validation_data[:]\n",
    "        validation_loss.append(photulator.compute_loss(validation_theta, validation_mag).cpu().detach().numpy())\n",
    "\n",
    "        # early stopping condition\n",
    "        if validation_loss[-1] < best_loss:\n",
    "            best_loss = validation_loss[-1]\n",
    "            best_state = photulator.state_dict()\n",
    "            patience_counter = 0\n",
    "        else:\n",
    "            patience_counter += 1\n",
    "        if patience_counter >= patience:\n",
    "            photulator.load_state_dict(best_state)\n",
    "            torch.save(photulator, root_dir + 'model_{}x{}_'.format(n_layers, n_units) + filters[f] + '.pt')\n",
    "            if verbose is True:\n",
    "                print('Validation loss = ' + str(best_loss))\n",
    "            break\n",
    "\n",
    "# save CPU version of the model by default\n",
    "photulator.set_device('cpu')\n",
    "torch.save(photulator, root_dir + 'model_{}x{}_'.format(n_layers, n_units) + filters[f] + '.pt')"
   ]
  }
 ],
 "metadata": {
  "kernelspec": {
   "display_name": "emulator_env",
   "language": "python",
   "name": "python3"
  },
  "language_info": {
   "codemirror_mode": {
    "name": "ipython",
    "version": 3
   },
   "file_extension": ".py",
   "mimetype": "text/x-python",
   "name": "python",
   "nbconvert_exporter": "python",
   "pygments_lexer": "ipython3",
   "version": "3.11.6"
  },
  "orig_nbformat": 4
 },
 "nbformat": 4,
 "nbformat_minor": 2
}
