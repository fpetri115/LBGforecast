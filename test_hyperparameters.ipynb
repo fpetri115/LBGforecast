{
 "cells": [
  {
   "cell_type": "code",
   "execution_count": 1,
   "metadata": {},
   "outputs": [],
   "source": [
    "import os\n",
    "os.environ[\"SPS_HOME\"] = \"/Users/fpetri/packages/fsps\" "
   ]
  },
  {
   "cell_type": "code",
   "execution_count": 2,
   "metadata": {},
   "outputs": [
    {
     "name": "stderr",
     "output_type": "stream",
     "text": [
      "WARNING:absl:At this time, the v2.11+ optimizer `tf.keras.optimizers.Adam` runs slowly on M1/M2 Macs, please use the legacy Keras optimizer instead, located at `tf.keras.optimizers.legacy.Adam`.\n",
      "2024-01-10 16:02:52.287805: I metal_plugin/src/device/metal_device.cc:1154] Metal device set to: Apple M2 Pro\n",
      "2024-01-10 16:02:52.287819: I metal_plugin/src/device/metal_device.cc:296] systemMemory: 16.00 GB\n",
      "2024-01-10 16:02:52.287827: I metal_plugin/src/device/metal_device.cc:313] maxCacheSize: 5.33 GB\n",
      "2024-01-10 16:02:52.287861: I tensorflow/core/common_runtime/pluggable_device/pluggable_device_factory.cc:306] Could not identify NUMA node of platform GPU ID 0, defaulting to 0. Your kernel may not have been built with NUMA support.\n",
      "2024-01-10 16:02:52.287877: I tensorflow/core/common_runtime/pluggable_device/pluggable_device_factory.cc:272] Created TensorFlow device (/job:localhost/replica:0/task:0/device:GPU:0 with 0 MB memory) -> physical PluggableDevice (device: 0, name: METAL, pci bus id: <undefined>)\n",
      "WARNING:absl:At this time, the v2.11+ optimizer `tf.keras.optimizers.Adam` runs slowly on M1/M2 Macs, please use the legacy Keras optimizer instead, located at `tf.keras.optimizers.legacy.Adam`.\n",
      "WARNING:absl:At this time, the v2.11+ optimizer `tf.keras.optimizers.Adam` runs slowly on M1/M2 Macs, please use the legacy Keras optimizer instead, located at `tf.keras.optimizers.legacy.Adam`.\n",
      "WARNING:absl:At this time, the v2.11+ optimizer `tf.keras.optimizers.Adam` runs slowly on M1/M2 Macs, please use the legacy Keras optimizer instead, located at `tf.keras.optimizers.legacy.Adam`.\n",
      "WARNING:absl:At this time, the v2.11+ optimizer `tf.keras.optimizers.Adam` runs slowly on M1/M2 Macs, please use the legacy Keras optimizer instead, located at `tf.keras.optimizers.legacy.Adam`.\n"
     ]
    }
   ],
   "source": [
    "import lbg_forecast.hyperparams as hyp\n",
    "import lbg_forecast.priors as pr\n",
    "import lbg_forecast.popmodel as pop\n",
    "import lbg_forecast.emulator as em\n",
    "import lbg_forecast.tools as tools\n",
    "import lbg_forecast.nz_sim as nz\n",
    "import numpy as np\n",
    "import matplotlib.pyplot as plt"
   ]
  },
  {
   "cell_type": "code",
   "execution_count": 3,
   "metadata": {},
   "outputs": [],
   "source": [
    "def plot_realisation(realisation, nz_data, bins, alpha):\n",
    "    \n",
    "    plt.bar(bins[:-1], nz_data[realisation][0], width=np.diff(bins), edgecolor=\"black\", align=\"edge\", alpha=alpha, lw=0.5, color = 'blue')\n",
    "    plt.bar(bins[:-1], nz_data[realisation][1], width=np.diff(bins), edgecolor=\"black\", align=\"edge\", alpha=alpha, lw=0.5, color = 'red')\n",
    "    plt.bar(bins[:-1], nz_data[realisation][2], width=np.diff(bins), edgecolor=\"black\", align=\"edge\", alpha=alpha, lw=0.5, color = 'green' )\n",
    "\n",
    "def plot_realisations(nsamples, nz_data, bins, alpha):\n",
    "\n",
    "    i = 0\n",
    "    while(i < nsamples):\n",
    "        plot_realisation(i, nz_data, bins, alpha)\n",
    "        i+=1"
   ]
  },
  {
   "cell_type": "code",
   "execution_count": 4,
   "metadata": {},
   "outputs": [],
   "source": [
    "# initalise fsps emulator\n",
    "model = em.fsps_emulator()\n",
    "sps_params = model._sps_params"
   ]
  },
  {
   "cell_type": "code",
   "execution_count": 5,
   "metadata": {},
   "outputs": [],
   "source": [
    "dz, dlogm = 0.1, 0.05\n",
    "z_min, z_max = 0.0, 15.0\n",
    "logm_min, logm_max = 7.0, 13.0\n",
    "grid_params = np.array([dz, dlogm, z_min, z_max, logm_min, logm_max])\n",
    "z_grid, logm_grid = pr.setup_grids(grid_params)\n",
    "\n",
    "n_priors_samples = 100\n",
    "priors = pr.load_priors(z_grid, logm_grid, n_priors_samples, init_sample=10000)\n",
    "prior_params = [z_grid, logm_grid, priors, grid_params]"
   ]
  },
  {
   "cell_type": "code",
   "execution_count": 6,
   "metadata": {},
   "outputs": [],
   "source": [
    "hyper_param_bounds = hyp.define_hyperparameter_bounds( \n",
    "                           \n",
    "    zred = np.array([n_priors_samples, 0, 7]),\n",
    "    logtage = np.array([1, -3, 1]),\n",
    "    logzsol = np.array([1, -2.5, 0.5]),\n",
    "    dust1 = np.array([0, 0, 0]),\n",
    "    dust2 = np.array([1, 0, 2]),\n",
    "    igm_factor = np.array([0, 1, 1]), \n",
    "    gas_logu = np.array([1, -4, -1]),\n",
    "    logfagn = np.array([0, 0, 0]),\n",
    "    imf1 = np.array([0, 1.3, 1.3]), \n",
    "    imf2 = np.array([0, 2.3, 2.3]), \n",
    "    imf3 = np.array([0, 2.3, 2.3]), \n",
    "    logtau = np.array([1, -4, 1]),\n",
    "    loga = np.array([1, -3, 3]),\n",
    "    logb = np.array([1, -3, 3]),\n",
    "    logmass = np.array([n_priors_samples, 7, 13])\n",
    "\n",
    "    )"
   ]
  },
  {
   "cell_type": "code",
   "execution_count": 7,
   "metadata": {},
   "outputs": [],
   "source": [
    "nhyperparams = 100\n",
    "hyperparameters = hyp.sample_nhyperparameters(hyper_param_bounds, nhyperparams)"
   ]
  },
  {
   "cell_type": "code",
   "execution_count": 8,
   "metadata": {},
   "outputs": [
    {
     "name": "stdout",
     "output_type": "stream",
     "text": [
      "run  0 : SPS Parameters Generated\n"
     ]
    },
    {
     "name": "stderr",
     "output_type": "stream",
     "text": [
      "/Users/fpetri/anaconda3/envs/tf_env/lib/python3.11/site-packages/speculator/speculator.py:709: RuntimeWarning: overflow encountered in exp\n",
      "  layers.append((self.betas_[i] + (1.-self.betas_[i])*1./(1.+np.exp(-self.alphas_[i]*act[-1])))*act[-1])\n"
     ]
    },
    {
     "name": "stdout",
     "output_type": "stream",
     "text": [
      "run  0 : N(z)'s Generated\n",
      "run  1 : SPS Parameters Generated\n"
     ]
    },
    {
     "name": "stderr",
     "output_type": "stream",
     "text": [
      "/Users/fpetri/anaconda3/envs/tf_env/lib/python3.11/site-packages/speculator/speculator.py:709: RuntimeWarning: overflow encountered in exp\n",
      "  layers.append((self.betas_[i] + (1.-self.betas_[i])*1./(1.+np.exp(-self.alphas_[i]*act[-1])))*act[-1])\n"
     ]
    },
    {
     "name": "stdout",
     "output_type": "stream",
     "text": [
      "run  1 : N(z)'s Generated\n",
      "run  2 : SPS Parameters Generated\n"
     ]
    },
    {
     "name": "stderr",
     "output_type": "stream",
     "text": [
      "/Users/fpetri/anaconda3/envs/tf_env/lib/python3.11/site-packages/speculator/speculator.py:709: RuntimeWarning: overflow encountered in exp\n",
      "  layers.append((self.betas_[i] + (1.-self.betas_[i])*1./(1.+np.exp(-self.alphas_[i]*act[-1])))*act[-1])\n"
     ]
    },
    {
     "name": "stdout",
     "output_type": "stream",
     "text": [
      "run  2 : N(z)'s Generated\n",
      "run  3 : SPS Parameters Generated\n"
     ]
    },
    {
     "name": "stderr",
     "output_type": "stream",
     "text": [
      "/Users/fpetri/anaconda3/envs/tf_env/lib/python3.11/site-packages/speculator/speculator.py:709: RuntimeWarning: overflow encountered in exp\n",
      "  layers.append((self.betas_[i] + (1.-self.betas_[i])*1./(1.+np.exp(-self.alphas_[i]*act[-1])))*act[-1])\n"
     ]
    },
    {
     "name": "stdout",
     "output_type": "stream",
     "text": [
      "run  3 : N(z)'s Generated\n",
      "run  4 : SPS Parameters Generated\n"
     ]
    },
    {
     "name": "stderr",
     "output_type": "stream",
     "text": [
      "/Users/fpetri/anaconda3/envs/tf_env/lib/python3.11/site-packages/speculator/speculator.py:709: RuntimeWarning: overflow encountered in exp\n",
      "  layers.append((self.betas_[i] + (1.-self.betas_[i])*1./(1.+np.exp(-self.alphas_[i]*act[-1])))*act[-1])\n"
     ]
    },
    {
     "name": "stdout",
     "output_type": "stream",
     "text": [
      "run  4 : N(z)'s Generated\n",
      "run  5 : SPS Parameters Generated\n"
     ]
    },
    {
     "name": "stderr",
     "output_type": "stream",
     "text": [
      "/Users/fpetri/anaconda3/envs/tf_env/lib/python3.11/site-packages/speculator/speculator.py:709: RuntimeWarning: overflow encountered in exp\n",
      "  layers.append((self.betas_[i] + (1.-self.betas_[i])*1./(1.+np.exp(-self.alphas_[i]*act[-1])))*act[-1])\n"
     ]
    },
    {
     "name": "stdout",
     "output_type": "stream",
     "text": [
      "run  5 : N(z)'s Generated\n",
      "run  6 : SPS Parameters Generated\n"
     ]
    },
    {
     "name": "stderr",
     "output_type": "stream",
     "text": [
      "/Users/fpetri/anaconda3/envs/tf_env/lib/python3.11/site-packages/speculator/speculator.py:709: RuntimeWarning: overflow encountered in exp\n",
      "  layers.append((self.betas_[i] + (1.-self.betas_[i])*1./(1.+np.exp(-self.alphas_[i]*act[-1])))*act[-1])\n"
     ]
    },
    {
     "name": "stdout",
     "output_type": "stream",
     "text": [
      "run  6 : N(z)'s Generated\n",
      "run  7 : SPS Parameters Generated\n"
     ]
    },
    {
     "name": "stderr",
     "output_type": "stream",
     "text": [
      "/Users/fpetri/anaconda3/envs/tf_env/lib/python3.11/site-packages/speculator/speculator.py:709: RuntimeWarning: overflow encountered in exp\n",
      "  layers.append((self.betas_[i] + (1.-self.betas_[i])*1./(1.+np.exp(-self.alphas_[i]*act[-1])))*act[-1])\n"
     ]
    },
    {
     "name": "stdout",
     "output_type": "stream",
     "text": [
      "run  7 : N(z)'s Generated\n",
      "run  8 : SPS Parameters Generated\n"
     ]
    },
    {
     "name": "stderr",
     "output_type": "stream",
     "text": [
      "/Users/fpetri/anaconda3/envs/tf_env/lib/python3.11/site-packages/speculator/speculator.py:709: RuntimeWarning: overflow encountered in exp\n",
      "  layers.append((self.betas_[i] + (1.-self.betas_[i])*1./(1.+np.exp(-self.alphas_[i]*act[-1])))*act[-1])\n"
     ]
    },
    {
     "name": "stdout",
     "output_type": "stream",
     "text": [
      "run  8 : N(z)'s Generated\n",
      "run  9 : SPS Parameters Generated\n"
     ]
    },
    {
     "name": "stderr",
     "output_type": "stream",
     "text": [
      "/Users/fpetri/anaconda3/envs/tf_env/lib/python3.11/site-packages/speculator/speculator.py:709: RuntimeWarning: overflow encountered in exp\n",
      "  layers.append((self.betas_[i] + (1.-self.betas_[i])*1./(1.+np.exp(-self.alphas_[i]*act[-1])))*act[-1])\n"
     ]
    },
    {
     "name": "stdout",
     "output_type": "stream",
     "text": [
      "run  9 : N(z)'s Generated\n"
     ]
    }
   ],
   "source": [
    "# nz histogram parameters\n",
    "dz = 0.1\n",
    "minz = 0.0\n",
    "maxz = 7.0\n",
    "\n",
    "bins = np.arange(minz, maxz, dz)\n",
    "\n",
    "nz_data = []\n",
    "sps_params_list = []\n",
    "nsamples = 20\n",
    "ngalaxies = 1000000\n",
    "i = 0\n",
    "while(i<nsamples):\n",
    "    sps_params = pop.galaxy_population_model_vec(hyperparameters[np.random.randint(0, nhyperparams)], prior_params, ngalaxies)\n",
    "    print(\"run \", i, \":\", \"SPS Parameters Generated\")\n",
    "    nzs = nz.simulate_nzs(sps_params, model, bins)\n",
    "    print(\"run \", i, \":\", \"N(z)'s Generated\")\n",
    "    sps_params_list.append(sps_params)\n",
    "    nz_data.append(nzs)\n",
    "    i+=1"
   ]
  },
  {
   "cell_type": "code",
   "execution_count": 9,
   "metadata": {},
   "outputs": [],
   "source": [
    "#tools.plot_galaxy_population(sps_params_list[9])"
   ]
  },
  {
   "cell_type": "code",
   "execution_count": 11,
   "metadata": {},
   "outputs": [
    {
     "data": {
      "image/png": "[encoded data removed]",
      "text/plain": [
       "<Figure size 640x480 with 1 Axes>"
      ]
     },
     "metadata": {},
     "output_type": "display_data"
    }
   ],
   "source": [
    "plot_realisations(nsamples, nz_data, bins, 0.1)"
   ]
  }
 ],
 "metadata": {
  "kernelspec": {
   "display_name": "tensorflow",
   "language": "python",
   "name": "tf_env"
  },
  "language_info": {
   "codemirror_mode": {
    "name": "ipython",
    "version": 3
   },
   "file_extension": ".py",
   "mimetype": "text/x-python",
   "name": "python",
   "nbconvert_exporter": "python",
   "pygments_lexer": "ipython3",
   "version": "3.11.0"
  }
 },
 "nbformat": 4,
 "nbformat_minor": 2
}
