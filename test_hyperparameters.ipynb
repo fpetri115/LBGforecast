{
 "cells": [
  {
   "cell_type": "code",
   "execution_count": 1,
   "metadata": {},
   "outputs": [],
   "source": [
    "import os\n",
    "os.environ[\"SPS_HOME\"] = \"/Users/fpetri/packages/fsps\" "
   ]
  },
  {
   "cell_type": "code",
   "execution_count": 2,
   "metadata": {},
   "outputs": [
    {
     "name": "stderr",
     "output_type": "stream",
     "text": [
      "WARNING:absl:At this time, the v2.11+ optimizer `tf.keras.optimizers.Adam` runs slowly on M1/M2 Macs, please use the legacy Keras optimizer instead, located at `tf.keras.optimizers.legacy.Adam`.\n",
      "2024-01-11 12:58:05.184361: I metal_plugin/src/device/metal_device.cc:1154] Metal device set to: Apple M2 Pro\n",
      "2024-01-11 12:58:05.184376: I metal_plugin/src/device/metal_device.cc:296] systemMemory: 16.00 GB\n",
      "2024-01-11 12:58:05.184380: I metal_plugin/src/device/metal_device.cc:313] maxCacheSize: 5.33 GB\n",
      "2024-01-11 12:58:05.184412: I tensorflow/core/common_runtime/pluggable_device/pluggable_device_factory.cc:306] Could not identify NUMA node of platform GPU ID 0, defaulting to 0. Your kernel may not have been built with NUMA support.\n",
      "2024-01-11 12:58:05.184428: I tensorflow/core/common_runtime/pluggable_device/pluggable_device_factory.cc:272] Created TensorFlow device (/job:localhost/replica:0/task:0/device:GPU:0 with 0 MB memory) -> physical PluggableDevice (device: 0, name: METAL, pci bus id: <undefined>)\n",
      "WARNING:absl:At this time, the v2.11+ optimizer `tf.keras.optimizers.Adam` runs slowly on M1/M2 Macs, please use the legacy Keras optimizer instead, located at `tf.keras.optimizers.legacy.Adam`.\n",
      "WARNING:absl:At this time, the v2.11+ optimizer `tf.keras.optimizers.Adam` runs slowly on M1/M2 Macs, please use the legacy Keras optimizer instead, located at `tf.keras.optimizers.legacy.Adam`.\n",
      "WARNING:absl:At this time, the v2.11+ optimizer `tf.keras.optimizers.Adam` runs slowly on M1/M2 Macs, please use the legacy Keras optimizer instead, located at `tf.keras.optimizers.legacy.Adam`.\n",
      "WARNING:absl:At this time, the v2.11+ optimizer `tf.keras.optimizers.Adam` runs slowly on M1/M2 Macs, please use the legacy Keras optimizer instead, located at `tf.keras.optimizers.legacy.Adam`.\n"
     ]
    }
   ],
   "source": [
    "import lbg_forecast.hyperparams as hyp\n",
    "import lbg_forecast.priors as pr\n",
    "import lbg_forecast.popmodel as pop\n",
    "import lbg_forecast.emulator as em\n",
    "import lbg_forecast.tools as tools\n",
    "import lbg_forecast.nz_sim as nz\n",
    "import numpy as np\n",
    "import matplotlib.pyplot as plt"
   ]
  },
  {
   "cell_type": "code",
   "execution_count": 3,
   "metadata": {},
   "outputs": [],
   "source": [
    "# initalise fsps emulator\n",
    "model = em.fsps_emulator()\n",
    "sps_params = model._sps_params"
   ]
  },
  {
   "cell_type": "code",
   "execution_count": 4,
   "metadata": {},
   "outputs": [],
   "source": [
    "dz, dlogm = 0.1, 0.05\n",
    "z_min, z_max = 0.0, 15.0\n",
    "logm_min, logm_max = 7.0, 13.0\n",
    "grid_params = np.array([dz, dlogm, z_min, z_max, logm_min, logm_max])\n",
    "z_grid, logm_grid = pr.setup_grids(grid_params)\n",
    "\n",
    "n_priors_samples = 100\n",
    "priors = pr.load_priors(z_grid, logm_grid, n_priors_samples, init_sample=10000)\n",
    "prior_params = [z_grid, logm_grid, priors, grid_params]"
   ]
  },
  {
   "cell_type": "code",
   "execution_count": 5,
   "metadata": {},
   "outputs": [],
   "source": [
    "hyper_param_bounds = hyp.define_hyperparameter_bounds( \n",
    "                           \n",
    "    zred = np.array([n_priors_samples, 0, 7]),\n",
    "    logtage = np.array([1, -3, 1]),\n",
    "    logzsol = np.array([1, -2.5, 0.5]),\n",
    "    dust1 = np.array([0, 0, 0]),\n",
    "    dust2 = np.array([1, 0, 2]),\n",
    "    igm_factor = np.array([0, 1, 1]), \n",
    "    gas_logu = np.array([1, -4, -1]),\n",
    "    logfagn = np.array([0, 0, 0]),\n",
    "    imf1 = np.array([0, 1.3, 1.3]), \n",
    "    imf2 = np.array([0, 2.3, 2.3]), \n",
    "    imf3 = np.array([0, 2.3, 2.3]), \n",
    "    tau = np.array([1, 1e-3, 1]),\n",
    "    loga = np.array([1, -3, 1]),\n",
    "    logb = np.array([1, -3, 1]),\n",
    "    logmass = np.array([n_priors_samples, 7, 13])\n",
    "\n",
    "    )"
   ]
  },
  {
   "cell_type": "code",
   "execution_count": 6,
   "metadata": {},
   "outputs": [],
   "source": [
    "nhyperparams = 100\n",
    "hyperparameters = hyp.sample_nhyperparameters(hyper_param_bounds, nhyperparams)"
   ]
  },
  {
   "cell_type": "code",
   "execution_count": 7,
   "metadata": {},
   "outputs": [
    {
     "ename": "KeyboardInterrupt",
     "evalue": "",
     "output_type": "error",
     "traceback": [
      "\u001b[0;31m---------------------------------------------------------------------------\u001b[0m",
      "\u001b[0;31mKeyboardInterrupt\u001b[0m                         Traceback (most recent call last)",
      "Cell \u001b[0;32mIn[7], line 14\u001b[0m\n\u001b[1;32m     12\u001b[0m i \u001b[38;5;241m=\u001b[39m \u001b[38;5;241m0\u001b[39m\n\u001b[1;32m     13\u001b[0m \u001b[38;5;28;01mwhile\u001b[39;00m(i\u001b[38;5;241m<\u001b[39mnsamples):\n\u001b[0;32m---> 14\u001b[0m     sps_params \u001b[38;5;241m=\u001b[39m \u001b[43mpop\u001b[49m\u001b[38;5;241;43m.\u001b[39;49m\u001b[43mgalaxy_population_model_vec\u001b[49m\u001b[43m(\u001b[49m\u001b[43mhyperparameters\u001b[49m\u001b[43m[\u001b[49m\u001b[43mnp\u001b[49m\u001b[38;5;241;43m.\u001b[39;49m\u001b[43mrandom\u001b[49m\u001b[38;5;241;43m.\u001b[39;49m\u001b[43mrandint\u001b[49m\u001b[43m(\u001b[49m\u001b[38;5;241;43m0\u001b[39;49m\u001b[43m,\u001b[49m\u001b[43m \u001b[49m\u001b[43mnhyperparams\u001b[49m\u001b[43m)\u001b[49m\u001b[43m]\u001b[49m\u001b[43m,\u001b[49m\u001b[43m \u001b[49m\u001b[43mprior_params\u001b[49m\u001b[43m,\u001b[49m\u001b[43m \u001b[49m\u001b[43mngalaxies\u001b[49m\u001b[43m)\u001b[49m\n\u001b[1;32m     15\u001b[0m     \u001b[38;5;28mprint\u001b[39m(\u001b[38;5;124m\"\u001b[39m\u001b[38;5;124mrun \u001b[39m\u001b[38;5;124m\"\u001b[39m, i, \u001b[38;5;124m\"\u001b[39m\u001b[38;5;124m:\u001b[39m\u001b[38;5;124m\"\u001b[39m, \u001b[38;5;124m\"\u001b[39m\u001b[38;5;124mSPS Parameters Generated\u001b[39m\u001b[38;5;124m\"\u001b[39m)\n\u001b[1;32m     16\u001b[0m     nzs \u001b[38;5;241m=\u001b[39m nz\u001b[38;5;241m.\u001b[39msimulate_nzs(sps_params, model, bins)\n",
      "File \u001b[0;32m~/repos/LBGforecast/lbg_forecast/popmodel.py:47\u001b[0m, in \u001b[0;36mgalaxy_population_model_vec\u001b[0;34m(hparams, prior_params, nsamples)\u001b[0m\n\u001b[1;32m     45\u001b[0m     tuniv \u001b[38;5;241m=\u001b[39m []\n\u001b[1;32m     46\u001b[0m     \u001b[38;5;28;01mfor\u001b[39;00m z \u001b[38;5;129;01min\u001b[39;00m z_samples:\n\u001b[0;32m---> 47\u001b[0m         tuniv\u001b[38;5;241m.\u001b[39mappend(\u001b[43mcosmo\u001b[49m\u001b[38;5;241;43m.\u001b[39;49m\u001b[43mage\u001b[49m\u001b[43m(\u001b[49m\u001b[43mz\u001b[49m\u001b[43m)\u001b[49m\u001b[38;5;241m.\u001b[39mvalue)\n\u001b[1;32m     48\u001b[0m     tuniv \u001b[38;5;241m=\u001b[39m np\u001b[38;5;241m.\u001b[39mreshape(np\u001b[38;5;241m.\u001b[39mlog10(np\u001b[38;5;241m.\u001b[39masarray(tuniv)), (nsamples,)) \n\u001b[1;32m     50\u001b[0m \u001b[38;5;28;01melif\u001b[39;00m(i \u001b[38;5;241m==\u001b[39m \u001b[38;5;241m1\u001b[39m):\n",
      "File \u001b[0;32m~/anaconda3/envs/tf_env/lib/python3.11/site-packages/astropy/cosmology/flrw/base.py:1031\u001b[0m, in \u001b[0;36mFLRW.age\u001b[0;34m(self, z)\u001b[0m\n\u001b[1;32m   1014\u001b[0m \u001b[38;5;28;01mdef\u001b[39;00m \u001b[38;5;21mage\u001b[39m(\u001b[38;5;28mself\u001b[39m, z):\n\u001b[1;32m   1015\u001b[0m \u001b[38;5;250m    \u001b[39m\u001b[38;5;124;03m\"\"\"Age of the universe in Gyr at redshift ``z``.\u001b[39;00m\n\u001b[1;32m   1016\u001b[0m \n\u001b[1;32m   1017\u001b[0m \u001b[38;5;124;03m    Parameters\u001b[39;00m\n\u001b[0;32m   (...)\u001b[0m\n\u001b[1;32m   1029\u001b[0m \u001b[38;5;124;03m    z_at_value : Find the redshift corresponding to an age.\u001b[39;00m\n\u001b[1;32m   1030\u001b[0m \u001b[38;5;124;03m    \"\"\"\u001b[39;00m\n\u001b[0;32m-> 1031\u001b[0m     \u001b[38;5;28;01mreturn\u001b[39;00m \u001b[38;5;28;43mself\u001b[39;49m\u001b[38;5;241;43m.\u001b[39;49m\u001b[43m_age\u001b[49m\u001b[43m(\u001b[49m\u001b[43mz\u001b[49m\u001b[43m)\u001b[49m\n",
      "File \u001b[0;32m~/anaconda3/envs/tf_env/lib/python3.11/site-packages/astropy/cosmology/flrw/base.py:1048\u001b[0m, in \u001b[0;36mFLRW._age\u001b[0;34m(self, z)\u001b[0m\n\u001b[1;32m   1033\u001b[0m \u001b[38;5;28;01mdef\u001b[39;00m \u001b[38;5;21m_age\u001b[39m(\u001b[38;5;28mself\u001b[39m, z):\n\u001b[1;32m   1034\u001b[0m \u001b[38;5;250m    \u001b[39m\u001b[38;5;124;03m\"\"\"Age of the universe in Gyr at redshift ``z``.\u001b[39;00m\n\u001b[1;32m   1035\u001b[0m \n\u001b[1;32m   1036\u001b[0m \u001b[38;5;124;03m    This internal function exists to be re-defined for optimizations.\u001b[39;00m\n\u001b[0;32m   (...)\u001b[0m\n\u001b[1;32m   1046\u001b[0m \u001b[38;5;124;03m        The age of the universe in Gyr at each input redshift.\u001b[39;00m\n\u001b[1;32m   1047\u001b[0m \u001b[38;5;124;03m    \"\"\"\u001b[39;00m\n\u001b[0;32m-> 1048\u001b[0m     \u001b[38;5;28;01mreturn\u001b[39;00m \u001b[38;5;28mself\u001b[39m\u001b[38;5;241m.\u001b[39m_hubble_time \u001b[38;5;241m*\u001b[39m \u001b[38;5;28;43mself\u001b[39;49m\u001b[38;5;241;43m.\u001b[39;49m\u001b[43m_integral_age\u001b[49m\u001b[43m(\u001b[49m\u001b[43mz\u001b[49m\u001b[43m)\u001b[49m\n",
      "File \u001b[0;32m~/anaconda3/envs/tf_env/lib/python3.11/site-packages/astropy/cosmology/_utils.py:55\u001b[0m, in \u001b[0;36mvectorize_redshift_method.<locals>.wrapper\u001b[0;34m(self, *args, **kwargs)\u001b[0m\n\u001b[1;32m     53\u001b[0m \u001b[38;5;66;03m# scalar inputs\u001b[39;00m\n\u001b[1;32m     54\u001b[0m \u001b[38;5;28;01mif\u001b[39;00m \u001b[38;5;28mall\u001b[39m(\u001b[38;5;28misinstance\u001b[39m(z, (Number, np\u001b[38;5;241m.\u001b[39mgeneric)) \u001b[38;5;28;01mfor\u001b[39;00m z \u001b[38;5;129;01min\u001b[39;00m zs):\n\u001b[0;32m---> 55\u001b[0m     \u001b[38;5;28;01mreturn\u001b[39;00m \u001b[43mfunc\u001b[49m\u001b[43m(\u001b[49m\u001b[38;5;28;43mself\u001b[39;49m\u001b[43m,\u001b[49m\u001b[43m \u001b[49m\u001b[38;5;241;43m*\u001b[39;49m\u001b[43mzs\u001b[49m\u001b[43m,\u001b[49m\u001b[43m \u001b[49m\u001b[38;5;241;43m*\u001b[39;49m\u001b[43margs\u001b[49m\u001b[43m[\u001b[49m\u001b[43mnin\u001b[49m\u001b[43m:\u001b[49m\u001b[43m]\u001b[49m\u001b[43m,\u001b[49m\u001b[43m \u001b[49m\u001b[38;5;241;43m*\u001b[39;49m\u001b[38;5;241;43m*\u001b[39;49m\u001b[43mkwargs\u001b[49m\u001b[43m)\u001b[49m\n\u001b[1;32m     56\u001b[0m \u001b[38;5;66;03m# non-scalar. use vectorized func\u001b[39;00m\n\u001b[1;32m     57\u001b[0m \u001b[38;5;28;01mreturn\u001b[39;00m wrapper\u001b[38;5;241m.\u001b[39m__vectorized__(\u001b[38;5;28mself\u001b[39m, \u001b[38;5;241m*\u001b[39mzs, \u001b[38;5;241m*\u001b[39margs[nin:], \u001b[38;5;241m*\u001b[39m\u001b[38;5;241m*\u001b[39mkwargs)\n",
      "File \u001b[0;32m~/anaconda3/envs/tf_env/lib/python3.11/site-packages/astropy/cosmology/flrw/base.py:1071\u001b[0m, in \u001b[0;36mFLRW._integral_age\u001b[0;34m(self, z)\u001b[0m\n\u001b[1;32m   1050\u001b[0m \u001b[38;5;129m@vectorize_redshift_method\u001b[39m\n\u001b[1;32m   1051\u001b[0m \u001b[38;5;28;01mdef\u001b[39;00m \u001b[38;5;21m_integral_age\u001b[39m(\u001b[38;5;28mself\u001b[39m, z, \u001b[38;5;241m/\u001b[39m):\n\u001b[1;32m   1052\u001b[0m \u001b[38;5;250m    \u001b[39m\u001b[38;5;124;03m\"\"\"Age of the universe at redshift ``z``. Value in units of Hubble time.\u001b[39;00m\n\u001b[1;32m   1053\u001b[0m \n\u001b[1;32m   1054\u001b[0m \u001b[38;5;124;03m    Calculated using explicit integration.\u001b[39;00m\n\u001b[0;32m   (...)\u001b[0m\n\u001b[1;32m   1069\u001b[0m \u001b[38;5;124;03m    z_at_value : Find the redshift corresponding to an age.\u001b[39;00m\n\u001b[1;32m   1070\u001b[0m \u001b[38;5;124;03m    \"\"\"\u001b[39;00m\n\u001b[0;32m-> 1071\u001b[0m     \u001b[38;5;28;01mreturn\u001b[39;00m \u001b[43mquad\u001b[49m\u001b[43m(\u001b[49m\u001b[38;5;28;43mself\u001b[39;49m\u001b[38;5;241;43m.\u001b[39;49m\u001b[43m_lookback_time_integrand_scalar\u001b[49m\u001b[43m,\u001b[49m\u001b[43m \u001b[49m\u001b[43mz\u001b[49m\u001b[43m,\u001b[49m\u001b[43m \u001b[49m\u001b[43minf\u001b[49m\u001b[43m)\u001b[49m[\u001b[38;5;241m0\u001b[39m]\n",
      "File \u001b[0;32m~/anaconda3/envs/tf_env/lib/python3.11/site-packages/scipy/integrate/_quadpack_py.py:465\u001b[0m, in \u001b[0;36mquad\u001b[0;34m(func, a, b, args, full_output, epsabs, epsrel, limit, points, weight, wvar, wopts, maxp1, limlst, complex_func)\u001b[0m\n\u001b[1;32m    462\u001b[0m     \u001b[38;5;28;01mreturn\u001b[39;00m retval\n\u001b[1;32m    464\u001b[0m \u001b[38;5;28;01mif\u001b[39;00m weight \u001b[38;5;129;01mis\u001b[39;00m \u001b[38;5;28;01mNone\u001b[39;00m:\n\u001b[0;32m--> 465\u001b[0m     retval \u001b[38;5;241m=\u001b[39m \u001b[43m_quad\u001b[49m\u001b[43m(\u001b[49m\u001b[43mfunc\u001b[49m\u001b[43m,\u001b[49m\u001b[43m \u001b[49m\u001b[43ma\u001b[49m\u001b[43m,\u001b[49m\u001b[43m \u001b[49m\u001b[43mb\u001b[49m\u001b[43m,\u001b[49m\u001b[43m \u001b[49m\u001b[43margs\u001b[49m\u001b[43m,\u001b[49m\u001b[43m \u001b[49m\u001b[43mfull_output\u001b[49m\u001b[43m,\u001b[49m\u001b[43m \u001b[49m\u001b[43mepsabs\u001b[49m\u001b[43m,\u001b[49m\u001b[43m \u001b[49m\u001b[43mepsrel\u001b[49m\u001b[43m,\u001b[49m\u001b[43m \u001b[49m\u001b[43mlimit\u001b[49m\u001b[43m,\u001b[49m\n\u001b[1;32m    466\u001b[0m \u001b[43m                   \u001b[49m\u001b[43mpoints\u001b[49m\u001b[43m)\u001b[49m\n\u001b[1;32m    467\u001b[0m \u001b[38;5;28;01melse\u001b[39;00m:\n\u001b[1;32m    468\u001b[0m     \u001b[38;5;28;01mif\u001b[39;00m points \u001b[38;5;129;01mis\u001b[39;00m \u001b[38;5;129;01mnot\u001b[39;00m \u001b[38;5;28;01mNone\u001b[39;00m:\n",
      "File \u001b[0;32m~/anaconda3/envs/tf_env/lib/python3.11/site-packages/scipy/integrate/_quadpack_py.py:579\u001b[0m, in \u001b[0;36m_quad\u001b[0;34m(func, a, b, args, full_output, epsabs, epsrel, limit, points)\u001b[0m\n\u001b[1;32m    577\u001b[0m         \u001b[38;5;28;01mreturn\u001b[39;00m _quadpack\u001b[38;5;241m.\u001b[39m_qagse(func,a,b,args,full_output,epsabs,epsrel,limit)\n\u001b[1;32m    578\u001b[0m     \u001b[38;5;28;01melse\u001b[39;00m:\n\u001b[0;32m--> 579\u001b[0m         \u001b[38;5;28;01mreturn\u001b[39;00m \u001b[43m_quadpack\u001b[49m\u001b[38;5;241;43m.\u001b[39;49m\u001b[43m_qagie\u001b[49m\u001b[43m(\u001b[49m\u001b[43mfunc\u001b[49m\u001b[43m,\u001b[49m\u001b[43mbound\u001b[49m\u001b[43m,\u001b[49m\u001b[43minfbounds\u001b[49m\u001b[43m,\u001b[49m\u001b[43margs\u001b[49m\u001b[43m,\u001b[49m\u001b[43mfull_output\u001b[49m\u001b[43m,\u001b[49m\u001b[43mepsabs\u001b[49m\u001b[43m,\u001b[49m\u001b[43mepsrel\u001b[49m\u001b[43m,\u001b[49m\u001b[43mlimit\u001b[49m\u001b[43m)\u001b[49m\n\u001b[1;32m    580\u001b[0m \u001b[38;5;28;01melse\u001b[39;00m:\n\u001b[1;32m    581\u001b[0m     \u001b[38;5;28;01mif\u001b[39;00m infbounds \u001b[38;5;241m!=\u001b[39m \u001b[38;5;241m0\u001b[39m:\n",
      "File \u001b[0;32m~/anaconda3/envs/tf_env/lib/python3.11/site-packages/astropy/cosmology/flrw/base.py:837\u001b[0m, in \u001b[0;36mFLRW._lookback_time_integrand_scalar\u001b[0;34m(self, z)\u001b[0m\n\u001b[1;32m    830\u001b[0m     zp1 \u001b[38;5;241m=\u001b[39m aszarr(z) \u001b[38;5;241m+\u001b[39m \u001b[38;5;241m1.0\u001b[39m  \u001b[38;5;66;03m# (converts z [unit] -> z [dimensionless])\u001b[39;00m\n\u001b[1;32m    832\u001b[0m     \u001b[38;5;28;01mreturn\u001b[39;00m (\n\u001b[1;32m    833\u001b[0m         zp1\u001b[38;5;241m*\u001b[39m\u001b[38;5;241m*\u001b[39m\u001b[38;5;241m2\u001b[39m \u001b[38;5;241m*\u001b[39m ((Or \u001b[38;5;241m*\u001b[39m zp1 \u001b[38;5;241m+\u001b[39m \u001b[38;5;28mself\u001b[39m\u001b[38;5;241m.\u001b[39m_Om0) \u001b[38;5;241m*\u001b[39m zp1 \u001b[38;5;241m+\u001b[39m \u001b[38;5;28mself\u001b[39m\u001b[38;5;241m.\u001b[39m_Ok0)\n\u001b[1;32m    834\u001b[0m         \u001b[38;5;241m+\u001b[39m \u001b[38;5;28mself\u001b[39m\u001b[38;5;241m.\u001b[39m_Ode0 \u001b[38;5;241m*\u001b[39m \u001b[38;5;28mself\u001b[39m\u001b[38;5;241m.\u001b[39mde_density_scale(z)\n\u001b[1;32m    835\u001b[0m     ) \u001b[38;5;241m*\u001b[39m\u001b[38;5;241m*\u001b[39m (\u001b[38;5;241m-\u001b[39m\u001b[38;5;241m0.5\u001b[39m)\n\u001b[0;32m--> 837\u001b[0m \u001b[38;5;28;01mdef\u001b[39;00m \u001b[38;5;21m_lookback_time_integrand_scalar\u001b[39m(\u001b[38;5;28mself\u001b[39m, z):\n\u001b[1;32m    838\u001b[0m \u001b[38;5;250m    \u001b[39m\u001b[38;5;124;03m\"\"\"Integrand of the lookback time (equation 30 of [1]_).\u001b[39;00m\n\u001b[1;32m    839\u001b[0m \n\u001b[1;32m    840\u001b[0m \u001b[38;5;124;03m    Parameters\u001b[39;00m\n\u001b[0;32m   (...)\u001b[0m\n\u001b[1;32m    853\u001b[0m \u001b[38;5;124;03m           arXiv e-prints, astro-ph/9905116.\u001b[39;00m\n\u001b[1;32m    854\u001b[0m \u001b[38;5;124;03m    \"\"\"\u001b[39;00m\n\u001b[1;32m    855\u001b[0m     \u001b[38;5;28;01mreturn\u001b[39;00m \u001b[38;5;28mself\u001b[39m\u001b[38;5;241m.\u001b[39m_inv_efunc_scalar(z, \u001b[38;5;241m*\u001b[39m\u001b[38;5;28mself\u001b[39m\u001b[38;5;241m.\u001b[39m_inv_efunc_scalar_args) \u001b[38;5;241m/\u001b[39m (z \u001b[38;5;241m+\u001b[39m \u001b[38;5;241m1.0\u001b[39m)\n",
      "\u001b[0;31mKeyboardInterrupt\u001b[0m: "
     ]
    }
   ],
   "source": [
    "# nz histogram parameters\n",
    "dz = 0.1\n",
    "minz = 0.0\n",
    "maxz = 7.0\n",
    "\n",
    "bins = np.arange(minz, maxz, dz)\n",
    "\n",
    "nz_data = []\n",
    "sps_params_list = []\n",
    "nsamples = 20\n",
    "ngalaxies = 2000000\n",
    "i = 0\n",
    "while(i<nsamples):\n",
    "    sps_params = pop.galaxy_population_model_vec(hyperparameters[np.random.randint(0, nhyperparams)], prior_params, ngalaxies)\n",
    "    print(\"run \", i, \":\", \"SPS Parameters Generated\")\n",
    "    nzs = nz.simulate_nzs(sps_params, model, bins)\n",
    "    print(\"run \", i, \":\", \"N(z)'s Generated\")\n",
    "    sps_params_list.append(sps_params)\n",
    "    nz_data.append(nzs)\n",
    "    i+=1"
   ]
  },
  {
   "cell_type": "code",
   "execution_count": null,
   "metadata": {},
   "outputs": [],
   "source": [
    "#tools.plot_galaxy_population(sps_params_list[9])"
   ]
  },
  {
   "cell_type": "code",
   "execution_count": null,
   "metadata": {},
   "outputs": [],
   "source": [
    "def plot_realisation(realisation, nz_data, bins, alpha):\n",
    "    \n",
    "    plt.bar(bins[:-1], nz_data[realisation][0], width=np.diff(bins), edgecolor=\"black\", align=\"edge\", alpha=alpha, lw=0.5, color = 'blue')\n",
    "    plt.bar(bins[:-1], nz_data[realisation][1], width=np.diff(bins), edgecolor=\"black\", align=\"edge\", alpha=alpha, lw=0.5, color = 'red')\n",
    "    plt.bar(bins[:-1], nz_data[realisation][2], width=np.diff(bins), edgecolor=\"black\", align=\"edge\", alpha=alpha, lw=0.5, color = 'green' )\n",
    "\n",
    "def plot_realisations(nsamples, nz_data, bins, alpha):\n",
    "\n",
    "    i = 0\n",
    "    while(i < nsamples):\n",
    "        plot_realisation(i, nz_data, bins, alpha)\n",
    "        i+=1"
   ]
  },
  {
   "cell_type": "code",
   "execution_count": null,
   "metadata": {},
   "outputs": [
    {
     "data": {
      "image/png": "[encoded data removed]",
      "text/plain": [
       "<Figure size 640x480 with 1 Axes>"
      ]
     },
     "metadata": {},
     "output_type": "display_data"
    }
   ],
   "source": [
    "plot_realisations(nsamples, nz_data, bins, 0.1)"
   ]
  }
 ],
 "metadata": {
  "kernelspec": {
   "display_name": "tensorflow",
   "language": "python",
   "name": "tf_env"
  },
  "language_info": {
   "codemirror_mode": {
    "name": "ipython",
    "version": 3
   },
   "file_extension": ".py",
   "mimetype": "text/x-python",
   "name": "python",
   "nbconvert_exporter": "python",
   "pygments_lexer": "ipython3",
   "version": "3.11.0"
  }
 },
 "nbformat": 4,
 "nbformat_minor": 2
}
