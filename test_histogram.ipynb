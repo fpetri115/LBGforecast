{
 "cells": [
  {
   "cell_type": "code",
   "execution_count": 1,
   "id": "2e151844-3b0c-45d2-8d94-e6d50fa82357",
   "metadata": {},
   "outputs": [],
   "source": [
    "import jax.numpy as jnp\n",
    "import numpy as onp\n",
    "from jax.config import config\n",
    "config.update(\"jax_enable_x64\", True)\n",
    "\n",
    "import matplotlib.pyplot as plt\n",
    "\n",
    "from lbg_forecast.modified_redshift import nz_hat\n",
    "from lbg_forecast.angular_power import cl_hat\n",
    "from lbg_forecast.angular_power import define_cosmo"
   ]
  },
  {
   "cell_type": "code",
   "execution_count": 24,
   "id": "37bd2d43-b101-4833-b105-0969609e6f5f",
   "metadata": {},
   "outputs": [],
   "source": [
    "def plot_jax_nz(nz, z_space):\n",
    "    \"\"\"\n",
    "    Utility function for plotting jax redshift distributions\n",
    "\n",
    "    \"\"\"\n",
    "    func = []\n",
    "    for z in z_space:\n",
    "        func.append(nz.pz_fn(z))\n",
    "        \n",
    "    plt.plot(z_space, func, color=\"r\", lw=5)\n",
    "    \n",
    "    return func"
   ]
  },
  {
   "cell_type": "code",
   "execution_count": 34,
   "id": "6687c251",
   "metadata": {},
   "outputs": [
    {
     "data": {
      "image/png": "[encoded data removed]",
      "text/plain": [
       "<Figure size 640x480 with 1 Axes>"
      ]
     },
     "metadata": {},
     "output_type": "display_data"
    }
   ],
   "source": [
    "data = onp.array([1, 1, 1, 2, 2, 3, 4, 4, 4, 4, 5, 5, 5, 5, 6, 6, 7])\n",
    "bin_edges = onp.array([0, 0.5, 0.9, 1.1, 2.0, 3, 4, 4.5, 4.9, 5.0, 7.0])\n",
    "hist, bins = onp.histogram(data, bin_edges)\n",
    "\n",
    "#plot numpy histogram (black shaded area)\n",
    "plt.hist(data, bin_edges, color=\"k\")\n",
    "area_under_curve_numpy = onp.sum(hist*onp.diff(bin_edges))\n",
    "\n",
    "#plot jax redshift histogram (red solid line)\n",
    "nzhat = nz_hat(hist, bin_edges)\n",
    "dz = 1e-3\n",
    "z_space = jnp.arange(0.0, 7.0+dz, dz)\n",
    "func = plot_jax_nz(nzhat, z_space)\n",
    "area_under_curve_jax_redshift = onp.trapz(func, z_space)\n",
    "\n",
    "onp.testing.assert_allclose(area_under_curve_numpy, \n",
    "                            area_under_curve_jax_redshift,\n",
    "                              rtol=1e-10)"
   ]
  },
  {
   "cell_type": "code",
   "execution_count": 35,
   "id": "9867b904-b94b-4f39-843b-9bdc5ee9f30f",
   "metadata": {},
   "outputs": [],
   "source": [
    "ell = jnp.arange(200, 1000, 1)"
   ]
  },
  {
   "cell_type": "code",
   "execution_count": 7,
   "id": "e7591f82-fd2e-49a8-8adb-9ac91166537f",
   "metadata": {},
   "outputs": [
    {
     "ename": "TypeError",
     "evalue": "le got incompatible shapes for broadcasting: (9,), (257,).",
     "output_type": "error",
     "traceback": [
      "\u001b[0;31m---------------------------------------------------------------------------\u001b[0m",
      "\u001b[0;31mTypeError\u001b[0m                                 Traceback (most recent call last)",
      "Cell \u001b[0;32mIn[7], line 1\u001b[0m\n\u001b[0;32m----> 1\u001b[0m cl \u001b[39m=\u001b[39m cl_hat(define_cosmo(), bin_heights, zmins, zmaxs, ell)\n",
      "    \u001b[0;31m[... skipping hidden 11 frame]\u001b[0m\n",
      "File \u001b[0;32m~/Repos/LBGforecast/lbg_forecast/angular_power.py:268\u001b[0m, in \u001b[0;36mcl_hat\u001b[0;34m(cosmo, bin_heights, zmins, zmaxs, ell)\u001b[0m\n\u001b[1;32m    265\u001b[0m bias \u001b[39m=\u001b[39m custom_bias(\u001b[39m1\u001b[39m, \u001b[39m2\u001b[39m, \u001b[39m1.5\u001b[39m)\n\u001b[1;32m    266\u001b[0m tracers \u001b[39m=\u001b[39m [probes\u001b[39m.\u001b[39mNumberCounts(nz, bias)]\n\u001b[0;32m--> 268\u001b[0m signal \u001b[39m=\u001b[39m angular_cl(cosmo, ell, tracers)\n\u001b[1;32m    270\u001b[0m \u001b[39mreturn\u001b[39;00m signal\u001b[39m.\u001b[39mflatten()\n",
      "File \u001b[0;32m~/test_env/lib/python3.11/site-packages/jax_cosmo/angular_cl.py:101\u001b[0m, in \u001b[0;36mangular_cl\u001b[0;34m(cosmo, ell, probes, transfer_fn, nonlinear_fn)\u001b[0m\n\u001b[1;32m     97\u001b[0m         \u001b[39mreturn\u001b[39;00m result\u001b[39m.\u001b[39mT\n\u001b[1;32m     99\u001b[0m     \u001b[39mreturn\u001b[39;00m simps(integrand, z2a(zmax), \u001b[39m1.0\u001b[39m, \u001b[39m512\u001b[39m) \u001b[39m/\u001b[39m const\u001b[39m.\u001b[39mc\u001b[39m*\u001b[39m\u001b[39m*\u001b[39m\u001b[39m2\u001b[39m\n\u001b[0;32m--> 101\u001b[0m \u001b[39mreturn\u001b[39;00m cl(ell)\n",
      "    \u001b[0;31m[... skipping hidden 3 frame]\u001b[0m\n",
      "File \u001b[0;32m~/test_env/lib/python3.11/site-packages/jax_cosmo/angular_cl.py:99\u001b[0m, in \u001b[0;36mangular_cl.<locals>.cl\u001b[0;34m(ell)\u001b[0m\n\u001b[1;32m     96\u001b[0m     \u001b[39m# We transpose the result just to make sure that na is first\u001b[39;00m\n\u001b[1;32m     97\u001b[0m     \u001b[39mreturn\u001b[39;00m result\u001b[39m.\u001b[39mT\n\u001b[0;32m---> 99\u001b[0m \u001b[39mreturn\u001b[39;00m simps(integrand, z2a(zmax), \u001b[39m1.0\u001b[39;49m, \u001b[39m512\u001b[39;49m) \u001b[39m/\u001b[39m const\u001b[39m.\u001b[39mc\u001b[39m*\u001b[39m\u001b[39m*\u001b[39m\u001b[39m2\u001b[39m\n",
      "File \u001b[0;32m~/test_env/lib/python3.11/site-packages/jax_cosmo/scipy/integrate.py:198\u001b[0m, in \u001b[0;36msimps\u001b[0;34m(f, a, b, N)\u001b[0m\n\u001b[1;32m    196\u001b[0m dx \u001b[39m=\u001b[39m (b \u001b[39m-\u001b[39m a) \u001b[39m/\u001b[39m N\n\u001b[1;32m    197\u001b[0m x \u001b[39m=\u001b[39m np\u001b[39m.\u001b[39mlinspace(a, b, N \u001b[39m+\u001b[39m \u001b[39m1\u001b[39m)\n\u001b[0;32m--> 198\u001b[0m y \u001b[39m=\u001b[39m f(x)\n\u001b[1;32m    199\u001b[0m S \u001b[39m=\u001b[39m dx \u001b[39m/\u001b[39m \u001b[39m3\u001b[39m \u001b[39m*\u001b[39m np\u001b[39m.\u001b[39msum(y[\u001b[39m0\u001b[39m:\u001b[39m-\u001b[39m\u001b[39m1\u001b[39m:\u001b[39m2\u001b[39m] \u001b[39m+\u001b[39m \u001b[39m4\u001b[39m \u001b[39m*\u001b[39m y[\u001b[39m1\u001b[39m::\u001b[39m2\u001b[39m] \u001b[39m+\u001b[39m y[\u001b[39m2\u001b[39m::\u001b[39m2\u001b[39m], axis\u001b[39m=\u001b[39m\u001b[39m0\u001b[39m)\n\u001b[1;32m    200\u001b[0m \u001b[39mreturn\u001b[39;00m S\n",
      "File \u001b[0;32m~/test_env/lib/python3.11/site-packages/jax_cosmo/angular_cl.py:82\u001b[0m, in \u001b[0;36mangular_cl.<locals>.cl.<locals>.integrand\u001b[0;34m(a)\u001b[0m\n\u001b[1;32m     79\u001b[0m pk \u001b[39m=\u001b[39m power\u001b[39m.\u001b[39mnonlinear_matter_power(cosmo, k, a, transfer_fn, nonlinear_fn)\n\u001b[1;32m     81\u001b[0m \u001b[39m# Compute the kernels for all probes\u001b[39;00m\n\u001b[0;32m---> 82\u001b[0m kernels \u001b[39m=\u001b[39m np\u001b[39m.\u001b[39mvstack([p\u001b[39m.\u001b[39;49mkernel(cosmo, a2z(a), ell) \u001b[39mfor\u001b[39;49;00m p \u001b[39min\u001b[39;49;00m probes])\n\u001b[1;32m     84\u001b[0m \u001b[39m# Define an ordering for the blocks of the signal vector\u001b[39;00m\n\u001b[1;32m     85\u001b[0m cl_index \u001b[39m=\u001b[39m np\u001b[39m.\u001b[39marray(_get_cl_ordering(probes))\n",
      "File \u001b[0;32m~/test_env/lib/python3.11/site-packages/jax_cosmo/angular_cl.py:82\u001b[0m, in \u001b[0;36m<listcomp>\u001b[0;34m(.0)\u001b[0m\n\u001b[1;32m     79\u001b[0m pk \u001b[39m=\u001b[39m power\u001b[39m.\u001b[39mnonlinear_matter_power(cosmo, k, a, transfer_fn, nonlinear_fn)\n\u001b[1;32m     81\u001b[0m \u001b[39m# Compute the kernels for all probes\u001b[39;00m\n\u001b[0;32m---> 82\u001b[0m kernels \u001b[39m=\u001b[39m np\u001b[39m.\u001b[39mvstack([p\u001b[39m.\u001b[39;49mkernel(cosmo, a2z(a), ell) \u001b[39mfor\u001b[39;00m p \u001b[39min\u001b[39;00m probes])\n\u001b[1;32m     84\u001b[0m \u001b[39m# Define an ordering for the blocks of the signal vector\u001b[39;00m\n\u001b[1;32m     85\u001b[0m cl_index \u001b[39m=\u001b[39m np\u001b[39m.\u001b[39marray(_get_cl_ordering(probes))\n",
      "File \u001b[0;32m~/test_env/lib/python3.11/site-packages/jax_cosmo/probes.py:273\u001b[0m, in \u001b[0;36mNumberCounts.kernel\u001b[0;34m(self, cosmo, z, ell)\u001b[0m\n\u001b[1;32m    271\u001b[0m pzs, bias \u001b[39m=\u001b[39m \u001b[39mself\u001b[39m\u001b[39m.\u001b[39mparams\n\u001b[1;32m    272\u001b[0m \u001b[39m# Retrieve density kernel\u001b[39;00m\n\u001b[0;32m--> 273\u001b[0m kernel \u001b[39m=\u001b[39m density_kernel(cosmo, pzs, bias, z, ell)\n\u001b[1;32m    274\u001b[0m \u001b[39mreturn\u001b[39;00m kernel\n",
      "    \u001b[0;31m[... skipping hidden 11 frame]\u001b[0m\n",
      "File \u001b[0;32m~/test_env/lib/python3.11/site-packages/jax_cosmo/probes.py:89\u001b[0m, in \u001b[0;36mdensity_kernel\u001b[0;34m(cosmo, pzs, bias, z, ell)\u001b[0m\n\u001b[1;32m     85\u001b[0m     \u001b[39mraise\u001b[39;00m \u001b[39mNotImplementedError\u001b[39;00m(\n\u001b[1;32m     86\u001b[0m         \u001b[39m\"\u001b[39m\u001b[39mDensity kernel not properly implemented for delta redshift distributions\u001b[39m\u001b[39m\"\u001b[39m\n\u001b[1;32m     87\u001b[0m     )\n\u001b[1;32m     88\u001b[0m \u001b[39m# stack the dndz of all redshift bins\u001b[39;00m\n\u001b[0;32m---> 89\u001b[0m dndz \u001b[39m=\u001b[39m np\u001b[39m.\u001b[39mstack([pz(z) \u001b[39mfor\u001b[39;49;00m pz \u001b[39min\u001b[39;49;00m pzs], axis\u001b[39m=\u001b[39m\u001b[39m0\u001b[39m)\n\u001b[1;32m     90\u001b[0m \u001b[39m# Compute radial NLA kernel: same as clustering\u001b[39;00m\n\u001b[1;32m     91\u001b[0m \u001b[39mif\u001b[39;00m \u001b[39misinstance\u001b[39m(bias, \u001b[39mlist\u001b[39m):\n\u001b[1;32m     92\u001b[0m     \u001b[39m# This is to handle the case where we get a bin-dependent bias\u001b[39;00m\n",
      "File \u001b[0;32m~/test_env/lib/python3.11/site-packages/jax_cosmo/probes.py:89\u001b[0m, in \u001b[0;36m<listcomp>\u001b[0;34m(.0)\u001b[0m\n\u001b[1;32m     85\u001b[0m     \u001b[39mraise\u001b[39;00m \u001b[39mNotImplementedError\u001b[39;00m(\n\u001b[1;32m     86\u001b[0m         \u001b[39m\"\u001b[39m\u001b[39mDensity kernel not properly implemented for delta redshift distributions\u001b[39m\u001b[39m\"\u001b[39m\n\u001b[1;32m     87\u001b[0m     )\n\u001b[1;32m     88\u001b[0m \u001b[39m# stack the dndz of all redshift bins\u001b[39;00m\n\u001b[0;32m---> 89\u001b[0m dndz \u001b[39m=\u001b[39m np\u001b[39m.\u001b[39mstack([pz(z) \u001b[39mfor\u001b[39;00m pz \u001b[39min\u001b[39;00m pzs], axis\u001b[39m=\u001b[39m\u001b[39m0\u001b[39m)\n\u001b[1;32m     90\u001b[0m \u001b[39m# Compute radial NLA kernel: same as clustering\u001b[39;00m\n\u001b[1;32m     91\u001b[0m \u001b[39mif\u001b[39;00m \u001b[39misinstance\u001b[39m(bias, \u001b[39mlist\u001b[39m):\n\u001b[1;32m     92\u001b[0m     \u001b[39m# This is to handle the case where we get a bin-dependent bias\u001b[39;00m\n",
      "File \u001b[0;32m~/Repos/LBGforecast/lbg_forecast/modified_redshift.py:42\u001b[0m, in \u001b[0;36mredshift_distribution.__call__\u001b[0;34m(self, z)\u001b[0m\n\u001b[1;32m     40\u001b[0m \u001b[39m\u001b[39m\u001b[39m\"\"\"Computes the normalized n(z)\"\"\"\u001b[39;00m\n\u001b[1;32m     41\u001b[0m \u001b[39mif\u001b[39;00m \u001b[39mself\u001b[39m\u001b[39m.\u001b[39m_norm \u001b[39mis\u001b[39;00m \u001b[39mNone\u001b[39;00m:\n\u001b[0;32m---> 42\u001b[0m     \u001b[39mself\u001b[39m\u001b[39m.\u001b[39m_norm \u001b[39m=\u001b[39m simps(\u001b[39mlambda\u001b[39;49;00m t: \u001b[39mself\u001b[39;49m\u001b[39m.\u001b[39;49mpz_fn(t), \u001b[39m0.0\u001b[39;49m, \u001b[39mself\u001b[39;49m\u001b[39m.\u001b[39;49mconfig[\u001b[39m\"\u001b[39;49m\u001b[39mzmax\u001b[39;49m\u001b[39m\"\u001b[39;49m], \u001b[39m256\u001b[39;49m)\n\u001b[1;32m     43\u001b[0m \u001b[39mreturn\u001b[39;00m \u001b[39mself\u001b[39m\u001b[39m.\u001b[39mpz_fn(z) \u001b[39m/\u001b[39m \u001b[39mself\u001b[39m\u001b[39m.\u001b[39m_norm\n",
      "File \u001b[0;32m~/test_env/lib/python3.11/site-packages/jax_cosmo/scipy/integrate.py:198\u001b[0m, in \u001b[0;36msimps\u001b[0;34m(f, a, b, N)\u001b[0m\n\u001b[1;32m    196\u001b[0m dx \u001b[39m=\u001b[39m (b \u001b[39m-\u001b[39m a) \u001b[39m/\u001b[39m N\n\u001b[1;32m    197\u001b[0m x \u001b[39m=\u001b[39m np\u001b[39m.\u001b[39mlinspace(a, b, N \u001b[39m+\u001b[39m \u001b[39m1\u001b[39m)\n\u001b[0;32m--> 198\u001b[0m y \u001b[39m=\u001b[39m f(x)\n\u001b[1;32m    199\u001b[0m S \u001b[39m=\u001b[39m dx \u001b[39m/\u001b[39m \u001b[39m3\u001b[39m \u001b[39m*\u001b[39m np\u001b[39m.\u001b[39msum(y[\u001b[39m0\u001b[39m:\u001b[39m-\u001b[39m\u001b[39m1\u001b[39m:\u001b[39m2\u001b[39m] \u001b[39m+\u001b[39m \u001b[39m4\u001b[39m \u001b[39m*\u001b[39m y[\u001b[39m1\u001b[39m::\u001b[39m2\u001b[39m] \u001b[39m+\u001b[39m y[\u001b[39m2\u001b[39m::\u001b[39m2\u001b[39m], axis\u001b[39m=\u001b[39m\u001b[39m0\u001b[39m)\n\u001b[1;32m    200\u001b[0m \u001b[39mreturn\u001b[39;00m S\n",
      "File \u001b[0;32m~/Repos/LBGforecast/lbg_forecast/modified_redshift.py:42\u001b[0m, in \u001b[0;36mredshift_distribution.__call__.<locals>.<lambda>\u001b[0;34m(t)\u001b[0m\n\u001b[1;32m     40\u001b[0m \u001b[39m\u001b[39m\u001b[39m\"\"\"Computes the normalized n(z)\"\"\"\u001b[39;00m\n\u001b[1;32m     41\u001b[0m \u001b[39mif\u001b[39;00m \u001b[39mself\u001b[39m\u001b[39m.\u001b[39m_norm \u001b[39mis\u001b[39;00m \u001b[39mNone\u001b[39;00m:\n\u001b[0;32m---> 42\u001b[0m     \u001b[39mself\u001b[39m\u001b[39m.\u001b[39m_norm \u001b[39m=\u001b[39m simps(\u001b[39mlambda\u001b[39;00m t: \u001b[39mself\u001b[39;49m\u001b[39m.\u001b[39;49mpz_fn(t), \u001b[39m0.0\u001b[39m, \u001b[39mself\u001b[39m\u001b[39m.\u001b[39mconfig[\u001b[39m\"\u001b[39m\u001b[39mzmax\u001b[39m\u001b[39m\"\u001b[39m], \u001b[39m256\u001b[39m)\n\u001b[1;32m     43\u001b[0m \u001b[39mreturn\u001b[39;00m \u001b[39mself\u001b[39m\u001b[39m.\u001b[39mpz_fn(z) \u001b[39m/\u001b[39m \u001b[39mself\u001b[39m\u001b[39m.\u001b[39m_norm\n",
      "File \u001b[0;32m~/Repos/LBGforecast/lbg_forecast/modified_redshift.py:174\u001b[0m, in \u001b[0;36mnz_hat.pz_fn\u001b[0;34m(self, z)\u001b[0m\n\u001b[1;32m    171\u001b[0m zmins \u001b[39m=\u001b[39m \u001b[39mself\u001b[39m\u001b[39m.\u001b[39mparams[\u001b[39m1\u001b[39m]\n\u001b[1;32m    172\u001b[0m zmaxs \u001b[39m=\u001b[39m \u001b[39mself\u001b[39m\u001b[39m.\u001b[39mparams[\u001b[39m2\u001b[39m]\n\u001b[0;32m--> 174\u001b[0m step1 \u001b[39m=\u001b[39m np\u001b[39m.\u001b[39mwhere(zmins \u001b[39m<\u001b[39;49m\u001b[39m=\u001b[39;49m z, \u001b[39m1.0\u001b[39m, \u001b[39m0.0\u001b[39m)\n\u001b[1;32m    175\u001b[0m step2 \u001b[39m=\u001b[39m np\u001b[39m.\u001b[39mwhere(zmaxs \u001b[39m>\u001b[39m z, \u001b[39m1.0\u001b[39m, \u001b[39m0.0\u001b[39m)\n\u001b[1;32m    177\u001b[0m value \u001b[39m=\u001b[39m np\u001b[39m.\u001b[39mdot(np\u001b[39m.\u001b[39mmultiply(step1, step2), bin_heights)\n",
      "    \u001b[0;31m[... skipping hidden 1 frame]\u001b[0m\n",
      "File \u001b[0;32m~/test_env/lib/python3.11/site-packages/jax/_src/numpy/lax_numpy.py:5071\u001b[0m, in \u001b[0;36m_defer_to_unrecognized_arg.<locals>.deferring_binary_op\u001b[0;34m(self, other)\u001b[0m\n\u001b[1;32m   5069\u001b[0m args \u001b[39m=\u001b[39m (other, \u001b[39mself\u001b[39m) \u001b[39mif\u001b[39;00m swap \u001b[39melse\u001b[39;00m (\u001b[39mself\u001b[39m, other)\n\u001b[1;32m   5070\u001b[0m \u001b[39mif\u001b[39;00m \u001b[39misinstance\u001b[39m(other, _accepted_binop_types):\n\u001b[0;32m-> 5071\u001b[0m   \u001b[39mreturn\u001b[39;00m binary_op(\u001b[39m*\u001b[39;49margs)\n\u001b[1;32m   5072\u001b[0m \u001b[39mif\u001b[39;00m \u001b[39misinstance\u001b[39m(other, _rejected_binop_types):\n\u001b[1;32m   5073\u001b[0m   \u001b[39mraise\u001b[39;00m \u001b[39mTypeError\u001b[39;00m(\u001b[39mf\u001b[39m\u001b[39m\"\u001b[39m\u001b[39munsupported operand type(s) for \u001b[39m\u001b[39m{\u001b[39;00mopchar\u001b[39m}\u001b[39;00m\u001b[39m: \u001b[39m\u001b[39m\"\u001b[39m\n\u001b[1;32m   5074\u001b[0m                   \u001b[39mf\u001b[39m\u001b[39m\"\u001b[39m\u001b[39m{\u001b[39;00m\u001b[39mtype\u001b[39m(args[\u001b[39m0\u001b[39m])\u001b[39m.\u001b[39m\u001b[39m__name__\u001b[39m\u001b[39m!r}\u001b[39;00m\u001b[39m and \u001b[39m\u001b[39m{\u001b[39;00m\u001b[39mtype\u001b[39m(args[\u001b[39m1\u001b[39m])\u001b[39m.\u001b[39m\u001b[39m__name__\u001b[39m\u001b[39m!r}\u001b[39;00m\u001b[39m\"\u001b[39m)\n",
      "    \u001b[0;31m[... skipping hidden 11 frame]\u001b[0m\n",
      "File \u001b[0;32m~/test_env/lib/python3.11/site-packages/jax/_src/numpy/ufuncs.py:118\u001b[0m, in \u001b[0;36m_comparison_op.<locals>.fn\u001b[0;34m(x1, x2)\u001b[0m\n\u001b[1;32m    115\u001b[0m   ry \u001b[39m=\u001b[39m lax\u001b[39m.\u001b[39mreal(x2)\n\u001b[1;32m    116\u001b[0m   \u001b[39mreturn\u001b[39;00m lax\u001b[39m.\u001b[39mselect(lax\u001b[39m.\u001b[39meq(rx, ry), lax_fn(lax\u001b[39m.\u001b[39mimag(x1), lax\u001b[39m.\u001b[39mimag(x2)),\n\u001b[1;32m    117\u001b[0m                     lax_fn(rx, ry))\n\u001b[0;32m--> 118\u001b[0m \u001b[39mreturn\u001b[39;00m lax_fn(x1, x2)\n",
      "    \u001b[0;31m[... skipping hidden 7 frame]\u001b[0m\n",
      "File \u001b[0;32m~/test_env/lib/python3.11/site-packages/jax/_src/lax/lax.py:1596\u001b[0m, in \u001b[0;36mbroadcasting_shape_rule\u001b[0;34m(name, *avals)\u001b[0m\n\u001b[1;32m   1594\u001b[0m       result_shape\u001b[39m.\u001b[39mappend(non_1s[\u001b[39m0\u001b[39m])\n\u001b[1;32m   1595\u001b[0m     \u001b[39melse\u001b[39;00m:\n\u001b[0;32m-> 1596\u001b[0m       \u001b[39mraise\u001b[39;00m \u001b[39mTypeError\u001b[39;00m(\u001b[39mf\u001b[39m\u001b[39m'\u001b[39m\u001b[39m{\u001b[39;00mname\u001b[39m}\u001b[39;00m\u001b[39m got incompatible shapes for broadcasting: \u001b[39m\u001b[39m'\u001b[39m\n\u001b[1;32m   1597\u001b[0m                       \u001b[39mf\u001b[39m\u001b[39m'\u001b[39m\u001b[39m{\u001b[39;00m\u001b[39m\"\u001b[39m\u001b[39m, \u001b[39m\u001b[39m\"\u001b[39m\u001b[39m.\u001b[39mjoin(\u001b[39mmap\u001b[39m(\u001b[39mstr\u001b[39m,\u001b[39m \u001b[39m\u001b[39mmap\u001b[39m(\u001b[39mtuple\u001b[39m,\u001b[39m \u001b[39mshapes)))\u001b[39m}\u001b[39;00m\u001b[39m.\u001b[39m\u001b[39m'\u001b[39m)\n\u001b[1;32m   1599\u001b[0m \u001b[39mreturn\u001b[39;00m \u001b[39mtuple\u001b[39m(result_shape)\n",
      "\u001b[0;31mTypeError\u001b[0m: le got incompatible shapes for broadcasting: (9,), (257,)."
     ]
    }
   ],
   "source": [
    "cl = cl_hat(define_cosmo(), hist, bin_edges, ell)"
   ]
  },
  {
   "cell_type": "code",
   "execution_count": null,
   "id": "2172fe6d-abe1-4afe-b48a-f6206fbd4d08",
   "metadata": {},
   "outputs": [],
   "source": [
    "plt.plot(ell, cl)\n",
    "plt.yscale(\"log\")"
   ]
  },
  {
   "cell_type": "code",
   "execution_count": null,
   "id": "67caa7c7-615d-4625-8f0a-02e7204525ef",
   "metadata": {},
   "outputs": [],
   "source": []
  }
 ],
 "metadata": {
  "kernelspec": {
   "display_name": "test_env",
   "language": "python",
   "name": "python3"
  },
  "language_info": {
   "codemirror_mode": {
    "name": "ipython",
    "version": 3
   },
   "file_extension": ".py",
   "mimetype": "text/x-python",
   "name": "python",
   "nbconvert_exporter": "python",
   "pygments_lexer": "ipython3",
   "version": "3.11.2"
  },
  "vscode": {
   "interpreter": {
    "hash": "663fe58e1122b681090fb2decc638164194541e06215a6bf09eef7f60b411380"
   }
  }
 },
 "nbformat": 4,
 "nbformat_minor": 5
}
