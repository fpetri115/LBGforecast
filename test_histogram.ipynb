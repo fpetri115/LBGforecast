{
 "cells": [
  {
   "cell_type": "code",
   "execution_count": null,
   "id": "2e151844-3b0c-45d2-8d94-e6d50fa82357",
   "metadata": {},
   "outputs": [],
   "source": [
    "import jax.numpy as jnp\n",
    "import numpy as onp\n",
    "from jax.config import config\n",
    "config.update(\"jax_enable_x64\", True)\n",
    "\n",
    "import matplotlib.pyplot as plt\n",
    "\n",
    "from lbg_forecast.modified_redshift import nz_hat\n",
    "from lbg_forecast.angular_power import cl_hat\n",
    "from lbg_forecast.angular_power import define_cosmo"
   ]
  },
  {
   "cell_type": "code",
   "execution_count": null,
   "id": "6687c251",
   "metadata": {},
   "outputs": [],
   "source": [
    "data = onp.array([0.2, 0.2, 1., 1., 1., 1.5, 2., 2., 3., \n",
    "                  4., 4., 4., 4., 5., 5., 5., 5., 6., 6., 7.])\n",
    "bin_edges = onp.array([0., 0.5, 0.9, 1.1, 2., 3., 4., 4.5, 5., 7.])\n",
    "hist, bins = onp.histogram(data, bin_edges)\n",
    "\n",
    "#plot numpy histogram (black shaded area)\n",
    "plt.hist(data, bin_edges, color=\"k\")\n",
    "area_under_curve_numpy = onp.sum(hist*onp.diff(bin_edges))\n",
    "\n",
    "#plot jax redshift histogram (red solid line)\n",
    "nzhat = nz_hat(hist, bin_edges)\n",
    "dz = 1e-3\n",
    "z_space = jnp.arange(0.0-dz, 7.0+dz, dz)\n",
    "func = nzhat.pz_fn(z_space)#plot_jax_nz(nzhat, z_space)\n",
    "plt.plot(z_space, func, color=\"r\", lw=\"5\")\n",
    "area_under_curve_jax_redshift = onp.trapz(func, z_space)\n",
    "\n",
    "onp.testing.assert_allclose(area_under_curve_numpy, \n",
    "                            area_under_curve_jax_redshift,\n",
    "                              rtol=1e-10)"
   ]
  },
  {
   "cell_type": "code",
   "execution_count": null,
   "id": "ed2341dd",
   "metadata": {},
   "outputs": [],
   "source": [
    "f = lambda t : nzhat.pz_fn(t)\n",
    "x = onp.linspace(0, 10, 257)\n",
    "f(x)"
   ]
  },
  {
   "cell_type": "code",
   "execution_count": null,
   "id": "9867b904-b94b-4f39-843b-9bdc5ee9f30f",
   "metadata": {},
   "outputs": [],
   "source": [
    "ell = jnp.arange(200, 1000, 1)"
   ]
  },
  {
   "cell_type": "code",
   "execution_count": null,
   "id": "e7591f82-fd2e-49a8-8adb-9ac91166537f",
   "metadata": {},
   "outputs": [],
   "source": [
    "cl = cl_hat(define_cosmo(), hist, bin_edges, ell)"
   ]
  },
  {
   "cell_type": "code",
   "execution_count": null,
   "id": "2172fe6d-abe1-4afe-b48a-f6206fbd4d08",
   "metadata": {},
   "outputs": [],
   "source": [
    "plt.plot(ell, cl)\n",
    "plt.yscale(\"log\")"
   ]
  },
  {
   "cell_type": "code",
   "execution_count": null,
   "id": "67caa7c7-615d-4625-8f0a-02e7204525ef",
   "metadata": {},
   "outputs": [],
   "source": []
  }
 ],
 "metadata": {
  "kernelspec": {
   "display_name": "test_env",
   "language": "python",
   "name": "python3"
  },
  "language_info": {
   "codemirror_mode": {
    "name": "ipython",
    "version": 3
   },
   "file_extension": ".py",
   "mimetype": "text/x-python",
   "name": "python",
   "nbconvert_exporter": "python",
   "pygments_lexer": "ipython3",
   "version": "3.11.2"
  },
  "vscode": {
   "interpreter": {
    "hash": "663fe58e1122b681090fb2decc638164194541e06215a6bf09eef7f60b411380"
   }
  }
 },
 "nbformat": 4,
 "nbformat_minor": 5
}
