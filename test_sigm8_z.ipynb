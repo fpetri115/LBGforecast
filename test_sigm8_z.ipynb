{
 "cells": [
  {
   "cell_type": "code",
   "execution_count": 22,
   "metadata": {},
   "outputs": [],
   "source": [
    "from lbg_forecast.likelihood import Likelihood\n",
    "from lbg_forecast.angular_power import define_cosmo\n",
    "from lbg_forecast.angular_power import pk_lin\n",
    "import numpy as np\n",
    "import jax.numpy as jnp\n",
    "import matplotlib.pyplot as plt\n",
    "import lbg_forecast.utils as utils\n",
    "import jax_cosmo as jc\n"
   ]
  },
  {
   "cell_type": "code",
   "execution_count": 44,
   "metadata": {},
   "outputs": [],
   "source": [
    "def trig_plot(nparams, params, F, F_marg, labels):\n",
    "    \n",
    "    plt.figure(figsize=(25, 25))\n",
    "\n",
    "    #randnos = np.random.multivariate_normal(np.array([params[0], params[1]]),\n",
    "    #                                         np.linalg.inv(F), 1000)\n",
    "    for i in range(nparams):\n",
    "        for j in range(nparams):\n",
    "            if j<i:\n",
    "                plt.subplot(nparams,nparams,i*nparams+j+1)\n",
    "                plt.subplots_adjust(wspace=0, hspace=0)\n",
    "\n",
    "\n",
    "                plt.grid(alpha=0.4, zorder=-1)\n",
    "\n",
    "                utils.plot_contours(F, params, j, i, K=2.279, fill=True,color='k', alpha=0.3, zorder=5, ls=\"--\", lw=2)\n",
    "                utils.plot_contours(F, params, j, i, K=5.991, fill=True,color='k',  alpha=0.3, zorder=5, ls=\"--\", lw=2)\n",
    "                #plot_contours(F, params, j, i, K=9.210, fill=True,color='k',  alpha=0.3, zorder=5, ls=\"--\", lw=2)\n",
    "                    #plot_contours(F, params, j, i, K=11.618, fill=True,color='b',  alpha=0.3, zorder=5)\n",
    "\n",
    "                utils.plot_contours(F_marg, params, j, i, K=2.279, fill=True,color='r', alpha=0.3, zorder=1, lw=2)\n",
    "                utils.plot_contours(F_marg, params, j, i, K=5.991, fill=True,color='r', alpha=0.3, zorder=1, lw=2)\n",
    "                    #plot_contours(F_marg, params, j, i, K=9.210, fill=True,color='r',  alpha=0.3, zorder=1)\n",
    "                    #plot_contours(F_marg, params, j, i, K=11.618, fill=True,color='r', alpha=0.3, zorder=1)\n",
    "                \n",
    "\n",
    "                if(j == 0):\n",
    "                    plt.ylabel(labels[i], fontsize = 32)\n",
    "\n",
    "                if(i == nparams-1):\n",
    "                    plt.xlabel(labels[j], fontsize = 32)\n",
    "\n",
    "                plt.tick_params(axis=\"x\", width = 2, labelsize=15)\n",
    "                plt.tick_params(axis=\"y\", width = 2, labelsize=15)\n",
    "\n",
    "                if(i < nparams - 1):\n",
    "                    plt.tick_params(\n",
    "                        axis='x',          # changes apply to the x-axis\n",
    "                        which='both',      # both major and minor ticks are affected\n",
    "                        bottom=False,      # ticks along the bottom edge are off\n",
    "                        labelbottom=False)\n",
    "                    \n",
    "                if(j > 0):\n",
    "                    plt.tick_params(\n",
    "                        axis='y',          # changes apply to the x-axis\n",
    "                        which='both',      # both major and minor ticks are affected\n",
    "                        left=False,        # ticks along the bottom edge are off\n",
    "                        labelleft=False)\n",
    "                #plt.scatter(randnos[:,0], randnos[:, 1], c ='r', zorder=100, alpha=.5, s=10)\n",
    "\n",
    "\n",
    "def forecast(lhood):\n",
    "\n",
    "    params = np.array([lhood._cosmo_fid.sigma8, \n",
    "                    lhood._cosmo_fid.Omega_c, lhood._cosmo_fid.Omega_b,\n",
    "                    lhood._cosmo_fid.h, lhood._cosmo_fid.n_s,\n",
    "                    lhood._b_lbg_u, lhood._b_lbg_g, lhood._b_lbg_r])\n",
    "\n",
    "    labels = np.array([\"$\\sigma_{8}$\", \"$\\Omega_{c}$\", \"$\\Omega_{b}$\",\n",
    "                        \"$h$\", \"$n_{s}$\", \"$b^{lbg}_{u}$\", \"$b^{lbg}_{g}$\", \"$b^{lbg}_{r}$\"])\n",
    "\n",
    "    F = lhood.fisher(params)\n",
    "    F_marg = lhood.fisher_marg(params)\n",
    "\n",
    "    return F, F_marg, params, labels"
   ]
  },
  {
   "cell_type": "code",
   "execution_count": 3,
   "metadata": {},
   "outputs": [
    {
     "name": "stdout",
     "output_type": "stream",
     "text": [
      "Initialising likelihood\n",
      "Initialisation Complete\n"
     ]
    }
   ],
   "source": [
    "path = \"./\"\n",
    "lhood = Likelihood(path)"
   ]
  },
  {
   "cell_type": "code",
   "execution_count": 4,
   "metadata": {},
   "outputs": [],
   "source": [
    "params = np.array([lhood._cosmo_fid.sigma8, \n",
    "                lhood._cosmo_fid.Omega_c, lhood._cosmo_fid.Omega_b,\n",
    "                lhood._cosmo_fid.h, lhood._cosmo_fid.n_s,\n",
    "                lhood._b_lbg_u, lhood._b_lbg_g, lhood._b_lbg_r])\n",
    "\n",
    "params_mod = np.array([lhood._cosmo_fid.sigma8, \n",
    "                lhood._cosmo_fid.Omega_c, lhood._cosmo_fid.Omega_b,\n",
    "                lhood._cosmo_fid.h, lhood._cosmo_fid.n_s,\n",
    "                lhood._b_lbg_u, lhood._b_lbg_g, lhood._b_lbg_r])"
   ]
  },
  {
   "cell_type": "code",
   "execution_count": 6,
   "metadata": {},
   "outputs": [],
   "source": [
    "F, F_marg, params, labels = forecast(lhood)"
   ]
  },
  {
   "cell_type": "code",
   "execution_count": 61,
   "metadata": {},
   "outputs": [
    {
     "data": {
      "text/plain": [
       "<ErrorbarContainer object of 3 artists>"
      ]
     },
     "execution_count": 61,
     "metadata": {},
     "output_type": "execute_result"
    },
    {
     "data": {
      "image/png": "[encoded data removed]",
      "text/plain": [
       "<Figure size 640x480 with 1 Axes>"
      ]
     },
     "metadata": {},
     "output_type": "display_data"
    }
   ],
   "source": [
    "def sig8_at_z(sig8, z):\n",
    "    cosmo = jc.Planck15(sigma8=sig8)\n",
    "    return ((np.sqrt(pk_lin(cosmo, 1/8, z)/pk_lin(cosmo, 1/8, 0.0)))*cosmo.sigma8)\n",
    "\n",
    "def prop_err(fid_sig, sig_err, z):\n",
    "    sig = sig8_at_z(fid_sig, z)\n",
    "    err = abs(sig8_at_z(fid_sig+sig_err, z) + sig)\n",
    "    return sig, err\n",
    "\n",
    "def get_err(F):\n",
    "    cov = np.linalg.inv(F)\n",
    "    sigma8_err = np.sqrt(cov[0, 0])\n",
    "    return sigma8_err\n",
    "\n",
    "sigma8_err = get_err(F)\n",
    "sigma8_err_marg = get_err(F_marg)\n",
    "fid_sig8 = lhood._cosmo_fid.sigma8\n",
    "\n",
    "redshifts = []\n",
    "sigmas = []\n",
    "errs = []\n",
    "sigmas_marg = []\n",
    "errs_marg = []\n",
    "for z in range(0, 6):\n",
    "    sigma8_z, sigma8_err_z = prop_err(fid_sig8, sigma8_err, z)\n",
    "    sigma8_z_marg, sigma8_err_z_marg = prop_err(fid_sig8, sigma8_err_marg, z)\n",
    "    redshifts.append(z)\n",
    "    sigmas.append(sigma8_z)\n",
    "    sigmas_marg.append(sigma8_z_marg)\n",
    "    errs.append(sigma8_err)\n",
    "    errs_marg.append(sigma8_err_marg)\n",
    "\n",
    "plt.errorbar(redshifts, sigmas_marg, errs_marg)\n",
    "plt.errorbar(redshifts, sigmas, errs)\n"
   ]
  },
  {
   "cell_type": "code",
   "execution_count": 65,
   "metadata": {},
   "outputs": [
    {
     "data": {
      "text/plain": [
       "<ErrorbarContainer object of 3 artists>"
      ]
     },
     "execution_count": 65,
     "metadata": {},
     "output_type": "execute_result"
    },
    {
     "data": {
      "image/png": "[encoded data removed]",
      "text/plain": [
       "<Figure size 640x480 with 1 Axes>"
      ]
     },
     "metadata": {},
     "output_type": "display_data"
    }
   ],
   "source": [
    "plt.errorbar(redshifts, np.array(sigmas_marg)/np.array(sigmas_marg), np.array(errs_marg)/np.array(sigmas_marg))\n",
    "plt.errorbar(redshifts, np.array(sigmas)/np.array(sigmas), np.array(errs)/np.array(sigmas))"
   ]
  }
 ],
 "metadata": {
  "kernelspec": {
   "display_name": "tf_env",
   "language": "python",
   "name": "python3"
  },
  "language_info": {
   "codemirror_mode": {
    "name": "ipython",
    "version": 3
   },
   "file_extension": ".py",
   "mimetype": "text/x-python",
   "name": "python",
   "nbconvert_exporter": "python",
   "pygments_lexer": "ipython3",
   "version": "3.11.7"
  }
 },
 "nbformat": 4,
 "nbformat_minor": 2
}
