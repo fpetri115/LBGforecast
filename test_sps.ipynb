{
 "cells": [
  {
   "cell_type": "code",
   "execution_count": 1,
   "metadata": {},
   "outputs": [],
   "source": [
    "import os\n",
    "os.environ[\"SPS_HOME\"] = \"/Users/fpetri/packages/fsps\" "
   ]
  },
  {
   "cell_type": "code",
   "execution_count": 2,
   "metadata": {},
   "outputs": [],
   "source": [
    "import numpy as np\n",
    "import matplotlib.pyplot as plt\n",
    "import lbg_forecast.sps as sps\n",
    "import lbg_forecast.sfh as sfh\n",
    "import lbg_forecast.priors as pr\n",
    "import lbg_forecast.hyperparams as hyp\n",
    "import lbg_forecast.population_model as pop\n",
    "import lbg_forecast.zhistory as zh\n",
    "import lbg_forecast.priors as pr\n",
    "from astropy.cosmology import WMAP9 as cosmo\n",
    "from scipy.stats import truncnorm"
   ]
  },
  {
   "cell_type": "code",
   "execution_count": 3,
   "metadata": {},
   "outputs": [],
   "source": [
    "sps_model = sps.initialise_sps_model(neb_em=False)"
   ]
  },
  {
   "cell_type": "code",
   "execution_count": 4,
   "metadata": {},
   "outputs": [],
   "source": [
    "redshift_mass_prior_parameters = pr.setup_redshift_and_mass_priors(z_max=15)\n",
    "sps_parameters = pop.generate_sps_parameters(100, redshift_mass_prior_parameters)"
   ]
  },
  {
   "cell_type": "code",
   "execution_count": 45,
   "metadata": {},
   "outputs": [],
   "source": [
    "def sample_prior_parameters(nsamples, bounds, sigma_bounds):\n",
    "    \"\"\"Sample prior parameters (hyperparameters) for\n",
    "    SPS model. \n",
    "\n",
    "    :param nsamples:\n",
    "        Number of samples\n",
    "\n",
    "    :param bounds:\n",
    "        (no. priors, 2) shape array with minimum and maximum\n",
    "        mean for gaussian distribution for a given prior in \n",
    "        each row. The last rows are for uniform priors, where\n",
    "        each row is then the minimum and maximum of that uniform\n",
    "        distribution. The number of gaussian priors is determined\n",
    "        by the length of the sigma_bounds parameter.\n",
    "\n",
    "    :param sigma_bounds:\n",
    "        (no. gaussian priors, 2) shape array with minimum and maximum\n",
    "        standard deviation for gaussian priors. len(sigma_bounds) gives\n",
    "        number of gaussian priors. So for any rows of parameter bounds\n",
    "        with index greater then len(sigma_bounds) will be treated as\n",
    "        uniform priors\n",
    "\n",
    "    :returns prior_parameters:\n",
    "        (nsamples, len(bounds)) shape array of hyperparameters. Each row is a\n",
    "        different reaslisation of the hyperparameters.\n",
    "        Number of rows = nsamples. Columns are parameters,\n",
    "        in order given by (mu1, sig1, mu2, sig2, ... ) up\n",
    "        to uniform prior parameters which then go as\n",
    "        (min1, max1, min2, max2 ... )\n",
    "    \n",
    "    \"\"\"\n",
    "    n_gaussian_priors = len(sigma_bounds)\n",
    "    n_priors = len(bounds)\n",
    "    n_prior_parameters = int(2*n_priors)\n",
    "    prior_parameters = np.empty((nsamples, n_prior_parameters))\n",
    "\n",
    "    indx = 0\n",
    "    #loop over gaussian priors\n",
    "    while(indx < n_gaussian_priors):\n",
    "\n",
    "        parameter_bounds = bounds[indx, :]\n",
    "        parameter_sigma_bounds = sigma_bounds[indx, :]\n",
    "        prior_parameters[:, int(2*indx)] = np.random.uniform(parameter_bounds[0], parameter_bounds[1], (nsamples,))\n",
    "        prior_parameters[:, int(2*indx+1)] = np.random.uniform(parameter_sigma_bounds[0], parameter_sigma_bounds[1], (nsamples,)) \n",
    "\n",
    "        indx+=1\n",
    "\n",
    "    #loop over uniform priors\n",
    "    while(indx < n_priors):\n",
    "\n",
    "        parameter_bounds = bounds[indx, :]\n",
    "        prior_parameters[:, int(2*indx)] = np.ones((nsamples,))*parameter_bounds[0]\n",
    "        prior_parameters[:, int(2*indx+1)] = np.ones((nsamples,))*parameter_bounds[1]\n",
    "\n",
    "        indx+=1\n",
    "\n",
    "    return prior_parameters"
   ]
  },
  {
   "cell_type": "code",
   "execution_count": 39,
   "metadata": {},
   "outputs": [],
   "source": [
    "hyperparameter_mu_bounds = np.array([[-2.5, 0.5],  #logzsol\n",
    "                                  [0.0, 2.0],      #dust1\n",
    "                                  [0.0, 4.0],      #dust2\n",
    "                                  [-1.0, 0.4],     #dust_index\n",
    "                                  [1.0, 1.0],      #igm_factor \n",
    "                                  [-4.0, -1.0],    #gas_log_u\n",
    "                                  [-5.0, 1.0],     #log10(fagn)\n",
    "                                  [5, 150],        #agn_tau\n",
    "                                  [2, 10],         #nu\n",
    "                                  [0.1, 1.0]       #sig\n",
    "])\n",
    "\n",
    "hyperparameter_sigma_max = np.array([[0.01, 3.0], #logzsol\n",
    "                                     [0.01, 2.0], #dust1\n",
    "                                     [0.01, 4.0], #dust2\n",
    "                                     [0.01, 0.5], #dust_index\n",
    "                                     [0.01, 2.0], #igm_factor \n",
    "                                     [0.01, 3.0], #gas_log_u\n",
    "                                     [0.01, 6.0], #log10(fagn)\n",
    "                                     [0.1, 145]   #agn_tau\n",
    "])"
   ]
  },
  {
   "cell_type": "code",
   "execution_count": 47,
   "metadata": {},
   "outputs": [
    {
     "data": {
      "text/plain": [
       "array([[-0.32138746,  2.28123203,  1.33735379, ..., 10.        ,\n",
       "         0.1       ,  1.        ],\n",
       "       [-0.40439016,  1.88095734,  0.52353616, ..., 10.        ,\n",
       "         0.1       ,  1.        ],\n",
       "       [-1.89068906,  1.82096914,  0.05930904, ..., 10.        ,\n",
       "         0.1       ,  1.        ],\n",
       "       ...,\n",
       "       [ 0.01815251,  1.19540877,  1.61703978, ..., 10.        ,\n",
       "         0.1       ,  1.        ],\n",
       "       [-0.57612206,  2.78963354,  0.07493364, ..., 10.        ,\n",
       "         0.1       ,  1.        ],\n",
       "       [-1.89104721,  0.29582568,  0.25226641, ..., 10.        ,\n",
       "         0.1       ,  1.        ]])"
      ]
     },
     "execution_count": 47,
     "metadata": {},
     "output_type": "execute_result"
    }
   ],
   "source": [
    "sample_prior_parameters(100, hyperparameter_mu_bounds, hyperparameter_sigma_max)"
   ]
  }
 ],
 "metadata": {
  "kernelspec": {
   "display_name": "tensorflow",
   "language": "python",
   "name": "tf_env"
  },
  "language_info": {
   "codemirror_mode": {
    "name": "ipython",
    "version": 3
   },
   "file_extension": ".py",
   "mimetype": "text/x-python",
   "name": "python",
   "nbconvert_exporter": "python",
   "pygments_lexer": "ipython3",
   "version": "3.11.0"
  }
 },
 "nbformat": 4,
 "nbformat_minor": 2
}
