{
 "cells": [
  {
   "cell_type": "code",
   "execution_count": 1,
   "metadata": {},
   "outputs": [],
   "source": [
    "import os\n",
    "os.environ[\"SPS_HOME\"] = \"/Users/fpetri/packages/fsps\" "
   ]
  },
  {
   "cell_type": "code",
   "execution_count": 7,
   "metadata": {},
   "outputs": [],
   "source": [
    "import numpy as np\n",
    "import matplotlib.pyplot as plt\n",
    "import lbg_forecast.sps as sps\n",
    "import lbg_forecast.sfh as sfh\n",
    "import lbg_forecast.priors as pr\n",
    "import lbg_forecast.hyperparams as hyp\n",
    "import lbg_forecast.popmodel as pop\n",
    "import lbg_forecast.zhistory as zh\n",
    "import lbg_forecast.priors as pr\n",
    "from astropy.cosmology import WMAP9 as cosmo\n",
    "from scipy.stats import truncnorm"
   ]
  },
  {
   "cell_type": "code",
   "execution_count": 3,
   "metadata": {},
   "outputs": [],
   "source": [
    "sps_model = sps.initialise_sps_model(neb_em=False)"
   ]
  },
  {
   "cell_type": "code",
   "execution_count": 4,
   "metadata": {},
   "outputs": [],
   "source": [
    "prior_params = pr.setup_redshift_and_mass_priors(z_max=15)"
   ]
  },
  {
   "cell_type": "code",
   "execution_count": 8,
   "metadata": {},
   "outputs": [],
   "source": [
    "def truncated_normal(mu, sigma, min, max, samples):\n",
    "    a, b = (min - mu) / sigma, (max - mu) / sigma\n",
    "    return truncnorm.rvs(a, b, loc=mu, scale=sigma, size=samples)"
   ]
  },
  {
   "cell_type": "code",
   "execution_count": 9,
   "metadata": {},
   "outputs": [],
   "source": [
    "def generate_sps_parameters(nsamples, prior_params):\n",
    "\n",
    "    logzsol_mu, logzsol_sigma = -0.1, 0.1\n",
    "    dust1_mu, dust1_sigma = 0.2, 0.5\n",
    "    dust2_mu, dust2_sigma = 0.2, 0.5\n",
    "    dust_index_mu, dust_index_sigma = -0.7, 0.4\n",
    "\n",
    "    #Setup redshift and mass priors\n",
    "    z_grid, logm_grid, priors, grid_params = prior_params\n",
    "    z_samples, m_samples = pr.sample_priors(z_grid, logm_grid, priors, grid_params, nsamples, plotting=False)\n",
    "    \n",
    "    #Ages of universe at different redshifts\n",
    "    t_universe_grid = pop.tuniv_grid(z_grid)    \n",
    "\n",
    "    nsps_parameters = []\n",
    "\n",
    "    #Redshift - zred\n",
    "    redshift = np.vstack(z_samples)\n",
    "    nsps_parameters.append(redshift)\n",
    "\n",
    "    #Age of the universe at given redshift - tage [Gyr]\n",
    "    tuniv = np.interp(z_samples, z_grid, t_universe_grid)\n",
    "    tuniv = np.reshape(np.log10(np.asarray(tuniv)), (nsamples,))\n",
    "    nsps_parameters.append(tuniv)\n",
    "\n",
    "    #Stellar Metallicity - logzsol\n",
    "    logzsol_min = -2.5\n",
    "    logzsol_max = 0.5\n",
    "    logzsol = truncated_normal(logzsol_mu, logzsol_sigma, logzsol_min, logzsol_max)\n",
    "    nsps_parameters.append(logzsol)\n",
    "\n",
    "    #Dust parameter for attenuating young starlight - dust1\n",
    "    dust1_min = 0.0\n",
    "    dust1_max = 2.0\n",
    "    dust1 = truncated_normal(dust1_mu, dust1_sigma, dust1_min, dust1_max) \n",
    "    nsps_parameters.append(dust1)\n",
    "\n",
    "    #Diffuse dust parameter - dust2\n",
    "    dust2_min = 0.0\n",
    "    dust2_max = 4.0\n",
    "    dust2 = truncated_normal(dust2_mu, dust2_sigma, dust2_min, dust2_max) \n",
    "    nsps_parameters.append(dust2)\n",
    "\n",
    "    #Index of dust attenuation law - dust_index\n",
    "    dust_index_min = -1.0\n",
    "    dust_index_max = 0.4\n",
    "    dust_index = truncated_normal(dust_index_mu, dust_index_sigma, dust_index_min, dust_index_max) \n",
    "    nsps_parameters.append(dust_index)\n",
    "\n",
    "    return nsps_parameters\n"
   ]
  }
 ],
 "metadata": {
  "kernelspec": {
   "display_name": "tensorflow",
   "language": "python",
   "name": "tf_env"
  },
  "language_info": {
   "codemirror_mode": {
    "name": "ipython",
    "version": 3
   },
   "file_extension": ".py",
   "mimetype": "text/x-python",
   "name": "python",
   "nbconvert_exporter": "python",
   "pygments_lexer": "ipython3",
   "version": "3.11.0"
  }
 },
 "nbformat": 4,
 "nbformat_minor": 2
}
