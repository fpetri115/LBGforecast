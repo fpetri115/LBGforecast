{
 "cells": [
  {
   "cell_type": "code",
   "execution_count": 1,
   "metadata": {},
   "outputs": [],
   "source": [
    "import os\n",
    "os.environ[\"SPS_HOME\"] = \"/Users/fpetri/packages/fsps\" "
   ]
  },
  {
   "cell_type": "code",
   "execution_count": 2,
   "metadata": {},
   "outputs": [],
   "source": [
    "import numpy as np\n",
    "import matplotlib.pyplot as plt\n",
    "import lbg_forecast.sps as sps\n",
    "import lbg_forecast.sfh as sfh\n",
    "import lbg_forecast.priors as pr\n",
    "import lbg_forecast.hyperparams as hyp\n",
    "import lbg_forecast.popmodel as pop\n",
    "import lbg_forecast.zhistory as zh\n",
    "import lbg_forecast.priors as pr\n",
    "from astropy.cosmology import WMAP9 as cosmo\n",
    "from scipy.stats import truncnorm"
   ]
  },
  {
   "cell_type": "code",
   "execution_count": 3,
   "metadata": {},
   "outputs": [],
   "source": [
    "sps_model = sps.initialise_sps_model(neb_em=False)"
   ]
  },
  {
   "cell_type": "code",
   "execution_count": 4,
   "metadata": {},
   "outputs": [],
   "source": [
    "redshift_mass_prior_parameters = pr.setup_redshift_and_mass_priors(z_max=15)\n",
    "sps_parameters = pop.generate_sps_parameters(100, redshift_mass_prior_parameters)"
   ]
  },
  {
   "cell_type": "code",
   "execution_count": 10,
   "metadata": {},
   "outputs": [],
   "source": [
    "def sample_prior_parameters(nsamples):\n",
    "\n",
    "    #Stellar metallicity\n",
    "    logzsol_mu = np.random.uniform(-2.5, 0.5, (nsamples, 1)) \n",
    "    logzsol_sigma = np.random.uniform(0.01, 3.0, (nsamples, 1))\n",
    "\n",
    "    #Young starlight attenuation\n",
    "    dust1_mu  = np.random.uniform(0.0, 2.0, (nsamples, 1))\n",
    "    dust1_sigma = np.random.uniform(0.01, 2.0, (nsamples, 1))\n",
    "\n",
    "    #Diffuse dust screen\n",
    "    dust2_mu = np.random.uniform(0.0, 4.0, (nsamples, 1)) \n",
    "    dust2_sigma = np.random.uniform(0.01, 4.0, (nsamples, 1))\n",
    "\n",
    "    #Dust index \n",
    "    dust_index_mu = np.random.uniform(-1.0, 0.4, (nsamples, 1))\n",
    "    dust_index_sigma = np.random.uniform(0.01, 0.5, (nsamples, 1))\n",
    "\n",
    "    #IGM fudge factor\n",
    "    igm_factor_mu = np.random.uniform(1.0, 1.0, (nsamples, 1)) \n",
    "    igm_factor_sigma = np.random.uniform(0.01, 2.0, (nsamples, 1))\n",
    "\n",
    "    #Gas ionisiation\n",
    "    gas_logu_mu = np.random.uniform(-4.0, -1.0, (nsamples, 1))\n",
    "    gas_logu_sigma = np.random.uniform(0.01, 3.0, (nsamples, 1))\n",
    "\n",
    "    #AGN contribution\n",
    "    fagn_mu = np.random.uniform(-5.0, 1.0, (nsamples, 1)) \n",
    "    fagn_sigma = np.random.uniform(0.01, 6.0, (nsamples, 1)) \n",
    "\n",
    "    #AGN dust\n",
    "    agn_tau_mu = np.random.uniform(5, 150, (nsamples, 1)) \n",
    "    agn_tau_sigma = np.random.uniform(0.1, 145, (nsamples, 1)) \n",
    "\n",
    "    prior_parameters = np.hstack((logzsol_mu, logzsol_sigma, dust1_mu, dust1_sigma,\n",
    "    dust2_mu, dust2_sigma, dust_index_mu, dust_index_sigma, igm_factor_mu, igm_factor_sigma,\n",
    "    gas_logu_mu, gas_logu_sigma, fagn_mu, fagn_sigma, agn_tau_mu, agn_tau_sigma))\n",
    "\n",
    "    return prior_parameters"
   ]
  }
 ],
 "metadata": {
  "kernelspec": {
   "display_name": "tensorflow",
   "language": "python",
   "name": "tf_env"
  },
  "language_info": {
   "codemirror_mode": {
    "name": "ipython",
    "version": 3
   },
   "file_extension": ".py",
   "mimetype": "text/x-python",
   "name": "python",
   "nbconvert_exporter": "python",
   "pygments_lexer": "ipython3",
   "version": "3.11.0"
  }
 },
 "nbformat": 4,
 "nbformat_minor": 2
}
