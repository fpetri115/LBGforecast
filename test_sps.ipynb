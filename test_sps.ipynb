{
 "cells": [
  {
   "cell_type": "code",
   "execution_count": 1,
   "metadata": {},
   "outputs": [],
   "source": [
    "import os\n",
    "os.environ[\"SPS_HOME\"] = \"/Users/fpetri/packages/fsps\" "
   ]
  },
  {
   "cell_type": "code",
   "execution_count": 2,
   "metadata": {},
   "outputs": [],
   "source": [
    "import numpy as np\n",
    "import matplotlib.pyplot as plt\n",
    "import lbg_forecast.sps as sps\n",
    "import lbg_forecast.priors as pr\n",
    "import lbg_forecast.hyperparams as hyp\n",
    "import lbg_forecast.popmodel as pop"
   ]
  },
  {
   "cell_type": "code",
   "execution_count": 9,
   "metadata": {},
   "outputs": [],
   "source": [
    "nsamples = 2\n",
    "prior_parameters = pr.setup_redshift_and_mass_priors(z_max = 15.0)\n",
    "n_priors_samples = prior_parameters[2][0].shape[0]\n",
    "hyper_parameter_bounds = hyp.define_hyperparameter_bounds(\n",
    "\n",
    "    zred = np.array([n_priors_samples, 0, 7]),\n",
    "    logtage = np.array([1, -3, 1]),\n",
    "    logzsol = np.array([1, -2.5, 0.5]),\n",
    "    dust1_frac = np.array([1, 0, 2]),\n",
    "    dust2 = np.array([1, 0, 4]),\n",
    "    igm_factor = np.array([0, 1, 1]), \n",
    "    gas_logu = np.array([1, -4, -1]),\n",
    "    logfagn = np.array([0, 0, 0]),\n",
    "    imf1 = np.array([0, 1.3, 1.3]), \n",
    "    imf2 = np.array([0, 2.3, 2.3]), \n",
    "    imf3 = np.array([0, 2.3, 2.3]), \n",
    "    logtau = np.array([1, 0.007, 1]),\n",
    "    loga = np.array([1, -3, 1]),\n",
    "    logb = np.array([1, -3, 1]),\n",
    "    logmass = np.array([n_priors_samples, 7, 13])\n",
    "\n",
    ")\n",
    "hyper_parameters = hyp.sample_nhyperparameters(hyper_parameter_bounds, nsamples)"
   ]
  },
  {
   "cell_type": "code",
   "execution_count": 10,
   "metadata": {},
   "outputs": [
    {
     "ename": "ValueError",
     "evalue": "too many values to unpack (expected 3)",
     "output_type": "error",
     "traceback": [
      "\u001b[0;31m---------------------------------------------------------------------------\u001b[0m",
      "\u001b[0;31mValueError\u001b[0m                                Traceback (most recent call last)",
      "Cell \u001b[0;32mIn[10], line 1\u001b[0m\n\u001b[0;32m----> 1\u001b[0m sps_parameters \u001b[38;5;241m=\u001b[39m \u001b[43mpop\u001b[49m\u001b[38;5;241;43m.\u001b[39;49m\u001b[43mgalaxy_population_model_vec\u001b[49m\u001b[43m(\u001b[49m\u001b[43mhyper_parameters\u001b[49m\u001b[43m,\u001b[49m\u001b[43m \u001b[49m\u001b[43mprior_parameters\u001b[49m\u001b[43m,\u001b[49m\u001b[43m \u001b[49m\u001b[38;5;241;43m1\u001b[39;49m\u001b[43m)\u001b[49m\n",
      "File \u001b[0;32m~/repos/LBGforecast/lbg_forecast/popmodel.py:63\u001b[0m, in \u001b[0;36mgalaxy_population_model_vec\u001b[0;34m(hparams, prior_params, nsamples)\u001b[0m\n\u001b[1;32m     61\u001b[0m     tuniv \u001b[38;5;241m=\u001b[39m np\u001b[38;5;241m.\u001b[39mreshape(np\u001b[38;5;241m.\u001b[39mlog10(np\u001b[38;5;241m.\u001b[39masarray(tuniv)), (nsamples,)) \n\u001b[1;32m     62\u001b[0m \u001b[38;5;28;01melif\u001b[39;00m(i \u001b[38;5;241m==\u001b[39m \u001b[38;5;241m1\u001b[39m):\n\u001b[0;32m---> 63\u001b[0m     realisation_list\u001b[38;5;241m.\u001b[39mappend(np\u001b[38;5;241m.\u001b[39mtranspose(\u001b[43mdstr\u001b[49m\u001b[38;5;241;43m.\u001b[39;49m\u001b[43msample_prior_vec\u001b[49m\u001b[43m(\u001b[49m\u001b[43mhparam\u001b[49m\u001b[43m,\u001b[49m\u001b[43m \u001b[49m\u001b[43mnsamples\u001b[49m\u001b[43m,\u001b[49m\u001b[43m \u001b[49m\u001b[43mvectorise_bounds\u001b[49m\u001b[38;5;241;43m=\u001b[39;49m\u001b[43mtuniv\u001b[49m\u001b[43m)\u001b[49m))\n\u001b[1;32m     64\u001b[0m \u001b[38;5;28;01melif\u001b[39;00m(i \u001b[38;5;241m==\u001b[39m \u001b[38;5;241m3\u001b[39m):\n\u001b[1;32m     65\u001b[0m     p1 \u001b[38;5;241m=\u001b[39m \u001b[38;5;241m1.0\u001b[39m\n",
      "File \u001b[0;32m~/repos/LBGforecast/lbg_forecast/distributions.py:41\u001b[0m, in \u001b[0;36msample_prior_vec\u001b[0;34m(hparams, nsamples, vectorise_bounds)\u001b[0m\n\u001b[1;32m     39\u001b[0m \u001b[38;5;28;01mdef\u001b[39;00m \u001b[38;5;21msample_prior_vec\u001b[39m(hparams, nsamples, vectorise_bounds\u001b[38;5;241m=\u001b[39m\u001b[38;5;241m0\u001b[39m):\n\u001b[0;32m---> 41\u001b[0m      bound, p1, p2 \u001b[38;5;241m=\u001b[39m hparams\n\u001b[1;32m     42\u001b[0m      distribution \u001b[38;5;241m=\u001b[39m bound[\u001b[38;5;241m0\u001b[39m]\n\u001b[1;32m     44\u001b[0m      \u001b[38;5;66;03m#uniform\u001b[39;00m\n",
      "\u001b[0;31mValueError\u001b[0m: too many values to unpack (expected 3)"
     ]
    }
   ],
   "source": [
    "sps_parameters = pop.galaxy_population_model_vec(hyper_parameters, prior_parameters, nsamples)"
   ]
  },
  {
   "cell_type": "code",
   "execution_count": null,
   "metadata": {},
   "outputs": [],
   "source": [
    "photometry = sps.simulate_photometry(sps_parameters, \"lsst\")"
   ]
  }
 ],
 "metadata": {
  "kernelspec": {
   "display_name": "tensorflow",
   "language": "python",
   "name": "tf_env"
  },
  "language_info": {
   "codemirror_mode": {
    "name": "ipython",
    "version": 3
   },
   "file_extension": ".py",
   "mimetype": "text/x-python",
   "name": "python",
   "nbconvert_exporter": "python",
   "pygments_lexer": "ipython3",
   "version": "3.11.0"
  }
 },
 "nbformat": 4,
 "nbformat_minor": 2
}
