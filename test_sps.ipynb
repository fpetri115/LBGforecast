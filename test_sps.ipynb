{
 "cells": [
  {
   "cell_type": "code",
   "execution_count": 1,
   "metadata": {},
   "outputs": [],
   "source": [
    "import os\n",
    "os.environ[\"SPS_HOME\"] = \"/Users/fpetri/packages/fsps\" "
   ]
  },
  {
   "cell_type": "code",
   "execution_count": 2,
   "metadata": {},
   "outputs": [],
   "source": [
    "import numpy as np\n",
    "import matplotlib.pyplot as plt\n",
    "import lbg_forecast.sps as sps\n",
    "import lbg_forecast.priors as pr\n",
    "import lbg_forecast.hyperparams as hyp\n",
    "import lbg_forecast.popmodel as pop"
   ]
  },
  {
   "cell_type": "code",
   "execution_count": 3,
   "metadata": {},
   "outputs": [],
   "source": [
    "nsamples = 10\n",
    "prior_parameters = pr.setup_redshift_and_mass_priors(z_max = 15.0)\n",
    "n_priors_samples = prior_parameters[2][0].shape[0]\n",
    "hyper_parameter_bounds = hyp.define_hyperparameter_bounds(\n",
    "\n",
    "    zred = np.array([n_priors_samples, 0, 7]),\n",
    "    logtage = np.array([1, -3, 1]),\n",
    "    logzsol = np.array([1, -2.5, 0.5]),\n",
    "    dust1_frac = np.array([1, 0, 2]),\n",
    "    dust2 = np.array([1, 0, 4]),\n",
    "    igm_factor = np.array([0, 1, 1]), \n",
    "    gas_logu = np.array([1, -4, -1]),\n",
    "    logfagn = np.array([0, 0, 0]),\n",
    "    imf1 = np.array([0, 1.3, 1.3]), \n",
    "    imf2 = np.array([0, 2.3, 2.3]), \n",
    "    imf3 = np.array([0, 2.3, 2.3]), \n",
    "    logtau = np.array([1, 0.007, 1]),\n",
    "    loga = np.array([1, -3, 1]),\n",
    "    logb = np.array([1, -3, 1]),\n",
    "    logmass = np.array([n_priors_samples, 7, 13])\n",
    "\n",
    ")\n",
    "hyper_parameters = hyp.sample_nhyperparameters(hyper_parameter_bounds, nsamples)"
   ]
  },
  {
   "cell_type": "code",
   "execution_count": 4,
   "metadata": {},
   "outputs": [],
   "source": [
    "sps_parameters = pop.galaxy_population_model_vec(hyper_parameters[0], prior_parameters, 1)"
   ]
  },
  {
   "cell_type": "code",
   "execution_count": 5,
   "metadata": {},
   "outputs": [
    {
     "name": "stdout",
     "output_type": "stream",
     "text": [
      "Starting Run 1/3\n",
      "libraries:  (b'mist', b'miles', b'DL07')\n",
      "Run 1/3 Complete\n",
      "Starting Run 2/3\n",
      "Run 2/3 Complete\n",
      "Starting Run 3/3\n",
      "Run 3/3 Complete\n",
      "Complete\n"
     ]
    }
   ],
   "source": [
    "photometry = sps.simulate_photometry(1, sps_parameters, \"lsst\")"
   ]
  },
  {
   "cell_type": "code",
   "execution_count": 6,
   "metadata": {},
   "outputs": [
    {
     "data": {
      "text/plain": [
       "array([[42.06187816, 33.52934234, 31.82915344, 31.76202485, 31.70000323,\n",
       "        31.65982232]])"
      ]
     },
     "execution_count": 6,
     "metadata": {},
     "output_type": "execute_result"
    }
   ],
   "source": [
    "photometry"
   ]
  }
 ],
 "metadata": {
  "kernelspec": {
   "display_name": "tensorflow",
   "language": "python",
   "name": "tf_env"
  },
  "language_info": {
   "codemirror_mode": {
    "name": "ipython",
    "version": 3
   },
   "file_extension": ".py",
   "mimetype": "text/x-python",
   "name": "python",
   "nbconvert_exporter": "python",
   "pygments_lexer": "ipython3",
   "version": "3.11.0"
  }
 },
 "nbformat": 4,
 "nbformat_minor": 2
}
