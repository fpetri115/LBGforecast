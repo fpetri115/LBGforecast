{
 "cells": [
  {
   "cell_type": "code",
   "execution_count": 1,
   "metadata": {},
   "outputs": [],
   "source": [
    "import os\n",
    "os.environ[\"SPS_HOME\"] = \"/Users/fpetri/packages/fsps\" "
   ]
  },
  {
   "cell_type": "code",
   "execution_count": 2,
   "metadata": {},
   "outputs": [],
   "source": [
    "import numpy as np\n",
    "import matplotlib.pyplot as plt\n",
    "import lbg_forecast.sps as sps\n",
    "import lbg_forecast.sfh as sfh\n",
    "import lbg_forecast.priors as pr\n",
    "import lbg_forecast.hyperparams as hyp\n",
    "import lbg_forecast.popmodel as pop\n",
    "import lbg_forecast.zhistory as zh\n",
    "import lbg_forecast.priors as pr\n",
    "from astropy.cosmology import WMAP9 as cosmo\n",
    "from scipy.stats import truncnorm"
   ]
  },
  {
   "cell_type": "code",
   "execution_count": 3,
   "metadata": {},
   "outputs": [],
   "source": [
    "sps_model = sps.initialise_sps_model(neb_em=False)"
   ]
  },
  {
   "cell_type": "code",
   "execution_count": 4,
   "metadata": {},
   "outputs": [],
   "source": [
    "prior_params = pr.setup_redshift_and_mass_priors(z_max=15)\n",
    "sps_parameters = pop.generate_sps_parameters(100, prior_params)"
   ]
  }
 ],
 "metadata": {
  "kernelspec": {
   "display_name": "tensorflow",
   "language": "python",
   "name": "tf_env"
  },
  "language_info": {
   "codemirror_mode": {
    "name": "ipython",
    "version": 3
   },
   "file_extension": ".py",
   "mimetype": "text/x-python",
   "name": "python",
   "nbconvert_exporter": "python",
   "pygments_lexer": "ipython3",
   "version": "3.11.0"
  }
 },
 "nbformat": 4,
 "nbformat_minor": 2
}
