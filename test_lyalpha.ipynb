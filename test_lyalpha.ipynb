{
 "cells": [
  {
   "cell_type": "code",
   "execution_count": 1,
   "metadata": {},
   "outputs": [],
   "source": [
    "import numpy as np\n",
    "import lbg_forecast.sps as sps\n",
    "import lbg_forecast.hyperparameters as hyp\n",
    "import lbg_forecast.population_model as pop\n",
    "import lbg_forecast.priors as pr\n",
    "import lbg_forecast.sfh as sfh\n",
    "import matplotlib.pyplot as plt"
   ]
  },
  {
   "cell_type": "code",
   "execution_count": 2,
   "metadata": {},
   "outputs": [],
   "source": [
    "sps_model = sps.initialise_sps_model(neb_em=True, sfh_type=3, zcont=1, imf_type=2, dust_type=0, igm=True)"
   ]
  },
  {
   "cell_type": "code",
   "execution_count": 3,
   "metadata": {},
   "outputs": [],
   "source": [
    "hyperparameter_mu_bounds, hyperparameter_sigma_max  = hyp.default_hyperparameter_bounds()\n",
    "prior_parameters = hyp.sample_prior_parameters(1000, hyperparameter_mu_bounds, hyperparameter_sigma_max)"
   ]
  },
  {
   "cell_type": "code",
   "execution_count": 4,
   "metadata": {},
   "outputs": [],
   "source": [
    "redshift_mass_prior_parameters = pr.setup_redshift_and_mass_priors(z_max=15)"
   ]
  },
  {
   "cell_type": "code",
   "execution_count": 5,
   "metadata": {},
   "outputs": [],
   "source": [
    "sps_parameters = pop.generate_sps_parameters(1, prior_parameters[np.random.randint(0, 1000),:], redshift_mass_prior_parameters, uniform_redshift_mass=False, uniform_logf=False)\n",
    "#sps_parameters[0][0] = 1e-5"
   ]
  },
  {
   "cell_type": "code",
   "execution_count": 6,
   "metadata": {},
   "outputs": [],
   "source": [
    "sps.update_model(sps_model, sps_parameters[0], z_history=False, agebins=sfh.default_agebins())"
   ]
  },
  {
   "cell_type": "code",
   "execution_count": 7,
   "metadata": {},
   "outputs": [],
   "source": [
    "#spec_fsps = sps.fsps_simulate_sed(sps_model)\n",
    "#spec_alt = sps.get_sed(sps_model, 'lsst')"
   ]
  },
  {
   "cell_type": "code",
   "execution_count": 8,
   "metadata": {},
   "outputs": [],
   "source": [
    "photo_fsps = sps.fsps_get_magnitudes(sps_model, 'lsst')\n",
    "photo_alt = sps.get_magnitudes(sps_model, 'lsst')"
   ]
  },
  {
   "cell_type": "code",
   "execution_count": 9,
   "metadata": {},
   "outputs": [
    {
     "data": {
      "text/plain": [
       "array([-0.04774747, -0.04717519, -0.04708546, -0.04746279, -0.04696231,\n",
       "       -0.04273807])"
      ]
     },
     "execution_count": 9,
     "metadata": {},
     "output_type": "execute_result"
    }
   ],
   "source": [
    "photo_fsps- photo_alt"
   ]
  },
  {
   "cell_type": "code",
   "execution_count": 10,
   "metadata": {},
   "outputs": [
    {
     "data": {
      "text/plain": [
       "array([44.49701869, 33.22436726, 31.53748819, 31.06979602, 30.94379637,\n",
       "       30.86311723])"
      ]
     },
     "execution_count": 10,
     "metadata": {},
     "output_type": "execute_result"
    }
   ],
   "source": [
    "photo_fsps"
   ]
  },
  {
   "cell_type": "code",
   "execution_count": 11,
   "metadata": {},
   "outputs": [
    {
     "data": {
      "text/plain": [
       "array([44.54476616, 33.27154245, 31.58457365, 31.11725881, 30.99075868,\n",
       "       30.9058553 ])"
      ]
     },
     "execution_count": 11,
     "metadata": {},
     "output_type": "execute_result"
    }
   ],
   "source": [
    "photo_alt"
   ]
  },
  {
   "cell_type": "code",
   "execution_count": 12,
   "metadata": {},
   "outputs": [],
   "source": [
    "spec_alt = sps.get_sed(sps_model, 'lsst')"
   ]
  },
  {
   "cell_type": "code",
   "execution_count": 13,
   "metadata": {},
   "outputs": [
    {
     "data": {
      "text/plain": [
       "array([9.100e+01, 9.400e+01, 9.600e+01, ..., 9.817e+07, 9.908e+07,\n",
       "       1.000e+08])"
      ]
     },
     "execution_count": 13,
     "metadata": {},
     "output_type": "execute_result"
    }
   ],
   "source": [
    "sps_model.wavelengths"
   ]
  },
  {
   "cell_type": "code",
   "execution_count": 14,
   "metadata": {},
   "outputs": [
    {
     "data": {
      "text/plain": [
       "array([-3.36107997e+02, -3.47188481e+02, -3.54575470e+02, ...,\n",
       "       -3.62590353e+08, -3.65951433e+08, -3.69349448e+08])"
      ]
     },
     "execution_count": 14,
     "metadata": {},
     "output_type": "execute_result"
    }
   ],
   "source": [
    "spec_alt[1]- sps_model.wavelengths*(1+sps_parameters[0][0])"
   ]
  }
 ],
 "metadata": {
  "kernelspec": {
   "display_name": "tensorflow",
   "language": "python",
   "name": "tf_env"
  },
  "language_info": {
   "codemirror_mode": {
    "name": "ipython",
    "version": 3
   },
   "file_extension": ".py",
   "mimetype": "text/x-python",
   "name": "python",
   "nbconvert_exporter": "python",
   "pygments_lexer": "ipython3",
   "version": "3.11.0"
  }
 },
 "nbformat": 4,
 "nbformat_minor": 2
}
