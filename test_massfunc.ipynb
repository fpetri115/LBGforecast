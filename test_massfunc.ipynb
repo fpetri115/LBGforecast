{
 "cells": [
  {
   "cell_type": "code",
   "execution_count": 1,
   "metadata": {},
   "outputs": [],
   "source": [
    "import numpy as np\n",
    "import pandas as pd\n",
    "import matplotlib.pyplot as plt\n",
    "from astropy.cosmology import WMAP9"
   ]
  },
  {
   "cell_type": "code",
   "execution_count": 2,
   "metadata": {},
   "outputs": [],
   "source": [
    "def mass_function_parameters(logphi1, logphi2, logM_star, alpha1, alpha2):\n",
    "\n",
    "    redshift_dependent_parameters = np.hstack((logphi1, logphi2, logM_star))\n",
    "\n",
    "    return np.hstack((redshift_dependent_parameters, alpha1, alpha2))"
   ]
  },
  {
   "cell_type": "code",
   "execution_count": 3,
   "metadata": {},
   "outputs": [],
   "source": [
    "def mass_function_parameter_priors(nsamples):\n",
    "\n",
    "    logphi1 = np.random.uniform(-6, -2, nsamples)\n",
    "    logphi2 = np.random.uniform(-6, -2, nsamples)\n",
    "    logM_star = np.random.uniform(10, 12, nsamples)\n",
    "    alpha1 = np.random.uniform(-0.5, 1, nsamples)\n",
    "    alpha2 = np.random.uniform(-2, -0.5, nsamples)\n",
    "\n",
    "    return np.transpose(np.vstack((logphi1, logphi2, logM_star, alpha1, alpha2)))"
   ]
  },
  {
   "cell_type": "code",
   "execution_count": 4,
   "metadata": {},
   "outputs": [],
   "source": [
    "def mass_function_redshift_parameterisation_priors(nsamples):\n",
    "\n",
    "    logphi1 = np.random.uniform([-100, -100, -100], [100, 100, 100], (nsamples, 3)) \n",
    "    logphi2 = np.random.uniform([-100, -100, -100], [100, 100, 100], (nsamples, 3))\n",
    "    logM_star = np.random.uniform([-100, -100, -100], [100, 100, 100], (nsamples, 3))\n",
    "\n",
    "    return np.hstack((logphi1, logphi2, logM_star))"
   ]
  },
  {
   "cell_type": "code",
   "execution_count": 5,
   "metadata": {},
   "outputs": [],
   "source": [
    "def calculate_mass_function_parameters(z_grid, prior_draws):\n",
    "\n",
    "    nsamples = prior_draws.shape[0]\n",
    "\n",
    "    logphi1_params = np.reshape(prior_draws[:,:3], (nsamples, 3))\n",
    "    logphi2_params = np.reshape(prior_draws[:,3:6], (nsamples, 3))\n",
    "    logM_star_params = np.reshape(prior_draws[:,6:], (nsamples, 3))\n",
    "\n",
    "\n",
    "    z0 = np.tile(np.ones_like(z_grid), (nsamples, 1))\n",
    "    z1 = np.tile(z_grid, (nsamples, 1))\n",
    "    z2 = np.tile(z_grid*z_grid, (nsamples, 1))\n",
    "\n",
    "    phi1_c1 = np.reshape(logphi1_params[:, 0], (nsamples, 1))\n",
    "    phi1_c2 = np.reshape(logphi1_params[:, 1], (nsamples, 1))\n",
    "    phi1_c3 = np.reshape(logphi1_params[:, 2], (nsamples, 1))\n",
    "\n",
    "    phi2_c1 = np.reshape(logphi2_params[:, 0], (nsamples, 1))\n",
    "    phi2_c2 = np.reshape(logphi2_params[:, 1], (nsamples, 1))\n",
    "    phi2_c3 = np.reshape(logphi2_params[:, 2], (nsamples, 1))\n",
    "\n",
    "    logM_star_c1 = np.reshape(logM_star_params[:, 0], (nsamples, 1))\n",
    "    logM_star_c2 = np.reshape(logM_star_params[:, 1], (nsamples, 1))\n",
    "    logM_star_c3 = np.reshape(logM_star_params[:, 2], (nsamples, 1))\n",
    "\n",
    "\n",
    "    logphi1 = phi1_c1*z0 + phi1_c2*z1 + phi1_c3*z2\n",
    "    logphi2 = phi2_c1*z0 + phi2_c2*z1 + phi2_c3*z2\n",
    "    logM_star = logM_star_c1*z0 + logM_star_c2*z1 + logM_star_c3*z2\n",
    "\n",
    "    return [logphi1, logphi2, logM_star, logphi1_params, logphi2_params, logM_star_params]"
   ]
  },
  {
   "cell_type": "code",
   "execution_count": 6,
   "metadata": {},
   "outputs": [],
   "source": [
    "def select_mass_function_params(redshift_parameterisation_params, z_grid):\n",
    "\n",
    "    logphi1 = redshift_parameterisation_params[0]\n",
    "    logphi2 = redshift_parameterisation_params[1]\n",
    "    logM_star = redshift_parameterisation_params[2]\n",
    "\n",
    "    df_logphi1 = pd.DataFrame(logphi1, columns=z_grid)\n",
    "    df_logphi2 = pd.DataFrame(logphi2, columns=z_grid)\n",
    "    df_logM_star = pd.DataFrame(logM_star, columns=z_grid)\n",
    "\n",
    "    logphi1_params = redshift_parameterisation_params[3]\n",
    "    logphi2_params = redshift_parameterisation_params[4]\n",
    "    logM_star_params = redshift_parameterisation_params[5]\n",
    "\n",
    "    selection_logphi1 = ((logphi1 < -2)*(logphi1 > -6))\n",
    "    selection_logphi2 = ((logphi2 < -2)*(logphi2 > -6))\n",
    "    selection_logM_star = ((logM_star < 12)*(logM_star > 10))\n",
    "\n",
    "    selected_logphi1 = selection_logphi1*logphi1\n",
    "    selected_logphi2 = selection_logphi2*logphi2\n",
    "    selected_logM_star = selection_logM_star*logM_star\n",
    "\n",
    "    selected_logphi1_params = selection_logphi1*logphi1_params\n",
    "    selected_logphi2_params = selection_logphi2*logphi2_params\n",
    "    selected_logM_star_params = selection_logM_star*logM_star_params\n",
    "\n",
    "    return [selected_logphi1, selected_logphi2, selected_logM_star, selected_logphi1_params, selected_logphi2_params, selected_logM_star_params]\n",
    "\n",
    "    "
   ]
  },
  {
   "cell_type": "code",
   "execution_count": 29,
   "metadata": {},
   "outputs": [
    {
     "data": {
      "text/html": [
       "<div>\n",
       "<style scoped>\n",
       "    .dataframe tbody tr th:only-of-type {\n",
       "        vertical-align: middle;\n",
       "    }\n",
       "\n",
       "    .dataframe tbody tr th {\n",
       "        vertical-align: top;\n",
       "    }\n",
       "\n",
       "    .dataframe thead th {\n",
       "        text-align: right;\n",
       "    }\n",
       "</style>\n",
       "<table border=\"1\" class=\"dataframe\">\n",
       "  <thead>\n",
       "    <tr style=\"text-align: right;\">\n",
       "      <th></th>\n",
       "      <th>0.0</th>\n",
       "      <th>1.0</th>\n",
       "      <th>2.0</th>\n",
       "      <th>3.0</th>\n",
       "      <th>4.0</th>\n",
       "      <th>5.0</th>\n",
       "      <th>6.0</th>\n",
       "      <th>7.0</th>\n",
       "      <th>c1</th>\n",
       "      <th>c2</th>\n",
       "      <th>c3</th>\n",
       "    </tr>\n",
       "  </thead>\n",
       "  <tbody>\n",
       "    <tr>\n",
       "      <th>0</th>\n",
       "      <td>3.127845</td>\n",
       "      <td>-134.680047</td>\n",
       "      <td>-411.045390</td>\n",
       "      <td>-825.968183</td>\n",
       "      <td>-1379.448427</td>\n",
       "      <td>-2071.486121</td>\n",
       "      <td>-2902.081267</td>\n",
       "      <td>-3871.233863</td>\n",
       "      <td>3.127845</td>\n",
       "      <td>-68.529167</td>\n",
       "      <td>-69.278725</td>\n",
       "    </tr>\n",
       "    <tr>\n",
       "      <th>1</th>\n",
       "      <td>39.751770</td>\n",
       "      <td>-91.403250</td>\n",
       "      <td>-321.698073</td>\n",
       "      <td>-651.132700</td>\n",
       "      <td>-1079.707129</td>\n",
       "      <td>-1607.421363</td>\n",
       "      <td>-2234.275399</td>\n",
       "      <td>-2960.269239</td>\n",
       "      <td>39.751770</td>\n",
       "      <td>-81.585118</td>\n",
       "      <td>-49.569902</td>\n",
       "    </tr>\n",
       "    <tr>\n",
       "      <th>2</th>\n",
       "      <td>11.839980</td>\n",
       "      <td>-72.528119</td>\n",
       "      <td>-196.873760</td>\n",
       "      <td>-361.196941</td>\n",
       "      <td>-565.497663</td>\n",
       "      <td>-809.775926</td>\n",
       "      <td>-1094.031729</td>\n",
       "      <td>-1418.265073</td>\n",
       "      <td>11.839980</td>\n",
       "      <td>-64.379329</td>\n",
       "      <td>-19.988770</td>\n",
       "    </tr>\n",
       "    <tr>\n",
       "      <th>3</th>\n",
       "      <td>88.073984</td>\n",
       "      <td>247.178286</td>\n",
       "      <td>551.198679</td>\n",
       "      <td>1000.135163</td>\n",
       "      <td>1593.987737</td>\n",
       "      <td>2332.756401</td>\n",
       "      <td>3216.441156</td>\n",
       "      <td>4245.042002</td>\n",
       "      <td>88.073984</td>\n",
       "      <td>86.646257</td>\n",
       "      <td>72.458045</td>\n",
       "    </tr>\n",
       "    <tr>\n",
       "      <th>4</th>\n",
       "      <td>-96.945035</td>\n",
       "      <td>-153.909934</td>\n",
       "      <td>-235.828066</td>\n",
       "      <td>-342.699429</td>\n",
       "      <td>-474.524025</td>\n",
       "      <td>-631.301852</td>\n",
       "      <td>-813.032912</td>\n",
       "      <td>-1019.717205</td>\n",
       "      <td>-96.945035</td>\n",
       "      <td>-44.488283</td>\n",
       "      <td>-12.476616</td>\n",
       "    </tr>\n",
       "    <tr>\n",
       "      <th>...</th>\n",
       "      <td>...</td>\n",
       "      <td>...</td>\n",
       "      <td>...</td>\n",
       "      <td>...</td>\n",
       "      <td>...</td>\n",
       "      <td>...</td>\n",
       "      <td>...</td>\n",
       "      <td>...</td>\n",
       "      <td>...</td>\n",
       "      <td>...</td>\n",
       "      <td>...</td>\n",
       "    </tr>\n",
       "    <tr>\n",
       "      <th>9995</th>\n",
       "      <td>-2.102871</td>\n",
       "      <td>136.378065</td>\n",
       "      <td>452.332270</td>\n",
       "      <td>945.759745</td>\n",
       "      <td>1616.660488</td>\n",
       "      <td>2465.034501</td>\n",
       "      <td>3490.881783</td>\n",
       "      <td>4694.202334</td>\n",
       "      <td>-2.102871</td>\n",
       "      <td>49.744302</td>\n",
       "      <td>88.736635</td>\n",
       "    </tr>\n",
       "    <tr>\n",
       "      <th>9996</th>\n",
       "      <td>-5.075324</td>\n",
       "      <td>125.889606</td>\n",
       "      <td>358.287502</td>\n",
       "      <td>692.118364</td>\n",
       "      <td>1127.382193</td>\n",
       "      <td>1664.078988</td>\n",
       "      <td>2302.208749</td>\n",
       "      <td>3041.771477</td>\n",
       "      <td>-5.075324</td>\n",
       "      <td>80.248446</td>\n",
       "      <td>50.716483</td>\n",
       "    </tr>\n",
       "    <tr>\n",
       "      <th>9997</th>\n",
       "      <td>1.561543</td>\n",
       "      <td>-112.341778</td>\n",
       "      <td>-355.325749</td>\n",
       "      <td>-727.390371</td>\n",
       "      <td>-1228.535644</td>\n",
       "      <td>-1858.761567</td>\n",
       "      <td>-2618.068141</td>\n",
       "      <td>-3506.455365</td>\n",
       "      <td>1.561543</td>\n",
       "      <td>-49.362995</td>\n",
       "      <td>-64.540325</td>\n",
       "    </tr>\n",
       "    <tr>\n",
       "      <th>9998</th>\n",
       "      <td>-59.816532</td>\n",
       "      <td>-53.269315</td>\n",
       "      <td>117.364398</td>\n",
       "      <td>452.084607</td>\n",
       "      <td>950.891311</td>\n",
       "      <td>1613.784510</td>\n",
       "      <td>2440.764204</td>\n",
       "      <td>3431.830395</td>\n",
       "      <td>-59.816532</td>\n",
       "      <td>-75.496030</td>\n",
       "      <td>82.043248</td>\n",
       "    </tr>\n",
       "    <tr>\n",
       "      <th>9999</th>\n",
       "      <td>88.484180</td>\n",
       "      <td>111.014603</td>\n",
       "      <td>287.437363</td>\n",
       "      <td>617.752460</td>\n",
       "      <td>1101.959895</td>\n",
       "      <td>1740.059667</td>\n",
       "      <td>2532.051776</td>\n",
       "      <td>3477.936223</td>\n",
       "      <td>88.484180</td>\n",
       "      <td>-54.415746</td>\n",
       "      <td>76.946169</td>\n",
       "    </tr>\n",
       "  </tbody>\n",
       "</table>\n",
       "<p>10000 rows × 11 columns</p>\n",
       "</div>"
      ],
      "text/plain": [
       "            0.0         1.0         2.0          3.0          4.0  \\\n",
       "0      3.127845 -134.680047 -411.045390  -825.968183 -1379.448427   \n",
       "1     39.751770  -91.403250 -321.698073  -651.132700 -1079.707129   \n",
       "2     11.839980  -72.528119 -196.873760  -361.196941  -565.497663   \n",
       "3     88.073984  247.178286  551.198679  1000.135163  1593.987737   \n",
       "4    -96.945035 -153.909934 -235.828066  -342.699429  -474.524025   \n",
       "...         ...         ...         ...          ...          ...   \n",
       "9995  -2.102871  136.378065  452.332270   945.759745  1616.660488   \n",
       "9996  -5.075324  125.889606  358.287502   692.118364  1127.382193   \n",
       "9997   1.561543 -112.341778 -355.325749  -727.390371 -1228.535644   \n",
       "9998 -59.816532  -53.269315  117.364398   452.084607   950.891311   \n",
       "9999  88.484180  111.014603  287.437363   617.752460  1101.959895   \n",
       "\n",
       "              5.0          6.0          7.0         c1         c2         c3  \n",
       "0    -2071.486121 -2902.081267 -3871.233863   3.127845 -68.529167 -69.278725  \n",
       "1    -1607.421363 -2234.275399 -2960.269239  39.751770 -81.585118 -49.569902  \n",
       "2     -809.775926 -1094.031729 -1418.265073  11.839980 -64.379329 -19.988770  \n",
       "3     2332.756401  3216.441156  4245.042002  88.073984  86.646257  72.458045  \n",
       "4     -631.301852  -813.032912 -1019.717205 -96.945035 -44.488283 -12.476616  \n",
       "...           ...          ...          ...        ...        ...        ...  \n",
       "9995  2465.034501  3490.881783  4694.202334  -2.102871  49.744302  88.736635  \n",
       "9996  1664.078988  2302.208749  3041.771477  -5.075324  80.248446  50.716483  \n",
       "9997 -1858.761567 -2618.068141 -3506.455365   1.561543 -49.362995 -64.540325  \n",
       "9998  1613.784510  2440.764204  3431.830395 -59.816532 -75.496030  82.043248  \n",
       "9999  1740.059667  2532.051776  3477.936223  88.484180 -54.415746  76.946169  \n",
       "\n",
       "[10000 rows x 11 columns]"
      ]
     },
     "execution_count": 29,
     "metadata": {},
     "output_type": "execute_result"
    }
   ],
   "source": [
    "z_grid = np.linspace(0, 7, 8)\n",
    "data = calculate_mass_function_parameters(z_grid, mass_function_redshift_parameterisation_priors(10000))\n",
    "df_logphi1 = pd.DataFrame(data[0], columns=z_grid)\n",
    "df_logphi1_params = pd.DataFrame(data[3], columns=['c1', 'c2', 'c3'])\n",
    "new = df_logphi1.join(df_logphi1_params)\n",
    "#new = new.drop(new.iloc[:, 0:len(z_grid)] > -2)\n",
    "#new = new.drop(new.iloc[:, 0:len(z_grid)] < -6)\n",
    "new\n"
   ]
  },
  {
   "cell_type": "code",
   "execution_count": 7,
   "metadata": {},
   "outputs": [],
   "source": [
    "def sample_mass_function_parameter_priors(nsamples, seed=0):\n",
    "\n",
    "    logphi1 = np.random.uniform(-6, -2, nsamples)\n",
    "    logphi2 = np.random.uniform(-6, -2, nsamples)\n",
    "    logMstar = np.random.uniform(10, 12, nsamples)\n",
    "    alpha1 = np.random.uniform(-0.5, 1, nsamples)\n",
    "    alpha2 = np.random.uniform(-2, -0.5, nsamples)\n",
    "\n",
    "    return np.transpose(np.vstack((logphi1, logphi2, logMstar, alpha1, alpha2)))"
   ]
  },
  {
   "cell_type": "code",
   "execution_count": 8,
   "metadata": {},
   "outputs": [],
   "source": [
    "def schechter(logm, logphi, logm_star, alpha):\n",
    "\n",
    "    ones = np.ones_like(alpha)\n",
    "    logm = np.ones_like(logm_star)*logm\n",
    "\n",
    "    return np.log(10)*(10**logphi)*10**((logm-logm_star)*(alpha+ones))*np.exp(-10**(logm-logm_star))\n",
    "\n",
    "def mass_function(z, logm, mass_function_params):\n",
    "\n",
    "    logphi1, logphi2, logm_star, alpha1, alpha2 = np.hsplit(mass_function_params, 5)\n",
    "\n",
    "    return schechter(logm, logphi1, logm_star, alpha1) + schechter(logm, logphi2, logm_star, alpha2)"
   ]
  },
  {
   "cell_type": "code",
   "execution_count": 9,
   "metadata": {},
   "outputs": [
    {
     "data": {
      "text/plain": [
       "(array([   208.,   1877.,   7614.,  21551.,  38846.,  57249.,  75097.,\n",
       "         90564., 102497., 110411., 114659., 114513., 102914.,  71068.,\n",
       "         42105.,  25182.,  13995.,   6764.,   2498.,    388.]),\n",
       " array([-6.58671332, -6.24111094, -5.89550855, -5.54990616, -5.20430377,\n",
       "        -4.85870138, -4.51309899, -4.16749661, -3.82189422, -3.47629183,\n",
       "        -3.13068944, -2.78508705, -2.43948466, -2.09388228, -1.74827989,\n",
       "        -1.4026775 , -1.05707511, -0.71147272, -0.36587033, -0.02026795,\n",
       "         0.32533444]),\n",
       " <BarContainer object of 20 artists>)"
      ]
     },
     "execution_count": 9,
     "metadata": {},
     "output_type": "execute_result"
    },
    {
     "data": {
      "image/png": "[encoded data removed]",
      "text/plain": [
       "<Figure size 640x480 with 1 Axes>"
      ]
     },
     "metadata": {},
     "output_type": "display_data"
    }
   ],
   "source": [
    "plt.hist(np.log10(mass_function(1, 10, sample_mass_function_parameter_priors(1000000))), bins = 20)\n"
   ]
  },
  {
   "cell_type": "code",
   "execution_count": 10,
   "metadata": {},
   "outputs": [
    {
     "ename": "ValueError",
     "evalue": "operands could not be broadcast together with shapes (20000000,8) (20000000,3) ",
     "output_type": "error",
     "traceback": [
      "\u001b[0;31m---------------------------------------------------------------------------\u001b[0m",
      "\u001b[0;31mValueError\u001b[0m                                Traceback (most recent call last)",
      "Cell \u001b[0;32mIn[10], line 2\u001b[0m\n\u001b[1;32m      1\u001b[0m z_grid \u001b[38;5;241m=\u001b[39m np\u001b[38;5;241m.\u001b[39mlinspace(\u001b[38;5;241m0\u001b[39m, \u001b[38;5;241m7\u001b[39m, \u001b[38;5;241m8\u001b[39m)\n\u001b[0;32m----> 2\u001b[0m logphi1, logphi2, logMstar \u001b[38;5;241m=\u001b[39m \u001b[43mselect_mass_function_params\u001b[49m\u001b[43m(\u001b[49m\u001b[43mcalculate_mass_function_parameters\u001b[49m\u001b[43m(\u001b[49m\u001b[43mz_grid\u001b[49m\u001b[43m,\u001b[49m\u001b[43m \u001b[49m\u001b[43mmass_function_redshift_parameterisation_priors\u001b[49m\u001b[43m(\u001b[49m\u001b[38;5;241;43m20000000\u001b[39;49m\u001b[43m)\u001b[49m\u001b[43m)\u001b[49m\u001b[43m,\u001b[49m\u001b[43m \u001b[49m\u001b[43mz_grid\u001b[49m\u001b[43m)\u001b[49m\n",
      "Cell \u001b[0;32mIn[6], line 19\u001b[0m, in \u001b[0;36mselect_mass_function_params\u001b[0;34m(redshift_parameterisation_params, z_grid)\u001b[0m\n\u001b[1;32m     16\u001b[0m selected_logphi2 \u001b[38;5;241m=\u001b[39m selection_logphi2\u001b[38;5;241m*\u001b[39mlogphi2\n\u001b[1;32m     17\u001b[0m selected_logM_star \u001b[38;5;241m=\u001b[39m selection_logM_star\u001b[38;5;241m*\u001b[39mlogM_star\n\u001b[0;32m---> 19\u001b[0m selected_logphi1_params \u001b[38;5;241m=\u001b[39m \u001b[43mselection_logphi1\u001b[49m\u001b[38;5;241;43m*\u001b[39;49m\u001b[43mlogphi1_params\u001b[49m\n\u001b[1;32m     20\u001b[0m selected_logphi2_params \u001b[38;5;241m=\u001b[39m selection_logphi2\u001b[38;5;241m*\u001b[39mlogphi2_params\n\u001b[1;32m     21\u001b[0m selected_logM_star_params \u001b[38;5;241m=\u001b[39m selection_logM_star\u001b[38;5;241m*\u001b[39mlogM_star_params\n",
      "\u001b[0;31mValueError\u001b[0m: operands could not be broadcast together with shapes (20000000,8) (20000000,3) "
     ]
    }
   ],
   "source": [
    "z_grid = np.linspace(0, 7, 8)\n",
    "logphi1, logphi2, logMstar = select_mass_function_params(calculate_mass_function_parameters(z_grid, mass_function_redshift_parameterisation_priors(20000000)), z_grid)"
   ]
  },
  {
   "cell_type": "code",
   "execution_count": null,
   "metadata": {},
   "outputs": [
    {
     "data": {
      "text/plain": [
       "Text(0, 0.5, 'p(logphi1|z)')"
      ]
     },
     "execution_count": 40,
     "metadata": {},
     "output_type": "execute_result"
    },
    {
     "data": {
      "image/png": "[encoded data removed]",
      "text/plain": [
       "<Figure size 640x480 with 1 Axes>"
      ]
     },
     "metadata": {},
     "output_type": "display_data"
    }
   ],
   "source": [
    "for z in z_grid:\n",
    "    plt.hist(logphi1[:, int(z)][logphi1[:, int(z)] != 0], bins=20, density=True, alpha=0.5)\n",
    "\n",
    "plt.xlabel('logphi1')\n",
    "plt.ylabel('p(logphi1|z)')"
   ]
  },
  {
   "cell_type": "code",
   "execution_count": null,
   "metadata": {},
   "outputs": [
    {
     "data": {
      "text/plain": [
       "Text(0, 0.5, 'p(logphi2|z)')"
      ]
     },
     "execution_count": 41,
     "metadata": {},
     "output_type": "execute_result"
    },
    {
     "data": {
      "image/png": "[encoded data removed]",
      "text/plain": [
       "<Figure size 640x480 with 1 Axes>"
      ]
     },
     "metadata": {},
     "output_type": "display_data"
    }
   ],
   "source": [
    "for z in z_grid:\n",
    "    plt.hist(logphi2[:, int(z)][logphi2[:, int(z)] != 0], bins=20, density=True, alpha=0.5)\n",
    "\n",
    "plt.xlabel('logphi2')\n",
    "plt.ylabel('p(logphi2|z)')"
   ]
  },
  {
   "cell_type": "code",
   "execution_count": null,
   "metadata": {},
   "outputs": [
    {
     "data": {
      "text/plain": [
       "Text(0, 0.5, 'p(logMstar|z)')"
      ]
     },
     "execution_count": 39,
     "metadata": {},
     "output_type": "execute_result"
    },
    {
     "data": {
      "image/png": "[encoded data removed]",
      "text/plain": [
       "<Figure size 640x480 with 1 Axes>"
      ]
     },
     "metadata": {},
     "output_type": "display_data"
    }
   ],
   "source": [
    "for z in z_grid:\n",
    "    plt.hist(logMstar[:, int(z)][logMstar[:, int(z)] != 0], bins=20, density=True, alpha=0.5)\n",
    "\n",
    "plt.xlabel('logMstar')\n",
    "plt.ylabel('p(logMstar|z)')"
   ]
  },
  {
   "cell_type": "code",
   "execution_count": null,
   "metadata": {},
   "outputs": [],
   "source": []
  },
  {
   "cell_type": "code",
   "execution_count": null,
   "metadata": {},
   "outputs": [],
   "source": [
    "logphi1 = np.array([-2.44, -3.08, -4.14])\n",
    "logphi2 = np.array([-2.89, -3.29, -3.51])\n",
    "logM_star = np.array([10.79,10.88,10.84]) \n",
    "alpha1 = np.array([-0.28]) \n",
    "alpha2 = np.array([-1.48])\n",
    "\n",
    "params = mass_function_parameters(logphi1, logphi2, logM_star, alpha1, alpha2)"
   ]
  },
  {
   "cell_type": "code",
   "execution_count": null,
   "metadata": {},
   "outputs": [],
   "source": []
  },
  {
   "cell_type": "code",
   "execution_count": null,
   "metadata": {},
   "outputs": [],
   "source": [
    "def schechter(logphi, M, Mo, a):\n",
    "\n",
    "    Mo = np.asarray([Mo]*len(M))\n",
    "\n",
    "    return np.log(10)*(10**logphi)*10**((M-Mo)*(a+1))*np.exp(-10**(M-Mo))\n",
    "\n",
    "def double_schechter(M, logphi1, logphi2, Mo, a1, a2):\n",
    "\n",
    "    return schechter(logphi1, M, Mo, a1) + schechter(logphi2, M, Mo, a2)"
   ]
  },
  {
   "cell_type": "code",
   "execution_count": null,
   "metadata": {},
   "outputs": [],
   "source": [
    "def parameter_at_z0(y,z,z1=0.2,z2=1.6,z3=3.0):\n",
    "\n",
    "    y1,y2,y3 = y\n",
    "    a = ((y3-y1) + ((y2-y1) / (z2-z1)) * (z1-z3)) / ((z3**2-z1**2 + ((z2**2-z1**2) / (z2-z1)) * (z1-z3)))\n",
    "    b = ((y2-y1) - a * (z2**2-z1**2)) / (z2-z1)\n",
    "    c = y1-a*z1**2-b*z1\n",
    "\n",
    "    return a*(z**2)+b*z+c"
   ]
  },
  {
   "cell_type": "code",
   "execution_count": null,
   "metadata": {},
   "outputs": [],
   "source": [
    "def mass_function(logm, z, \n",
    "                  y_logphi1=[-2.44, -3.08, -4.14], \n",
    "                  y_logphi2 = [-2.89, -3.29, -3.51], \n",
    "                  y_M0 = [10.79,10.88,10.84], \n",
    "                  alpha1 = [-0.28], \n",
    "                  alpha2 = [-1.48]):\n",
    "\n",
    "    phi1 = parameter_at_z0(y_logphi1, z)\n",
    "    phi2 = parameter_at_z0(y_logphi2, z)\n",
    "    logM0 = parameter_at_z0(y_M0, z)\n",
    "\n",
    "    return np.log10(double_schechter(logm, phi1, phi2, logM0, alpha1[0], alpha2[0]))\n",
    "\n"
   ]
  },
  {
   "cell_type": "code",
   "execution_count": null,
   "metadata": {},
   "outputs": [],
   "source": [
    "def galaxy_density_fixedm(logm, z1, z2):\n",
    "    \n",
    "    Phi_tot = 0\n",
    "    zs = np.linspace(z1, z2, 100)\n",
    "    for z in zs:\n",
    "        Phi_tot+=((10**mass_function(logm, z)))\n",
    "    \n",
    "    return Phi_tot"
   ]
  },
  {
   "cell_type": "code",
   "execution_count": null,
   "metadata": {},
   "outputs": [],
   "source": [
    "def galaxy_density(logm1, logm2, z1, z2):\n",
    "    \n",
    "    Phi_tot = 0\n",
    "    zs = np.linspace(z1, z2, 100)\n",
    "    logms = np.linspace(logm1, logm2, 100)\n",
    "    for z in zs:\n",
    "        for logm in logms:\n",
    "            Phi_tot+=((10**mass_function(logm, z)))\n",
    "    \n",
    "    return Phi_tot"
   ]
  },
  {
   "cell_type": "code",
   "execution_count": null,
   "metadata": {},
   "outputs": [],
   "source": [
    "def background_redshift_distribution(logms, zs):\n",
    "\n",
    "    Nz = []\n",
    "    i = 1\n",
    "    j = 1\n",
    "    while(i < len(zs)):\n",
    "        while(j < len(logms)):\n",
    "\n",
    "            Nz.append(galaxy_density(logms[j-1], logms[j], zs[i-1], zs[i])*(WMAP9.comoving_volume(zs[i]).value-WMAP9.comoving_volume(zs[i-1]).value))\n",
    "\n",
    "            j+=1\n",
    "        i+=1\n",
    "\n",
    "    return np.hstack(Nz)"
   ]
  },
  {
   "cell_type": "code",
   "execution_count": null,
   "metadata": {},
   "outputs": [],
   "source": [
    "def background_redshift_distribution_fixed_m(logm, zs):\n",
    "\n",
    "    Nz = []\n",
    "    i = 1\n",
    "    while(i < len(zs)):\n",
    "\n",
    "        Nz.append(galaxy_density(logm, zs[i-1], zs[i])*(WMAP9.comoving_volume(zs[i]).value-WMAP9.comoving_volume(zs[i-1]).value))\n",
    "        i+=1\n",
    "\n",
    "    return np.hstack(Nz)"
   ]
  },
  {
   "cell_type": "code",
   "execution_count": null,
   "metadata": {},
   "outputs": [
    {
     "data": {
      "text/plain": [
       "Text(0, 0.5, 'log10(phi)[Mpc-3dex-1]')"
      ]
     },
     "execution_count": 17,
     "metadata": {},
     "output_type": "execute_result"
    },
    {
     "data": {
      "image/png": "[encoded data removed]",
      "text/plain": [
       "<Figure size 640x480 with 1 Axes>"
      ]
     },
     "metadata": {},
     "output_type": "display_data"
    }
   ],
   "source": [
    "mass = np.log10(np.logspace(8,12))\n",
    "plt.plot(mass, mass_function(mass, 0))\n",
    "plt.plot(mass, mass_function(mass, 1))\n",
    "plt.plot(mass, mass_function(mass, 2))\n",
    "plt.plot(mass, mass_function(mass, 3))\n",
    "plt.ylim(-5, -1)\n",
    "plt.xlabel('log10(m/msun)')\n",
    "plt.ylabel('log10(phi)[Mpc-3dex-1]')"
   ]
  },
  {
   "cell_type": "code",
   "execution_count": null,
   "metadata": {},
   "outputs": [
    {
     "ename": "TypeError",
     "evalue": "object of type 'numpy.float64' has no len()",
     "output_type": "error",
     "traceback": [
      "\u001b[0;31m---------------------------------------------------------------------------\u001b[0m",
      "\u001b[0;31mTypeError\u001b[0m                                 Traceback (most recent call last)",
      "Cell \u001b[0;32mIn[18], line 4\u001b[0m\n\u001b[1;32m      2\u001b[0m logms \u001b[38;5;241m=\u001b[39m np\u001b[38;5;241m.\u001b[39mlinspace(\u001b[38;5;241m8\u001b[39m, \u001b[38;5;241m12\u001b[39m, \u001b[38;5;241m200\u001b[39m)\n\u001b[1;32m      3\u001b[0m mass \u001b[38;5;241m=\u001b[39m np\u001b[38;5;241m.\u001b[39marray([\u001b[38;5;241m10\u001b[39m])\n\u001b[0;32m----> 4\u001b[0m Nz \u001b[38;5;241m=\u001b[39m \u001b[43mbackground_redshift_distribution\u001b[49m\u001b[43m(\u001b[49m\u001b[43mlogms\u001b[49m\u001b[43m,\u001b[49m\u001b[43m \u001b[49m\u001b[43mzs\u001b[49m\u001b[43m)\u001b[49m\n\u001b[1;32m      5\u001b[0m plt\u001b[38;5;241m.\u001b[39mplot(zs[:\u001b[38;5;241m199\u001b[39m], Nz)\n\u001b[1;32m      6\u001b[0m plt\u001b[38;5;241m.\u001b[39mxlim(\u001b[38;5;241m0\u001b[39m,\u001b[38;5;241m3\u001b[39m)\n",
      "Cell \u001b[0;32mIn[15], line 9\u001b[0m, in \u001b[0;36mbackground_redshift_distribution\u001b[0;34m(logms, zs)\u001b[0m\n\u001b[1;32m      6\u001b[0m \u001b[38;5;28;01mwhile\u001b[39;00m(i \u001b[38;5;241m<\u001b[39m \u001b[38;5;28mlen\u001b[39m(zs)):\n\u001b[1;32m      7\u001b[0m     \u001b[38;5;28;01mwhile\u001b[39;00m(j \u001b[38;5;241m<\u001b[39m \u001b[38;5;28mlen\u001b[39m(logms)):\n\u001b[0;32m----> 9\u001b[0m         Nz\u001b[38;5;241m.\u001b[39mappend(\u001b[43mgalaxy_density\u001b[49m\u001b[43m(\u001b[49m\u001b[43mlogms\u001b[49m\u001b[43m[\u001b[49m\u001b[43mj\u001b[49m\u001b[38;5;241;43m-\u001b[39;49m\u001b[38;5;241;43m1\u001b[39;49m\u001b[43m]\u001b[49m\u001b[43m,\u001b[49m\u001b[43m \u001b[49m\u001b[43mlogms\u001b[49m\u001b[43m[\u001b[49m\u001b[43mj\u001b[49m\u001b[43m]\u001b[49m\u001b[43m,\u001b[49m\u001b[43m \u001b[49m\u001b[43mzs\u001b[49m\u001b[43m[\u001b[49m\u001b[43mi\u001b[49m\u001b[38;5;241;43m-\u001b[39;49m\u001b[38;5;241;43m1\u001b[39;49m\u001b[43m]\u001b[49m\u001b[43m,\u001b[49m\u001b[43m \u001b[49m\u001b[43mzs\u001b[49m\u001b[43m[\u001b[49m\u001b[43mi\u001b[49m\u001b[43m]\u001b[49m\u001b[43m)\u001b[49m\u001b[38;5;241m*\u001b[39m(WMAP9\u001b[38;5;241m.\u001b[39mcomoving_volume(zs[i])\u001b[38;5;241m.\u001b[39mvalue\u001b[38;5;241m-\u001b[39mWMAP9\u001b[38;5;241m.\u001b[39mcomoving_volume(zs[i\u001b[38;5;241m-\u001b[39m\u001b[38;5;241m1\u001b[39m])\u001b[38;5;241m.\u001b[39mvalue))\n\u001b[1;32m     11\u001b[0m         j\u001b[38;5;241m+\u001b[39m\u001b[38;5;241m=\u001b[39m\u001b[38;5;241m1\u001b[39m\n\u001b[1;32m     12\u001b[0m     i\u001b[38;5;241m+\u001b[39m\u001b[38;5;241m=\u001b[39m\u001b[38;5;241m1\u001b[39m\n",
      "Cell \u001b[0;32mIn[14], line 8\u001b[0m, in \u001b[0;36mgalaxy_density\u001b[0;34m(logm1, logm2, z1, z2)\u001b[0m\n\u001b[1;32m      6\u001b[0m \u001b[38;5;28;01mfor\u001b[39;00m z \u001b[38;5;129;01min\u001b[39;00m zs:\n\u001b[1;32m      7\u001b[0m     \u001b[38;5;28;01mfor\u001b[39;00m logm \u001b[38;5;129;01min\u001b[39;00m logms:\n\u001b[0;32m----> 8\u001b[0m         Phi_tot\u001b[38;5;241m+\u001b[39m\u001b[38;5;241m=\u001b[39m((\u001b[38;5;241m10\u001b[39m\u001b[38;5;241m*\u001b[39m\u001b[38;5;241m*\u001b[39m\u001b[43mmass_function\u001b[49m\u001b[43m(\u001b[49m\u001b[43mlogm\u001b[49m\u001b[43m,\u001b[49m\u001b[43m \u001b[49m\u001b[43mz\u001b[49m\u001b[43m)\u001b[49m))\n\u001b[1;32m     10\u001b[0m \u001b[38;5;28;01mreturn\u001b[39;00m Phi_tot\n",
      "Cell \u001b[0;32mIn[12], line 12\u001b[0m, in \u001b[0;36mmass_function\u001b[0;34m(logm, z, y_logphi1, y_logphi2, y_M0, alpha1, alpha2)\u001b[0m\n\u001b[1;32m      9\u001b[0m phi2 \u001b[38;5;241m=\u001b[39m parameter_at_z0(y_logphi2, z)\n\u001b[1;32m     10\u001b[0m logM0 \u001b[38;5;241m=\u001b[39m parameter_at_z0(y_M0, z)\n\u001b[0;32m---> 12\u001b[0m \u001b[38;5;28;01mreturn\u001b[39;00m np\u001b[38;5;241m.\u001b[39mlog10(\u001b[43mdouble_schechter\u001b[49m\u001b[43m(\u001b[49m\u001b[43mlogm\u001b[49m\u001b[43m,\u001b[49m\u001b[43m \u001b[49m\u001b[43mphi1\u001b[49m\u001b[43m,\u001b[49m\u001b[43m \u001b[49m\u001b[43mphi2\u001b[49m\u001b[43m,\u001b[49m\u001b[43m \u001b[49m\u001b[43mlogM0\u001b[49m\u001b[43m,\u001b[49m\u001b[43m \u001b[49m\u001b[43malpha1\u001b[49m\u001b[43m[\u001b[49m\u001b[38;5;241;43m0\u001b[39;49m\u001b[43m]\u001b[49m\u001b[43m,\u001b[49m\u001b[43m \u001b[49m\u001b[43malpha2\u001b[49m\u001b[43m[\u001b[49m\u001b[38;5;241;43m0\u001b[39;49m\u001b[43m]\u001b[49m\u001b[43m)\u001b[49m)\n",
      "Cell \u001b[0;32mIn[10], line 9\u001b[0m, in \u001b[0;36mdouble_schechter\u001b[0;34m(M, logphi1, logphi2, Mo, a1, a2)\u001b[0m\n\u001b[1;32m      7\u001b[0m \u001b[38;5;28;01mdef\u001b[39;00m \u001b[38;5;21mdouble_schechter\u001b[39m(M, logphi1, logphi2, Mo, a1, a2):\n\u001b[0;32m----> 9\u001b[0m     \u001b[38;5;28;01mreturn\u001b[39;00m \u001b[43mschechter\u001b[49m\u001b[43m(\u001b[49m\u001b[43mlogphi1\u001b[49m\u001b[43m,\u001b[49m\u001b[43m \u001b[49m\u001b[43mM\u001b[49m\u001b[43m,\u001b[49m\u001b[43m \u001b[49m\u001b[43mMo\u001b[49m\u001b[43m,\u001b[49m\u001b[43m \u001b[49m\u001b[43ma1\u001b[49m\u001b[43m)\u001b[49m \u001b[38;5;241m+\u001b[39m schechter(logphi2, M, Mo, a2)\n",
      "Cell \u001b[0;32mIn[10], line 3\u001b[0m, in \u001b[0;36mschechter\u001b[0;34m(logphi, M, Mo, a)\u001b[0m\n\u001b[1;32m      1\u001b[0m \u001b[38;5;28;01mdef\u001b[39;00m \u001b[38;5;21mschechter\u001b[39m(logphi, M, Mo, a):\n\u001b[0;32m----> 3\u001b[0m     Mo \u001b[38;5;241m=\u001b[39m np\u001b[38;5;241m.\u001b[39masarray([Mo]\u001b[38;5;241m*\u001b[39m\u001b[38;5;28mlen\u001b[39m(M))\n\u001b[1;32m      5\u001b[0m     \u001b[38;5;28;01mreturn\u001b[39;00m np\u001b[38;5;241m.\u001b[39mlog(\u001b[38;5;241m10\u001b[39m)\u001b[38;5;241m*\u001b[39m(\u001b[38;5;241m10\u001b[39m\u001b[38;5;241m*\u001b[39m\u001b[38;5;241m*\u001b[39mlogphi)\u001b[38;5;241m*\u001b[39m\u001b[38;5;241m10\u001b[39m\u001b[38;5;241m*\u001b[39m\u001b[38;5;241m*\u001b[39m((M\u001b[38;5;241m-\u001b[39mMo)\u001b[38;5;241m*\u001b[39m(a\u001b[38;5;241m+\u001b[39m\u001b[38;5;241m1\u001b[39m))\u001b[38;5;241m*\u001b[39mnp\u001b[38;5;241m.\u001b[39mexp(\u001b[38;5;241m-\u001b[39m\u001b[38;5;241m10\u001b[39m\u001b[38;5;241m*\u001b[39m\u001b[38;5;241m*\u001b[39m(M\u001b[38;5;241m-\u001b[39mMo))\n",
      "\u001b[0;31mTypeError\u001b[0m: object of type 'numpy.float64' has no len()"
     ]
    }
   ],
   "source": [
    "zs = np.linspace(0, 7, 200)\n",
    "logms = np.linspace(8, 12, 200)\n",
    "mass = np.array([10])\n",
    "Nz = background_redshift_distribution(logms, zs)\n",
    "plt.plot(zs[:199], Nz)\n",
    "plt.xlim(0,3)"
   ]
  }
 ],
 "metadata": {
  "kernelspec": {
   "display_name": "tensorflow",
   "language": "python",
   "name": "tf_env"
  },
  "language_info": {
   "codemirror_mode": {
    "name": "ipython",
    "version": 3
   },
   "file_extension": ".py",
   "mimetype": "text/x-python",
   "name": "python",
   "nbconvert_exporter": "python",
   "pygments_lexer": "ipython3",
   "version": "3.11.0"
  }
 },
 "nbformat": 4,
 "nbformat_minor": 2
}
