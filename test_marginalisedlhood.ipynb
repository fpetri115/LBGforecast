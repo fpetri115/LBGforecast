{
 "cells": [
  {
   "cell_type": "code",
   "execution_count": 1,
   "id": "e5dd10db-24e4-44e1-b1d8-a820314dc1a4",
   "metadata": {},
   "outputs": [],
   "source": [
    "import jax.numpy as jnp\n",
    "import numpy as onp\n",
    "import matplotlib.pyplot as plt\n",
    "\n",
    "from jax.config import config\n",
    "config.update(\"jax_enable_x64\", True)\n",
    "from jax import jit\n",
    "\n",
    "from jax_cosmo import Planck15\n",
    "from jax_cosmo import probes\n",
    "from jax_cosmo import Cosmology\n",
    "from jax_cosmo.angular_cl import gaussian_cl_covariance_and_mean\n",
    "from jax_cosmo.bias import constant_linear_bias\n",
    "from jax_cosmo.redshift import smail_nz\n",
    "\n",
    "from jax import jacfwd, jacrev\n",
    "\n",
    "from modified_likelihood import marginalised_log_likelihood\n",
    "from modified_likelihood import gaussian_log_likelihood"
   ]
  },
  {
   "cell_type": "code",
   "execution_count": 2,
   "id": "522067b2-99e7-4aa2-be3b-b8f0f1b39ae9",
   "metadata": {},
   "outputs": [],
   "source": [
    "import emcee\n",
    "from numpy.testing import assert_array_equal\n",
    "from numpy.testing import assert_allclose"
   ]
  },
  {
   "cell_type": "code",
   "execution_count": 3,
   "id": "596961a4-c738-4ce6-8d20-9c04a81d7e56",
   "metadata": {},
   "outputs": [],
   "source": [
    "from jax.scipy.special import logsumexp"
   ]
  },
  {
   "cell_type": "markdown",
   "id": "0539cdd4-3b2e-4d2d-b0b9-b77aa07d9d0e",
   "metadata": {
    "tags": []
   },
   "source": [
    "### Useful Functions"
   ]
  },
  {
   "cell_type": "code",
   "execution_count": 4,
   "id": "927e3517-3fe2-430e-bdfe-2542db3f655f",
   "metadata": {},
   "outputs": [],
   "source": [
    "def get_cosmo_params(cosmo): \n",
    "    \n",
    "    return jnp.array([cosmo.sigma8, cosmo.Omega_c, cosmo.Omega_b, cosmo.h, cosmo.n_s, cosmo.w0])"
   ]
  },
  {
   "cell_type": "code",
   "execution_count": 5,
   "id": "57c0fa72-107c-4613-bc07-636fd7ef687b",
   "metadata": {},
   "outputs": [],
   "source": [
    "def cosmo_params_to_obj(params):\n",
    "    \n",
    "    cosmo = Cosmology(sigma8=params[0], Omega_c=params[1], \n",
    "                      Omega_b=params[2], h=params[3], n_s=params[4], \n",
    "                      w0=params[5], Omega_k=0., wa=0.)\n",
    "    \n",
    "    return cosmo"
   ]
  },
  {
   "cell_type": "code",
   "execution_count": 6,
   "id": "db868112-07de-4f2e-bcfe-fb8cd611a423",
   "metadata": {},
   "outputs": [],
   "source": [
    "def plot_lhood(likelihood):\n",
    "    param_space = jnp.arange(0.6, 1.2, 0.05)\n",
    "    f = []\n",
    "    for p in param_space:\n",
    "            f.append(likelihood(p))\n",
    "            \n",
    "    plt.plot(param_space, f)\n",
    "    \n",
    "    return f\n",
    "    "
   ]
  },
  {
   "cell_type": "code",
   "execution_count": 7,
   "id": "6861147e-5a6a-47b2-8f96-49db477c3556",
   "metadata": {},
   "outputs": [],
   "source": [
    "def sample(nwalkers, ndim, logp, nruns=10):\n",
    "    \n",
    "    sampler = emcee.EnsembleSampler(nwalkers, ndim, logp)\n",
    "    \n",
    "    #random nos between 0 and 1\n",
    "    p0 = onp.random.rand(nwalkers, ndim)\n",
    "    \n",
    "    #remove burn-in\n",
    "    state = sampler.run_mcmc(p0, 100)\n",
    "    sampler.reset()\n",
    "    \n",
    "    #\n",
    "    for n in range(nruns):\n",
    "        state = sampler.run_mcmc(state, 100)\n",
    "        \n",
    "    return sampler.get_chain(flat=True)\n",
    "    "
   ]
  },
  {
   "cell_type": "markdown",
   "id": "788b6ce1-e9ad-42dc-a3ef-07f0db64439d",
   "metadata": {},
   "source": [
    "### Theory Vector"
   ]
  },
  {
   "cell_type": "code",
   "execution_count": 8,
   "id": "cd31a815-f3a3-412e-8a19-cf77c687695b",
   "metadata": {},
   "outputs": [],
   "source": [
    "@jit\n",
    "def cl(sig8, z0):\n",
    "    \"\"\"function to calculate a test cl\"\"\"\n",
    "    \n",
    "    n_ell = 5\n",
    "    ell = jnp.logspace(1, 3, n_ell)\n",
    "    \n",
    "    nz = [smail_nz(1.0, 2.0, z0)]\n",
    "    bias = constant_linear_bias(1.0)\n",
    "    p = [probes.NumberCounts(nz, bias)]\n",
    "    \n",
    "    planck_params = get_cosmo_params(Planck15())\n",
    "    planck_params = planck_params.at[0].set(sig8)\n",
    "    cosmo = cosmo_params_to_obj(planck_params)\n",
    "    \n",
    "    mu, cov = gaussian_cl_covariance_and_mean(cosmo, ell, p, sparse=False)\n",
    "    \n",
    "    return mu, cov"
   ]
  },
  {
   "cell_type": "markdown",
   "id": "6dae031d-d237-4636-8370-72305bf836f7",
   "metadata": {
    "tags": []
   },
   "source": [
    "### Generate Data"
   ]
  },
  {
   "cell_type": "code",
   "execution_count": 9,
   "id": "8751f01e-054a-4dd2-82af-272d28c13ca1",
   "metadata": {},
   "outputs": [],
   "source": [
    "fid_z0 = 1.0\n",
    "fid_sigma = Planck15().sigma8"
   ]
  },
  {
   "cell_type": "code",
   "execution_count": 10,
   "id": "702156c3-0933-4c4e-b48f-5e6f7d21db7c",
   "metadata": {},
   "outputs": [
    {
     "name": "stderr",
     "output_type": "stream",
     "text": [
      "WARNING:absl:No GPU/TPU found, falling back to CPU. (Set TF_CPP_MIN_LOG_LEVEL=0 and rerun for more info.)\n"
     ]
    }
   ],
   "source": [
    "clandcov = cl(fid_sigma, fid_z0)\n",
    "\n",
    "data, C = clandcov[0], clandcov[1]"
   ]
  },
  {
   "cell_type": "code",
   "execution_count": 11,
   "id": "56788d49-b74a-4f39-bc88-f6e112438ce4",
   "metadata": {},
   "outputs": [],
   "source": [
    "jacobian = jit(jacfwd(cl, argnums=1))\n",
    "\n",
    "mean = onp.array([fid_z0])\n",
    "P = jnp.array([[0.05]])\n",
    "\n",
    "jac_at_fid = jacobian(fid_sigma, fid_z0)[0]\n",
    "T = jnp.reshape(jac_at_fid, (jac_at_fid.shape[0], len(P))) #reshape need for 1d\n",
    "\n",
    "nz_mean = jnp.array([1.0])"
   ]
  },
  {
   "cell_type": "code",
   "execution_count": 12,
   "id": "85ecebab-1ed4-427c-b953-e67204078695",
   "metadata": {},
   "outputs": [],
   "source": [
    "#gaussian likelihood\n",
    "lhood = lambda s : gaussian_log_likelihood(data, cl(s, fid_z0)[0], C, include_logdet=False, inverse_method=\"inverse\")\n",
    "\n",
    "#analytically marginalised likelihood\n",
    "lhood_analytical = lambda s : marginalised_log_likelihood(data, cl(s, mean[0])[0], C, P, T)\n",
    "\n",
    "\n",
    "#numerical lhoods\n",
    "#nz likelihood\n",
    "lhood_nz = lambda s: gaussian_log_likelihood(nz_mean, jnp.array([s]), P, include_logdet=False, inverse_method=\"inverse\")\n",
    "lhood_cl = lambda s, z : gaussian_log_likelihood(data, cl(s, z)[0], C, include_logdet=False, inverse_method=\"inverse\") "
   ]
  },
  {
   "cell_type": "code",
   "execution_count": 13,
   "id": "48652030-4c42-4b65-9b6d-126a82384bea",
   "metadata": {},
   "outputs": [],
   "source": [
    "def gauss_posterior(p):\n",
    "    sig8 = p[0]\n",
    "    if(sig8<0 or sig8>1.1):\n",
    "        return -onp.inf\n",
    "    else:\n",
    "        return lhood(sig8)"
   ]
  },
  {
   "cell_type": "code",
   "execution_count": 14,
   "id": "46f26d67-9894-4104-a32f-6b8e0558f237",
   "metadata": {},
   "outputs": [],
   "source": [
    "def analytical_posterior(p):\n",
    "    sig8 = p[0]\n",
    "    if(sig8<0 or sig8>1.1):\n",
    "        return -onp.inf\n",
    "    else:\n",
    "        return lhood_analytical(sig8)"
   ]
  },
  {
   "cell_type": "code",
   "execution_count": 15,
   "id": "9af9104a-f650-413c-87ae-8e16361d36f0",
   "metadata": {},
   "outputs": [
    {
     "data": {
      "text/plain": [
       "(array([  1.,   1.,   0.,   0.,   1.,   3.,   4.,   3.,   5.,   3.,   7.,\n",
       "          8.,   9.,  12.,  27.,  23.,  33.,  37.,  36.,  46.,  79.,  61.,\n",
       "         92., 116., 104., 152., 154., 194., 239., 255., 280., 303., 351.,\n",
       "        377., 395., 435., 480., 545., 551., 576., 616., 687., 671., 704.,\n",
       "        660., 675., 718., 676., 655., 675., 626., 592., 605., 557., 528.,\n",
       "        505., 452., 401., 360., 352., 322., 286., 257., 212., 188., 164.,\n",
       "        157., 143.,  90.,  94.,  79.,  48.,  47.,  41.,  36.,  23.,  21.,\n",
       "         13.,  13.,  13.,  13.,   7.,   6.,   2.,   3.,   1.,   2.,   2.,\n",
       "          0.,   0.,   2.,   0.,   0.,   1.,   0.,   0.,   0.,   0.,   0.,\n",
       "          1.]),\n",
       " array([0.8022661 , 0.80656491, 0.81086373, 0.81516254, 0.81946135,\n",
       "        0.82376016, 0.82805897, 0.83235779, 0.8366566 , 0.84095541,\n",
       "        0.84525422, 0.84955304, 0.85385185, 0.85815066, 0.86244947,\n",
       "        0.86674828, 0.8710471 , 0.87534591, 0.87964472, 0.88394353,\n",
       "        0.88824235, 0.89254116, 0.89683997, 0.90113878, 0.9054376 ,\n",
       "        0.90973641, 0.91403522, 0.91833403, 0.92263284, 0.92693166,\n",
       "        0.93123047, 0.93552928, 0.93982809, 0.94412691, 0.94842572,\n",
       "        0.95272453, 0.95702334, 0.96132215, 0.96562097, 0.96991978,\n",
       "        0.97421859, 0.9785174 , 0.98281622, 0.98711503, 0.99141384,\n",
       "        0.99571265, 1.00001146, 1.00431028, 1.00860909, 1.0129079 ,\n",
       "        1.01720671, 1.02150553, 1.02580434, 1.03010315, 1.03440196,\n",
       "        1.03870077, 1.04299959, 1.0472984 , 1.05159721, 1.05589602,\n",
       "        1.06019484, 1.06449365, 1.06879246, 1.07309127, 1.07739009,\n",
       "        1.0816889 , 1.08598771, 1.09028652, 1.09458533, 1.09888415,\n",
       "        1.10318296, 1.10748177, 1.11178058, 1.1160794 , 1.12037821,\n",
       "        1.12467702, 1.12897583, 1.13327464, 1.13757346, 1.14187227,\n",
       "        1.14617108, 1.15046989, 1.15476871, 1.15906752, 1.16336633,\n",
       "        1.16766514, 1.17196395, 1.17626277, 1.18056158, 1.18486039,\n",
       "        1.1891592 , 1.19345802, 1.19775683, 1.20205564, 1.20635445,\n",
       "        1.21065326, 1.21495208, 1.21925089, 1.2235497 , 1.22784851,\n",
       "        1.23214733]),\n",
       " [<matplotlib.patches.Polygon at 0x7f639450eee0>])"
      ]
     },
     "execution_count": 15,
     "metadata": {},
     "output_type": "execute_result"
    },
    {
     "data": {
      "image/png": "[encoded data removed]",
      "text/plain": [
       "<Figure size 432x288 with 1 Axes>"
      ]
     },
     "metadata": {
      "needs_background": "light"
     },
     "output_type": "display_data"
    }
   ],
   "source": [
    "plt.hist(onp.random.normal(1.0, 0.05, 20000).flatten(), 100, histtype=\"step\")"
   ]
  },
  {
   "cell_type": "code",
   "execution_count": 16,
   "id": "9487afdb-6b7c-4799-bbfa-ac40d6af0108",
   "metadata": {},
   "outputs": [],
   "source": [
    "@jit\n",
    "def log_sum_exp(sigma8):\n",
    "        z0grid = onp.arange(0.8, 1.2, 0.005)\n",
    "        arg = jnp.ones(len(z0grid))\n",
    "        \n",
    "        j = 0\n",
    "        for i in z0grid:\n",
    "            arg = arg.at[j].set(lhood_nz(i) + lhood_cl(sigma8, i))\n",
    "            j+=1\n",
    "            \n",
    "        return logsumexp(arg)"
   ]
  },
  {
   "cell_type": "code",
   "execution_count": 17,
   "id": "d85af424-4c9f-471b-b473-bc9da091689e",
   "metadata": {},
   "outputs": [
    {
     "data": {
      "text/plain": [
       "DeviceArray(0.44291568, dtype=float64)"
      ]
     },
     "execution_count": 17,
     "metadata": {},
     "output_type": "execute_result"
    }
   ],
   "source": [
    "#compile\n",
    "log_sum_exp(fid_sigma)"
   ]
  },
  {
   "cell_type": "code",
   "execution_count": 18,
   "id": "80f30b95-284e-4c61-b543-070282183c89",
   "metadata": {},
   "outputs": [],
   "source": [
    "def numerical_posterior(p):\n",
    "    sig8 = p[0]\n",
    "    if(sig8<0 or sig8>1.1):\n",
    "        return -onp.inf\n",
    "    else:        \n",
    "        return log_sum_exp(sig8)"
   ]
  },
  {
   "cell_type": "markdown",
   "id": "f66c0eab-e485-4516-b229-04683d1007a2",
   "metadata": {},
   "source": [
    "# Tests"
   ]
  },
  {
   "cell_type": "code",
   "execution_count": 19,
   "id": "8c3e676d-9233-49d1-be62-63b5c5ec6642",
   "metadata": {},
   "outputs": [],
   "source": [
    "nwalkers = 5\n",
    "ndim=1"
   ]
  },
  {
   "cell_type": "code",
   "execution_count": 20,
   "id": "c4afcb2f-7375-4973-a9a7-095851ae9bb3",
   "metadata": {},
   "outputs": [],
   "source": [
    "gauss_samples = sample(nwalkers, ndim, gauss_posterior, nruns=10)"
   ]
  },
  {
   "cell_type": "code",
   "execution_count": 21,
   "id": "83d08f04-e9c4-427f-a888-c15467e4af31",
   "metadata": {},
   "outputs": [],
   "source": [
    "analytical_samples = sample(nwalkers, ndim, analytical_posterior, nruns=10)"
   ]
  },
  {
   "cell_type": "code",
   "execution_count": 22,
   "id": "1ce9b741-78e2-45b8-ab6f-a01f29f115b9",
   "metadata": {},
   "outputs": [],
   "source": [
    "numerical_samples = sample(nwalkers, ndim, numerical_posterior, nruns=10)"
   ]
  },
  {
   "cell_type": "code",
   "execution_count": 26,
   "id": "0371973c-027f-4787-9cd9-b09fad32ccf0",
   "metadata": {},
   "outputs": [
    {
     "data": {
      "image/png": "[encoded data removed]",
      "text/plain": [
       "<Figure size 432x288 with 1 Axes>"
      ]
     },
     "metadata": {
      "needs_background": "light"
     },
     "output_type": "display_data"
    }
   ],
   "source": [
    "#plt.hist(gauss_samples[:, 0], 100, color=\"k\", histtype=\"step\", density=True)\n",
    "plt.hist(analytical_samples[:, 0], 50, color=\"r\", histtype=\"step\", density=True, lw=2)\n",
    "plt.hist(numerical_samples[:, 0], 50, color=\"g\", histtype=\"step\", density=True, lw=2)\n",
    "plt.xlabel(r\"$\\sigma_8$\")\n",
    "plt.ylabel(r\"$p(\\sigma_8)$\")\n",
    "plt.gca().set_yticks([]);"
   ]
  },
  {
   "cell_type": "code",
   "execution_count": null,
   "id": "2a1ea4de-9510-4484-8914-2c3af47a86df",
   "metadata": {},
   "outputs": [],
   "source": []
  }
 ],
 "metadata": {
  "kernelspec": {
   "display_name": "Python 3 (ipykernel)",
   "language": "python",
   "name": "python3"
  },
  "language_info": {
   "codemirror_mode": {
    "name": "ipython",
    "version": 3
   },
   "file_extension": ".py",
   "mimetype": "text/x-python",
   "name": "python",
   "nbconvert_exporter": "python",
   "pygments_lexer": "ipython3",
   "version": "3.11.2"
  }
 },
 "nbformat": 4,
 "nbformat_minor": 5
}
