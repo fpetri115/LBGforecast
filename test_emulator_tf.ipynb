{
 "cells": [
  {
   "cell_type": "code",
   "execution_count": 1,
   "metadata": {},
   "outputs": [],
   "source": [
    "import os\n",
    "os.environ[\"SPS_HOME\"] = \"/Users/fpetri/packages/fsps\" "
   ]
  },
  {
   "cell_type": "code",
   "execution_count": 2,
   "metadata": {},
   "outputs": [
    {
     "name": "stderr",
     "output_type": "stream",
     "text": [
      "WARNING:absl:At this time, the v2.11+ optimizer `tf.keras.optimizers.Adam` runs slowly on M1/M2 Macs, please use the legacy Keras optimizer instead, located at `tf.keras.optimizers.legacy.Adam`.\n",
      "WARNING:absl:At this time, the v2.11+ optimizer `tf.keras.optimizers.Adam` runs slowly on M1/M2 Macs, please use the legacy Keras optimizer instead, located at `tf.keras.optimizers.legacy.Adam`.\n",
      "WARNING:absl:At this time, the v2.11+ optimizer `tf.keras.optimizers.Adam` runs slowly on M1/M2 Macs, please use the legacy Keras optimizer instead, located at `tf.keras.optimizers.legacy.Adam`.\n",
      "WARNING:absl:At this time, the v2.11+ optimizer `tf.keras.optimizers.Adam` runs slowly on M1/M2 Macs, please use the legacy Keras optimizer instead, located at `tf.keras.optimizers.legacy.Adam`.\n",
      "WARNING:absl:At this time, the v2.11+ optimizer `tf.keras.optimizers.Adam` runs slowly on M1/M2 Macs, please use the legacy Keras optimizer instead, located at `tf.keras.optimizers.legacy.Adam`.\n"
     ]
    }
   ],
   "source": [
    "import numpy as np\n",
    "from speculator import Photulator\n",
    "import fsps\n",
    "import matplotlib.pyplot as plt\n",
    "import tensorflow as tf"
   ]
  },
  {
   "cell_type": "code",
   "execution_count": 3,
   "metadata": {},
   "outputs": [
    {
     "name": "stdout",
     "output_type": "stream",
     "text": [
      "Num GPUs Available:  1\n"
     ]
    }
   ],
   "source": [
    "print(\"Num GPUs Available: \", len(tf.config.list_physical_devices('GPU')))"
   ]
  },
  {
   "cell_type": "code",
   "execution_count": 4,
   "metadata": {},
   "outputs": [
    {
     "name": "stdout",
     "output_type": "stream",
     "text": [
      "['lsst_u', 'lsst_g', 'lsst_r', 'lsst_i', 'lsst_z', 'lsst_y']\n"
     ]
    }
   ],
   "source": [
    "filter_list = fsps.find_filter('lsst')\n",
    "print(filter_list)"
   ]
  },
  {
   "cell_type": "code",
   "execution_count": 5,
   "metadata": {},
   "outputs": [
    {
     "name": "stdout",
     "output_type": "stream",
     "text": [
      "(1000000, 17) (1000000, 6)\n"
     ]
    }
   ],
   "source": [
    "#training data\n",
    "spsparams = np.load(\"training_data/sps_parameters_51000000.npy\")[:1000000].astype(np.float32)\n",
    "photometry = np.load(\"training_data/photometry_51000000.npy\")[:1000000].astype(np.float32)\n",
    "print(spsparams.shape, photometry.shape)\n",
    "\n",
    "# parameters shift and scale\n",
    "parameters_shift = np.mean(spsparams, axis=0)\n",
    "parameters_scale = np.std(spsparams, axis=0)\n",
    "magnitudes_shift = np.mean(photometry, axis=0)\n",
    "magnitudes_scale = np.std(photometry, axis=0)"
   ]
  },
  {
   "cell_type": "code",
   "execution_count": 6,
   "metadata": {},
   "outputs": [
    {
     "name": "stdout",
     "output_type": "stream",
     "text": [
      "<class 'filter'>\n"
     ]
    }
   ],
   "source": [
    "#select filters\n",
    "select = 0\n",
    "filters = filter_list[select:select+1]\n",
    "training_theta = tf.convert_to_tensor(spsparams)\n",
    "training_mag = tf.convert_to_tensor(photometry[:,select:select+1])\n",
    "print(filter)\n",
    "\n",
    "# training set up\n",
    "validation_split = 0.1\n",
    "\n",
    "#STEP SIZE (len(lr) = len(batch_size))\n",
    "lr = [1e-3, 1e-4, 1e-5, 1e-5]\n",
    "\n",
    "#BIGGER BATCH -> BETTER ESTIMATE OF GRADIENT BUT MORE MEMORY REQUIRED AND SLOWER (REMEMBER: NETWORK ONLY UPDATES PER BATCH)\n",
    "#                                                                                    -A BIGGER BATCH MEANS YOU WILL LOOP THROUGH DATA QUICKER\n",
    "#                                                                                     -NEED MORE EPOCHS\n",
    "# doing large batches last to check it doesnt crazy impact the validation loss? Do most of the work with small batches which is faster?\n",
    "batch_size = [1000, 10000, 30000, int((1-validation_split) * training_theta.shape[0])]\n",
    "\n",
    "#how many minibatches to split into?\n",
    "gradient_accumulation_steps = [1, 1, 1, 10]#, 1, 10]\n",
    "\n",
    "if(len(lr) != len(batch_size) or \n",
    "   len(lr) != len(gradient_accumulation_steps) or\n",
    "     len(batch_size) != len(gradient_accumulation_steps)):\n",
    "    raise Exception(\"miss matched size of lr/batch_size/gradient_acc\") \n",
    "\n",
    "# early stopping set up\n",
    "patience = 2\n",
    "\n",
    "# architecture\n",
    "n_layers = 4\n",
    "n_units = 128\n",
    "\n",
    "#extra params\n",
    "verbose = True\n",
    "disable_early_stopping=True\n",
    "\n",
    "#optimiser\n",
    "optimiser = tf.keras.optimizers.legacy.Adam()\n",
    "\n",
    "#running loss\n",
    "running_loss = []\n",
    "running_val_loss = [] #keeps track of validation loss across different batch sizes/learning rates"
   ]
  },
  {
   "cell_type": "code",
   "execution_count": 7,
   "metadata": {},
   "outputs": [
    {
     "name": "stdout",
     "output_type": "stream",
     "text": [
      "filter lsst_u...\n",
      "learning rate = 0.001, batch size = 1000\n",
      "Validation loss = 2.7268374\n",
      "learning rate = 0.0001, batch size = 10000\n"
     ]
    }
   ],
   "source": [
    "# architecture\n",
    "n_hidden = [n_units]*n_layers\n",
    "\n",
    "# train each band in turn\n",
    "for f in range(len(filters)):\n",
    "\n",
    "    if verbose is True:\n",
    "        print('filter ' + filters[f] + '...')\n",
    "\n",
    "    # construct the PHOTULATOR model\n",
    "    photulator = Photulator(n_parameters=training_theta.shape[-1], \n",
    "                        filters=[filters[f]], \n",
    "                        parameters_shift=parameters_shift, \n",
    "                        parameters_scale=parameters_scale, \n",
    "                        magnitudes_shift=magnitudes_shift[f], \n",
    "                        magnitudes_scale=magnitudes_scale[f], \n",
    "                        n_hidden=n_hidden, \n",
    "                        restore=False, \n",
    "                        restore_filename=None,\n",
    "                        optimizer=optimiser)\n",
    "\n",
    "    # train using cooling/heating schedule for lr/batch-size\n",
    "    for i in range(len(lr)):\n",
    "        \n",
    "        if verbose is True:\n",
    "            print('learning rate = ' + str(lr[i]) + ', batch size = ' + str(batch_size[i]))\n",
    "\n",
    "        # set learning rate\n",
    "        photulator.optimizer.lr = lr[i]\n",
    "\n",
    "        # split into validation and training sub-sets\n",
    "        n_validation = int(training_theta.shape[0] * validation_split)\n",
    "        n_training = training_theta.shape[0] - n_validation\n",
    "        training_selection = tf.random.shuffle([True] * n_training + [False] * n_validation)\n",
    "\n",
    "        # create iterable dataset (given batch size)\n",
    "        train_mag = tf.expand_dims(training_mag[:,f],-1)\n",
    "        training_data = tf.data.Dataset.from_tensor_slices((training_theta[training_selection], train_mag[training_selection])).shuffle(n_training).batch(batch_size[i])\n",
    "\n",
    "        # set up training loss\n",
    "        training_loss = [np.infty]\n",
    "        validation_loss = [np.infty]\n",
    "        best_loss = np.infty\n",
    "        early_stopping_counter = 0\n",
    "\n",
    "        # loop over epochs\n",
    "        while early_stopping_counter < patience:\n",
    "\n",
    "            # loop over batches for a single epoch \n",
    "            #for loop:(give one batch of param+phot -> update network once)\n",
    "            for theta, mag in training_data:\n",
    "\n",
    "                # training step: check whether to accumulate gradients or not (only worth doing this for very large batch sizes)\n",
    "                if gradient_accumulation_steps[i] == 1:\n",
    "                    loss = photulator.training_step(theta, mag)\n",
    "                else:\n",
    "                    #FURTHER BATCHING of batch into sub-batch as not to calculate the gradients all in one step, instead calculate them in smaller sub-batches\n",
    "                    #but then still update the model in one batch (not sub-batches) as you have all the gradients, just 'acculumlated' to save memory\n",
    "                    loss = photulator.training_step_with_accumulated_gradients(theta, mag, accumulation_steps=gradient_accumulation_steps[i])\n",
    "\n",
    "                running_loss.append(loss)\n",
    "                #print(loss)\n",
    "\n",
    "            # compute total loss and validation loss\n",
    "            validation_loss.append(np.array(photulator.compute_loss(training_theta[~training_selection], train_mag[~training_selection]).numpy()))\n",
    "\n",
    "            # early stopping condition\n",
    "            # if validation loss keeps going down, reset stopping counter\n",
    "            if validation_loss[-1] < best_loss:\n",
    "                best_loss = validation_loss[-1]\n",
    "                early_stopping_counter = 0\n",
    "            #else, if validation loss goes back up again, increment counter\n",
    "            else:\n",
    "                early_stopping_counter += 1\n",
    "\n",
    "            #when counter reaches patience, save model(the larger patience, the more epochs in a row the validation loss needs to be same or increasing)\n",
    "            if early_stopping_counter >= patience:\n",
    "                photulator.update_emulator_parameters()\n",
    "                photulator.save('model_{}x{}'.format(n_layers, n_units) + filters[f])\n",
    "                if verbose is True:\n",
    "                    print('Validation loss = ' + str(best_loss))\n",
    "                running_val_loss.append(validation_loss)"
   ]
  },
  {
   "cell_type": "code",
   "execution_count": null,
   "metadata": {},
   "outputs": [
    {
     "data": {
      "image/png": "[encoded data removed]",
      "text/plain": [
       "<Figure size 640x480 with 1 Axes>"
      ]
     },
     "metadata": {},
     "output_type": "display_data"
    }
   ],
   "source": [
    "plt.plot(running_loss)\n",
    "plt.ylabel('loss (training)')\n",
    "plt.xlabel('batches')\n",
    "plt.yscale(\"log\")"
   ]
  },
  {
   "cell_type": "code",
   "execution_count": null,
   "metadata": {},
   "outputs": [
    {
     "data": {
      "image/png": "[encoded data removed]",
      "text/plain": [
       "<Figure size 640x480 with 1 Axes>"
      ]
     },
     "metadata": {},
     "output_type": "display_data"
    }
   ],
   "source": [
    "plt.plot(np.hstack(running_val_loss))\n",
    "plt.ylabel('loss (validation)')\n",
    "plt.xlabel('epoch')\n",
    "plt.yscale(\"log\")"
   ]
  }
 ],
 "metadata": {
  "kernelspec": {
   "display_name": "tensorflow",
   "language": "python",
   "name": "tf_env"
  },
  "language_info": {
   "codemirror_mode": {
    "name": "ipython",
    "version": 3
   },
   "file_extension": ".py",
   "mimetype": "text/x-python",
   "name": "python",
   "nbconvert_exporter": "python",
   "pygments_lexer": "ipython3",
   "version": "3.11.0"
  },
  "orig_nbformat": 4
 },
 "nbformat": 4,
 "nbformat_minor": 2
}
