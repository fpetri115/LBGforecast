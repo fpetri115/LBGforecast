{
 "cells": [
  {
   "cell_type": "code",
   "execution_count": 1,
   "metadata": {},
   "outputs": [],
   "source": [
    "import numpy as np\n",
    "import matplotlib.pyplot as plt\n",
    "from prospect.models import priors_beta as pb\n",
    "from prospect.models import transforms as ts\n",
    "import lbg_forecast.population_model as pop\n",
    "import lbg_forecast.sfh as sfh\n",
    "import lbg_forecast.cosmology as cosmo"
   ]
  },
  {
   "cell_type": "markdown",
   "metadata": {},
   "source": [
    "SEE LINES 1665 TO 1670 IN https://github.com/bd-j/prospector/blob/main/prospect/models/priors_beta.py#L367\n",
    "\n",
    "THIS LOOKS LIKE HOW THEY CALCULATE THE SFR BEFORE CONVERTING IT INTO RATIOS!!\n",
    "SO COULD USE THIS TO REPRODUCE FIGURES IN PAPER???\n",
    "\n",
    "    nsfrbins = agebins_shifted.shape[0]\n",
    "    sfr_shifted = np.zeros(nsfrbins)\n",
    "    for i in range(nsfrbins):\n",
    "        a = agebins_shifted[i,0]\n",
    "        b = agebins_shifted[i,1]\n",
    "        sfr_shifted[i] = spl_tl_sfrd.integral(a=a, b=b)/(b-a)\n"
   ]
  },
  {
   "cell_type": "code",
   "execution_count": 239,
   "metadata": {},
   "outputs": [
    {
     "data": {
      "text/plain": [
       "[<matplotlib.lines.Line2D at 0x316a54750>]"
      ]
     },
     "execution_count": 239,
     "metadata": {},
     "output_type": "execute_result"
    },
    {
     "data": {
      "image/png": "[encoded data removed]",
      "text/plain": [
       "<Figure size 640x480 with 1 Axes>"
      ]
     },
     "metadata": {},
     "output_type": "display_data"
    }
   ],
   "source": [
    "z = 1\n",
    "m = 11.5\n",
    "nu = 2.0\n",
    "sigma = 0.3\n",
    "nsamples = 1000\n",
    "tuniv = cosmo.get_wmap9().age(z).value\n",
    "\n",
    "#exp_logsfr_ratios = pb.expe_logsfr_ratios(z, m, -5, 5)\n",
    "#\n",
    "#nsfrs = len(exp_logsfr_ratios)\n",
    "#all_log_sfr_ratios = []\n",
    "\n",
    "#for sfrs in range(nsfrs):\n",
    "#    all_log_sfr_ratios.append(pop.sample_truncated_t(nsamples, nu, exp_logsfr_ratios[sfrs], sigma))\n",
    "\n",
    "#all_log_sfr_ratios = np.hstack(all_log_sfr_ratios)\n",
    "#all_log_sfr_ratios = pb.DymSFH(zred_mini=z-1e-3, zred_maxi=z+1e-3, mass_mini=m-1e-3, mass_maxi=m+1e-3,\n",
    "#                    z_mini=-1, z_maxi=0,\n",
    "#                    logsfr_ratio_mini=-5.0, logsfr_ratio_maxi=5.0,\n",
    "#                    logsfr_ratio_tscale=0.3, nbins_sfh=7,\n",
    "#                    const_phi=True).sample()[3:]\n",
    "\n",
    "#print(all_log_sfr_ratios)\n",
    "\n",
    "nbins=24\n",
    "ages = np.logspace(np.log10(1e6), np.log10(cosmo.get_wmap9().age(0).value*1e9), nbins+1)\n",
    "age_bins = np.log10(np.array([ages[:-1], ages[1:]]).T)\n",
    "#age_bins\n",
    "#age_bins = sfh.default_agebins()\n",
    "new_age_bins = np.log10(pb.z_to_agebins_rescale(z, nbins))#sfh.zred_to_agebins_pbeta(z, age_bins)\n",
    "\n",
    "ssfrs = np.zeros(nbins, dtype='float64')\n",
    "for indx in range(nsamples):\n",
    "\n",
    "    all_log_sfr_ratios = pb.NzSFH(zred_mini=z-1e-3, zred_maxi=z+1e-3, mass_mini=m-1e-3, mass_maxi=m+1e-3,\n",
    "                    z_mini=-0.01, z_maxi=0,\n",
    "                    logsfr_ratio_mini=-5.0, logsfr_ratio_maxi=5.0,\n",
    "                    logsfr_ratio_tscale=0.3, nbins_sfh=nbins,\n",
    "                    const_phi=False).sample()[3:]\n",
    "\n",
    "    sfrs = ts.logsfr_ratios_to_sfrs(m, all_log_sfr_ratios, new_age_bins)\n",
    "    #masses = sfh.logsfr_ratios_to_masses(m, all_log_sfr_ratios, new_age_bins)\n",
    "    #tabulatedsfh = sfh.convert_sfh(new_age_bins, masses, epsilon=1e-4)\n",
    "    #times = tuniv-tabulatedsfh[0]\n",
    "    ssfrs+=sfrs#/(10**m)\n",
    "    #plt.plot((10**new_age_bins[:, 1]/10**9)/tuniv, sfrs, color=\"purple\", alpha=0.1)\n",
    "\n",
    "plt.plot((10**new_age_bins[:, 1]/10**9)/tuniv, ssfrs/nsamples, color=\"black\", alpha=1)\n",
    "#plt.yscale(\"log\")\n",
    "#plt.xscale(\"log\")\n",
    "#plt.xlim(7e-3, 10)\n"
   ]
  },
  {
   "cell_type": "code",
   "execution_count": 218,
   "metadata": {},
   "outputs": [
    {
     "data": {
      "text/plain": [
       "(23,)"
      ]
     },
     "execution_count": 218,
     "metadata": {},
     "output_type": "execute_result"
    }
   ],
   "source": [
    "pb.DymSFH(zred_mini=z-1e-3, zred_maxi=z+1e-3, mass_mini=m-1e-3, mass_maxi=m+1e-3,\n",
    "                    z_mini=-0.01, z_maxi=0,\n",
    "                    logsfr_ratio_mini=-5.0, logsfr_ratio_maxi=5.0,\n",
    "                    logsfr_ratio_tscale=0.3, nbins_sfh=nbins,\n",
    "                    const_phi=False).sample()[3:].shape"
   ]
  },
  {
   "cell_type": "code",
   "execution_count": 222,
   "metadata": {},
   "outputs": [
    {
     "data": {
      "text/plain": [
       "array([[1.00000000e+00, 2.99999133e+07],\n",
       "       [2.99999133e+07, 1.00000000e+08],\n",
       "       [1.00000000e+08, 1.20844010e+08],\n",
       "       [1.20844010e+08, 1.46032747e+08],\n",
       "       [1.46032747e+08, 1.76471826e+08],\n",
       "       [1.76471826e+08, 2.13255631e+08],\n",
       "       [2.13255631e+08, 2.57706655e+08],\n",
       "       [2.57706655e+08, 3.11423055e+08],\n",
       "       [3.11423055e+08, 3.76336107e+08],\n",
       "       [3.76336107e+08, 4.54779641e+08],\n",
       "       [4.54779641e+08, 5.49573954e+08],\n",
       "       [5.49573954e+08, 6.64127202e+08],\n",
       "       [6.64127202e+08, 8.02557940e+08],\n",
       "       [8.02557940e+08, 9.69843194e+08],\n",
       "       [9.69843194e+08, 1.17199740e+09],\n",
       "       [1.17199740e+09, 1.41628865e+09],\n",
       "       [1.41628865e+09, 1.71150000e+09],\n",
       "       [1.71150000e+09, 2.06824522e+09],\n",
       "       [2.06824522e+09, 2.49935046e+09],\n",
       "       [2.49935046e+09, 3.02031531e+09],\n",
       "       [3.02031531e+09, 3.64987012e+09],\n",
       "       [3.64987012e+09, 4.41064940e+09],\n",
       "       [4.41064940e+09, 5.33000559e+09],\n",
       "       [5.33000559e+09, 5.92222843e+09]])"
      ]
     },
     "execution_count": 222,
     "metadata": {},
     "output_type": "execute_result"
    }
   ],
   "source": [
    "10**new_age_bins"
   ]
  },
  {
   "cell_type": "code",
   "execution_count": 233,
   "metadata": {},
   "outputs": [
    {
     "data": {
      "text/plain": [
       "array([[7.84667069e+09, 7.87667069e+09],\n",
       "       [7.87667069e+09, 7.97667069e+09],\n",
       "       [7.97667069e+09, 8.16231007e+09],\n",
       "       [8.16231007e+09, 8.35226980e+09],\n",
       "       [8.35226980e+09, 8.54665042e+09],\n",
       "       [8.54665042e+09, 8.74555482e+09],\n",
       "       [8.74555482e+09, 8.94908828e+09],\n",
       "       [8.94908828e+09, 9.15735853e+09],\n",
       "       [9.15735853e+09, 9.37047581e+09],\n",
       "       [9.37047581e+09, 9.58855292e+09],\n",
       "       [9.58855292e+09, 9.81170530e+09],\n",
       "       [9.81170530e+09, 1.00400511e+10],\n",
       "       [1.00400511e+10, 1.02737111e+10],\n",
       "       [1.02737111e+10, 1.05128090e+10],\n",
       "       [1.05128090e+10, 1.07574714e+10],\n",
       "       [1.07574714e+10, 1.10078277e+10],\n",
       "       [1.10078277e+10, 1.12640106e+10],\n",
       "       [1.12640106e+10, 1.15261556e+10],\n",
       "       [1.15261556e+10, 1.17944014e+10],\n",
       "       [1.17944014e+10, 1.20688900e+10],\n",
       "       [1.20688900e+10, 1.23497667e+10],\n",
       "       [1.23497667e+10, 1.26371802e+10],\n",
       "       [1.26371802e+10, 1.29312827e+10],\n",
       "       [1.29312827e+10, 1.34962396e+10]])"
      ]
     },
     "execution_count": 233,
     "metadata": {},
     "output_type": "execute_result"
    }
   ],
   "source": [
    "pb.z_to_agebins_rescale(1, nbins)"
   ]
  }
 ],
 "metadata": {
  "kernelspec": {
   "display_name": "tfdt_env",
   "language": "python",
   "name": "python3"
  },
  "language_info": {
   "codemirror_mode": {
    "name": "ipython",
    "version": 3
   },
   "file_extension": ".py",
   "mimetype": "text/x-python",
   "name": "python",
   "nbconvert_exporter": "python",
   "pygments_lexer": "ipython3",
   "version": "3.11.9"
  }
 },
 "nbformat": 4,
 "nbformat_minor": 2
}
