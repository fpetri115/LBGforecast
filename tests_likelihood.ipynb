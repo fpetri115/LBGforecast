{
 "cells": [
  {
   "cell_type": "code",
   "execution_count": 1,
   "id": "88ed40f7-3c42-408b-a599-f93d4498b908",
   "metadata": {},
   "outputs": [],
   "source": [
    "from likelihood import Likelihood\n",
    "from likelihood import pack_params\n",
    "from likelihood import unpack_params\n",
    "from likelihood import get_cosmo_params\n",
    "from likelihood import cosmo_params_to_obj\n",
    "\n",
    "from angular_power import define_cosmo\n",
    "\n",
    "import numpy as np"
   ]
  },
  {
   "cell_type": "code",
   "execution_count": 2,
   "id": "c0d78f2b-2aca-443d-b583-cb927de569d8",
   "metadata": {},
   "outputs": [
    {
     "name": "stdout",
     "output_type": "stream",
     "text": [
      "Initialising likelihood\n",
      "Initialisation Complete\n"
     ]
    }
   ],
   "source": [
    "lhood = Likelihood()"
   ]
  },
  {
   "cell_type": "code",
   "execution_count": 3,
   "id": "46882da5-112e-450f-b374-bac6e62c1f10",
   "metadata": {},
   "outputs": [],
   "source": [
    "cosmo_params = get_cosmo_params(define_cosmo())\n",
    "blbg = np.array([2.])\n",
    "bint = np.array([1.])"
   ]
  },
  {
   "cell_type": "code",
   "execution_count": 4,
   "id": "16dbc9f3-c909-4f3d-ae90-536c707601bc",
   "metadata": {},
   "outputs": [
    {
     "data": {
      "text/plain": [
       "Array([ 0.8159,  0.2589,  0.0486,  0.6774,  0.9667, -1.    ,  2.    ,\n",
       "        1.    ], dtype=float64)"
      ]
     },
     "execution_count": 4,
     "metadata": {},
     "output_type": "execute_result"
    }
   ],
   "source": [
    "all_param = pack_params(cosmo_params, blbg, bint)\n",
    "all_param"
   ]
  },
  {
   "cell_type": "code",
   "execution_count": 5,
   "id": "72bdf232-d75d-47ce-adf0-5bce7aa5c0c2",
   "metadata": {},
   "outputs": [
    {
     "data": {
      "text/plain": [
       "(Array([ 0.8159,  0.2589,  0.0486,  0.6774,  0.9667, -1.    ], dtype=float64),\n",
       " Array(2., dtype=float64),\n",
       " Array(1., dtype=float64))"
      ]
     },
     "execution_count": 5,
     "metadata": {},
     "output_type": "execute_result"
    }
   ],
   "source": [
    "unpack_params(all_param)"
   ]
  },
  {
   "cell_type": "code",
   "execution_count": 6,
   "id": "85e09af7-9bb3-4756-9c5d-e8fef2d75d5a",
   "metadata": {},
   "outputs": [
    {
     "data": {
      "text/plain": [
       "Array(-2368.92019942, dtype=float64)"
      ]
     },
     "execution_count": 6,
     "metadata": {},
     "output_type": "execute_result"
    }
   ],
   "source": [
    "lhood.logL(all_param)"
   ]
  },
  {
   "cell_type": "code",
   "execution_count": 7,
   "id": "4ac7188f-5a43-4da5-ac64-bef1e8acd09e",
   "metadata": {},
   "outputs": [
    {
     "data": {
      "text/plain": [
       "Array(-2360.69758583, dtype=float64)"
      ]
     },
     "execution_count": 7,
     "metadata": {},
     "output_type": "execute_result"
    }
   ],
   "source": [
    "lhood.logLgauss(all_param)"
   ]
  },
  {
   "cell_type": "code",
   "execution_count": null,
   "id": "ccb439cc-1b0b-4637-aa84-58e12f3a1045",
   "metadata": {},
   "outputs": [],
   "source": []
  }
 ],
 "metadata": {
  "kernelspec": {
   "display_name": "test_env",
   "language": "python",
   "name": "test_env"
  },
  "language_info": {
   "codemirror_mode": {
    "name": "ipython",
    "version": 3
   },
   "file_extension": ".py",
   "mimetype": "text/x-python",
   "name": "python",
   "nbconvert_exporter": "python",
   "pygments_lexer": "ipython3",
   "version": "3.11.2"
  },
  "vscode": {
   "interpreter": {
    "hash": "aee8b7b246df8f9039afb4144a1f6fd8d2ca17a180786b69acc140d282b71a49"
   }
  }
 },
 "nbformat": 4,
 "nbformat_minor": 5
}
