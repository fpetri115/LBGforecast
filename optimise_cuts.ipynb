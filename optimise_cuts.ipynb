{
 "cells": [
  {
   "cell_type": "code",
   "execution_count": 1,
   "metadata": {},
   "outputs": [
    {
     "name": "stderr",
     "output_type": "stream",
     "text": [
      "WARNING:root:TensorFlow Decision Forests 1.8.0 is compatible with the following TensorFlow Versions: ['2.15.0']. However, TensorFlow 2.15.1 was detected. This can cause issues with the TF API and symbols in the custom C++ ops. See the TF and TF-DF compatibility table at https://github.com/tensorflow/decision-forests/blob/main/documentation/known_issues.md#compatibility-table.\n"
     ]
    }
   ],
   "source": [
    "import numpy as np\n",
    "import matplotlib.pyplot as plt\n",
    "import pandas as pd\n",
    "import tensorflow as tf\n",
    "import keras\n",
    "import tensorflow_decision_forests as tfdf\n",
    "\n",
    "import lbg_forecast.noise as noise\n",
    "import lbg_forecast.colour_cuts as cuts\n",
    "\n",
    "import optimise_stellar as stellar\n",
    "\n",
    "from sklearn.model_selection import train_test_split\n"
   ]
  },
  {
   "cell_type": "code",
   "execution_count": 2,
   "metadata": {},
   "outputs": [],
   "source": [
    "def build_redshift_distribution_samples_object(u_data, g_data, r_data):\n",
    "\n",
    "    u_redshifts = cuts.get_zs(u_data)\n",
    "    g_redshifts = cuts.get_zs(g_data)\n",
    "    r_redshifts = cuts.get_zs(r_data)\n",
    "\n",
    "    redshift_array = np.empty(3, object)\n",
    "    redshift_array[:] = [u_redshifts, g_redshifts, r_redshifts]     \n",
    "\n",
    "    return redshift_array\n",
    "\n",
    "def generate_training_data_labels(redshifts, zmin, zmax):\n",
    "    '''\n",
    "    dropout between zmin=zmax -> label=1; else=0\n",
    "    '''\n",
    "\n",
    "    labels = np.zeros_like(redshifts)\n",
    "    u_indexes = np.where((redshifts > zmin) & (redshifts < zmax) )[0]#& (data[:, 0] - data[:, 1] > 0.0))[0]\n",
    "    labels[u_indexes] = 1\n",
    "\n",
    "    return labels\n",
    "\n",
    "def create_test_validation_data(data, labels, validation_split, batch_size):\n",
    "    \"\"\"turns output of prepare data into tensorflow dataset, given test/training\n",
    "    split and batch size\n",
    "    \"\"\"\n",
    "    dataset = tf.data.Dataset.from_tensor_slices((data, labels))\n",
    "    validation_split = validation_split\n",
    "    train_size = int(validation_split * data.shape[0])\n",
    "    test_size = data.shape[0] - train_size\n",
    "\n",
    "    train_dataset = dataset.take(train_size)\n",
    "    test_dataset = dataset.skip(train_size)\n",
    "\n",
    "    train_dataset = train_dataset.batch(batch_size=batch_size)\n",
    "    test_dataset = test_dataset.batch(batch_size=batch_size)\n",
    "\n",
    "    return train_dataset, test_dataset, train_size, test_size\n",
    "\n",
    "def make_prediction(model, dataset):\n",
    "    \"\"\"return predicted labels (between 0 and 1) for\n",
    "    a given tensorflow dataset\n",
    "    \"\"\"\n",
    "    labels = model.predict(dataset)\n",
    "    return labels[:, 0]\n",
    "\n",
    "def make_prediction_at_confidence(model, dataset, confidence_level):\n",
    "    \"\"\"return predicted labels (0 or 1) for\n",
    "    a given tensorflow dataset, for given a confidence level\n",
    "    \"\"\"\n",
    "    labels = make_prediction(model, dataset)\n",
    "    predicted_labels_at_confidence = np.where(labels > confidence_level, 1.0, 0.0)\n",
    "    return predicted_labels_at_confidence\n",
    "\n",
    "def get_optimised_nz(model, dataset, redshifts, confidence_level):\n",
    "    predicted_labels = make_prediction_at_confidence(model, dataset, confidence_level)\n",
    "    selected = redshifts[np.where(predicted_labels == 1.0)[0]]\n",
    "    return selected\n",
    "\n",
    "def get_binned_nz(redshifts, zl, zh):\n",
    "    binned = redshifts[np.where((redshifts > zl) & (redshifts < zh) )[0]]\n",
    "    return binned\n",
    "\n",
    "def get_interlopers(redshifts):\n",
    "    interlopers = redshifts[np.where(redshifts < 1.5)[0]]\n",
    "    return interlopers\n",
    "\n",
    "def get_interloper_fraction(redshifts):\n",
    "    n_interlopers = get_interlopers(redshifts).shape[0]\n",
    "    return (n_interlopers/redshifts.shape[0])*100\n",
    "\n",
    "def confusion_matrix(original_labels, predicted_labels):\n",
    "    cmatrix = tf.math.confusion_matrix(original_labels, predicted_labels)\n",
    "    print(cmatrix)\n",
    "    # TN FP\n",
    "    # FN TP\n",
    "    return cmatrix\n",
    "\n",
    "def evaluate_model_performance(model, dataset, redshifts, original_labels, confidence_level, zl, zh):\n",
    "\n",
    "    cmatrix = confusion_matrix(original_labels, make_prediction_at_confidence(model, dataset, confidence_level))\n",
    "    selected_objects = get_optimised_nz(model, dataset, redshifts, confidence_level)\n",
    "    original_objects = get_binned_nz(redshifts, zl, zh)\n",
    "    ninterlopers =  get_interlopers(selected_objects).shape[0]\n",
    "\n",
    "    print(\"efficency(%): \", float(((cmatrix[1, 1])/original_objects.shape[0])*100))\n",
    "    print(\"purity(%): \", float((cmatrix[1, 1]/(cmatrix[0,1]+cmatrix[1, 1]))*100)) #of all positives - which are truly lbgs?\n",
    "    print(\"interloper fraction(%): \", (ninterlopers/selected_objects.shape[0])*100) "
   ]
  },
  {
   "cell_type": "code",
   "execution_count": 3,
   "metadata": {},
   "outputs": [
    {
     "name": "stdout",
     "output_type": "stream",
     "text": [
      "(500000, 17) (500000, 5) (500000, 4) mean redshift: 2.781913945007484\n"
     ]
    },
    {
     "data": {
      "image/png": "[encoded data removed]",
      "text/plain": [
       "<Figure size 640x480 with 1 Axes>"
      ]
     },
     "metadata": {},
     "output_type": "display_data"
    }
   ],
   "source": [
    "size=500000\n",
    "train_sps = np.load('optimise_training_data/sps_hpc_pop_4m_mean_opt.npy')[0][:size, :]\n",
    "train_phot = np.load('optimise_training_data/photo_hpc_pop_4m_mean_opt.npy')[0][:size, :] \n",
    "\n",
    "train_colours = cuts.calculate_colours(train_phot)\n",
    "train_redshift = train_sps[:, 0]\n",
    "print(train_sps.shape, train_phot.shape, train_colours.shape, 'mean redshift:' ,np.mean(train_redshift))\n",
    "red_prior = plt.hist(train_redshift)"
   ]
  },
  {
   "cell_type": "code",
   "execution_count": 4,
   "metadata": {},
   "outputs": [
    {
     "name": "stdout",
     "output_type": "stream",
     "text": [
      "(113027, 4)\n"
     ]
    }
   ],
   "source": [
    "all_dropouts_mags = noise.get_noisy_magnitudes(train_sps, train_phot)\n",
    "all_dropouts_colours = cuts.colours(all_dropouts_mags)\n",
    "\n",
    "u_colours = all_dropouts_colours[0][1]\n",
    "g_colours = all_dropouts_colours[1][1]\n",
    "r_colours = all_dropouts_colours[2][1]\n",
    "\n",
    "u_redshift = all_dropouts_colours[0][0][:, 0]\n",
    "g_redshift = all_dropouts_colours[1][0][:, 0]\n",
    "r_redshift = all_dropouts_colours[2][0][:, 0]\n",
    "\n",
    "train_colours_noise = u_colours\n",
    "train_redshift = u_redshift\n",
    "\n",
    "print(train_colours_noise.shape)\n",
    "\n",
    "u_labels = generate_training_data_labels(u_redshift, 2.5, 3.5)\n",
    "g_labels = generate_training_data_labels(g_redshift, 3.5, 4.5)\n",
    "r_labels = generate_training_data_labels(r_redshift, 4.5, 5.5)"
   ]
  },
  {
   "cell_type": "code",
   "execution_count": 5,
   "metadata": {},
   "outputs": [],
   "source": [
    "def create_dataset(train_colours, labels, redshift):\n",
    "\n",
    "    dataframe = pd.DataFrame({'umg':train_colours[:, 0],\n",
    "             'gmr':train_colours[:, 1],\n",
    "             'rmi':train_colours[:, 2],\n",
    "             'imz':train_colours[:, 3],\n",
    "             'labels':labels,\n",
    "             'weights':np.ones_like(labels),\n",
    "             'redshifts':redshift})\n",
    "\n",
    "    dataframe['weights'] = dataframe['labels'].apply(lambda x: 1.0 if x == 1 else 1.0)\n",
    "    train_df, test_df = train_test_split(dataframe, test_size=0.2, random_state=42)\n",
    "\n",
    "    train_red = train_df['redshifts'].to_numpy()\n",
    "    test_red = test_df['redshifts'].to_numpy()\n",
    "\n",
    "    train_df = train_df.drop(columns=['redshifts'])\n",
    "    test_df = test_df.drop(columns=['redshifts'])\n",
    "\n",
    "    train_dataset = tfdf.keras.pd_dataframe_to_tf_dataset(train_df, label=\"labels\", weight=\"weights\")\n",
    "    test_dataset = tfdf.keras.pd_dataframe_to_tf_dataset(test_df, label=\"labels\", weight=\"weights\")\n",
    "\n",
    "    return train_dataset, test_dataset, train_red, test_red, test_df['labels'].to_numpy()\n",
    "\n",
    "def train_model(train_colours, labels, redshift):\n",
    "\n",
    "    train_dataset, test_dataset, train_red, test_red, test_labels = create_dataset(train_colours, labels, redshift)\n",
    "\n",
    "    model = tfdf.keras.RandomForestModel(max_depth=256, verbose=2, task=tfdf.keras.Task.CLASSIFICATION, num_trees=5000)\n",
    "    model.fit(train_dataset)\n",
    "\n",
    "    model.compile(metrics=[\"accuracy\"])\n",
    "    evaluation = model.evaluate(test_dataset, return_dict=True)\n",
    "\n",
    "    for name, value in evaluation.items():\n",
    "        print(f\"{name}: {value:.4f}\")\n",
    "\n",
    "    return model, train_dataset, test_dataset, train_red, test_red, test_labels\n",
    "    \n",
    "\n",
    "def test_model(model, test_dataset, test_red, test_labels, confidence, zl, zh):\n",
    "\n",
    "    z_bins = np.linspace(0.0, 7.0, 50)\n",
    "    original_objects = get_binned_nz(test_red, zl, zh)\n",
    "    selected_objects = get_optimised_nz(model, test_dataset, test_red, confidence)\n",
    "    #plt.hist(original_objects, density=True, label=\"True LBGs\", bins=z_bins, alpha=0.5)\n",
    "    #plt.hist(selected_objects, density=True, label=\"Selected LBGs\", bins=z_bins, alpha=0.5)\n",
    "    #plt.legend()\n",
    "    #evaluate_model_performance(model, test_dataset, test_red, test_labels, confidence, zl, zh)\n",
    "\n",
    "    return original_objects, selected_objects, z_bins\n"
   ]
  },
  {
   "cell_type": "code",
   "execution_count": 6,
   "metadata": {},
   "outputs": [
    {
     "name": "stdout",
     "output_type": "stream",
     "text": [
      "Use 10 thread(s) for training\n",
      "Use /var/folders/s9/j1tshp4s5019kbkk8hz2q9840000gn/T/tmpoeqycsad as temporary training directory\n",
      "Reading training dataset...\n",
      "Training tensor examples:\n",
      "Features: {'umg': <tf.Tensor 'data:0' shape=(None,) dtype=float64>, 'gmr': <tf.Tensor 'data_1:0' shape=(None,) dtype=float64>, 'rmi': <tf.Tensor 'data_2:0' shape=(None,) dtype=float64>, 'imz': <tf.Tensor 'data_3:0' shape=(None,) dtype=float64>}\n",
      "Label: Tensor(\"data_4:0\", shape=(None,), dtype=float64)\n",
      "Weights: Tensor(\"data_5:0\", shape=(None,), dtype=float64)\n",
      "Normalized tensor features:\n",
      " {'umg': SemanticTensor(semantic=<Semantic.NUMERICAL: 1>, tensor=<tf.Tensor 'Cast:0' shape=(None,) dtype=float32>), 'gmr': SemanticTensor(semantic=<Semantic.NUMERICAL: 1>, tensor=<tf.Tensor 'Cast_1:0' shape=(None,) dtype=float32>), 'rmi': SemanticTensor(semantic=<Semantic.NUMERICAL: 1>, tensor=<tf.Tensor 'Cast_2:0' shape=(None,) dtype=float32>), 'imz': SemanticTensor(semantic=<Semantic.NUMERICAL: 1>, tensor=<tf.Tensor 'Cast_3:0' shape=(None,) dtype=float32>)}\n",
      "Training dataset read in 0:00:01.463703. Found 90421 examples.\n",
      "Training model...\n",
      "Standard output detected as not visible to the user e.g. running in a notebook. Creating a training log redirection. If training gets stuck, try calling tfdf.keras.set_training_logs_redirection(False).\n",
      "Model trained in 0:01:52.719790\n",
      "Compiling model...\n",
      "Model compiled.\n",
      "WARNING:tensorflow:`evaluate()` received a value for `sample_weight`, but `weighted_metrics` were not provided.  Did you mean to pass metrics to `weighted_metrics` in `compile()`?  If this is intentional you can pass `weighted_metrics=[]` to `compile()` in order to silence this warning.\n"
     ]
    },
    {
     "name": "stderr",
     "output_type": "stream",
     "text": [
      "WARNING:tensorflow:`evaluate()` received a value for `sample_weight`, but `weighted_metrics` were not provided.  Did you mean to pass metrics to `weighted_metrics` in `compile()`?  If this is intentional you can pass `weighted_metrics=[]` to `compile()` in order to silence this warning.\n"
     ]
    },
    {
     "name": "stdout",
     "output_type": "stream",
     "text": [
      "23/23 [==============================] - 13s 558ms/step - loss: 0.0000e+00 - accuracy: 0.9585\n",
      "loss: 0.0000\n",
      "accuracy: 0.9585\n",
      "Use 10 thread(s) for training\n",
      "Use /var/folders/s9/j1tshp4s5019kbkk8hz2q9840000gn/T/tmpry0xwkzb as temporary training directory\n",
      "Reading training dataset...\n",
      "Training tensor examples:\n",
      "Features: {'umg': <tf.Tensor 'data:0' shape=(None,) dtype=float64>, 'gmr': <tf.Tensor 'data_1:0' shape=(None,) dtype=float64>, 'rmi': <tf.Tensor 'data_2:0' shape=(None,) dtype=float64>, 'imz': <tf.Tensor 'data_3:0' shape=(None,) dtype=float64>}\n",
      "Label: Tensor(\"data_4:0\", shape=(None,), dtype=float64)\n",
      "Weights: Tensor(\"data_5:0\", shape=(None,), dtype=float64)\n",
      "Normalized tensor features:\n",
      " {'umg': SemanticTensor(semantic=<Semantic.NUMERICAL: 1>, tensor=<tf.Tensor 'Cast:0' shape=(None,) dtype=float32>), 'gmr': SemanticTensor(semantic=<Semantic.NUMERICAL: 1>, tensor=<tf.Tensor 'Cast_1:0' shape=(None,) dtype=float32>), 'rmi': SemanticTensor(semantic=<Semantic.NUMERICAL: 1>, tensor=<tf.Tensor 'Cast_2:0' shape=(None,) dtype=float32>), 'imz': SemanticTensor(semantic=<Semantic.NUMERICAL: 1>, tensor=<tf.Tensor 'Cast_3:0' shape=(None,) dtype=float32>)}\n",
      "Training dataset read in 0:00:00.349010. Found 170933 examples.\n",
      "Training model...\n",
      "Model trained in 0:04:13.915710\n",
      "Compiling model...\n",
      "Model compiled.\n",
      "WARNING:tensorflow:`evaluate()` received a value for `sample_weight`, but `weighted_metrics` were not provided.  Did you mean to pass metrics to `weighted_metrics` in `compile()`?  If this is intentional you can pass `weighted_metrics=[]` to `compile()` in order to silence this warning.\n"
     ]
    },
    {
     "name": "stderr",
     "output_type": "stream",
     "text": [
      "WARNING:tensorflow:`evaluate()` received a value for `sample_weight`, but `weighted_metrics` were not provided.  Did you mean to pass metrics to `weighted_metrics` in `compile()`?  If this is intentional you can pass `weighted_metrics=[]` to `compile()` in order to silence this warning.\n"
     ]
    },
    {
     "name": "stdout",
     "output_type": "stream",
     "text": [
      "43/43 [==============================] - 40s 918ms/step - loss: 0.0000e+00 - accuracy: 0.9550\n",
      "loss: 0.0000\n",
      "accuracy: 0.9550\n",
      "Use 10 thread(s) for training\n",
      "Use /var/folders/s9/j1tshp4s5019kbkk8hz2q9840000gn/T/tmpxt1ejo8f as temporary training directory\n",
      "Reading training dataset...\n",
      "Training tensor examples:\n",
      "Features: {'umg': <tf.Tensor 'data:0' shape=(None,) dtype=float64>, 'gmr': <tf.Tensor 'data_1:0' shape=(None,) dtype=float64>, 'rmi': <tf.Tensor 'data_2:0' shape=(None,) dtype=float64>, 'imz': <tf.Tensor 'data_3:0' shape=(None,) dtype=float64>}\n",
      "Label: Tensor(\"data_4:0\", shape=(None,), dtype=float64)\n",
      "Weights: Tensor(\"data_5:0\", shape=(None,), dtype=float64)\n",
      "Normalized tensor features:\n",
      " {'umg': SemanticTensor(semantic=<Semantic.NUMERICAL: 1>, tensor=<tf.Tensor 'Cast:0' shape=(None,) dtype=float32>), 'gmr': SemanticTensor(semantic=<Semantic.NUMERICAL: 1>, tensor=<tf.Tensor 'Cast_1:0' shape=(None,) dtype=float32>), 'rmi': SemanticTensor(semantic=<Semantic.NUMERICAL: 1>, tensor=<tf.Tensor 'Cast_2:0' shape=(None,) dtype=float32>), 'imz': SemanticTensor(semantic=<Semantic.NUMERICAL: 1>, tensor=<tf.Tensor 'Cast_3:0' shape=(None,) dtype=float32>)}\n",
      "Training dataset read in 0:00:00.307102. Found 146130 examples.\n",
      "Training model...\n",
      "Model trained in 0:01:24.448153\n",
      "Compiling model...\n",
      "Model compiled.\n",
      "WARNING:tensorflow:`evaluate()` received a value for `sample_weight`, but `weighted_metrics` were not provided.  Did you mean to pass metrics to `weighted_metrics` in `compile()`?  If this is intentional you can pass `weighted_metrics=[]` to `compile()` in order to silence this warning.\n"
     ]
    },
    {
     "name": "stderr",
     "output_type": "stream",
     "text": [
      "WARNING:tensorflow:`evaluate()` received a value for `sample_weight`, but `weighted_metrics` were not provided.  Did you mean to pass metrics to `weighted_metrics` in `compile()`?  If this is intentional you can pass `weighted_metrics=[]` to `compile()` in order to silence this warning.\n"
     ]
    },
    {
     "name": "stdout",
     "output_type": "stream",
     "text": [
      "37/37 [==============================] - 10s 260ms/step - loss: 0.0000e+00 - accuracy: 0.9839\n",
      "loss: 0.0000\n",
      "accuracy: 0.9839\n"
     ]
    }
   ],
   "source": [
    "model_u, train_dataset_u, test_dataset_u, train_red_u, test_red_u, test_labels_u = train_model(u_colours, u_labels, u_redshift)\n",
    "model_g, train_dataset_g, test_dataset_g, train_red_g, test_red_g, test_labels_g = train_model(g_colours, g_labels, g_redshift)\n",
    "model_r, train_dataset_r, test_dataset_r, train_red_r, test_red_r, test_labels_r = train_model(r_colours, r_labels, r_redshift)"
   ]
  },
  {
   "cell_type": "code",
   "execution_count": 7,
   "metadata": {},
   "outputs": [],
   "source": [
    "#apply noise, the perform SNR, brightness and faintness cuts\n",
    "all_dropouts_mags = noise.get_noisy_magnitudes(train_sps, train_phot)\n",
    "\n",
    "#convert magnitudes to colours\n",
    "all_dropouts_colours = cuts.colours(all_dropouts_mags)\n",
    "\n",
    "#apply LBG colour cuts\n",
    "u_data, g_data, r_data = cuts.apply_cuts_to_colours(all_dropouts_colours)\n",
    "\n",
    "#get selected redshift samples and combine into object array\n",
    "nzs = build_redshift_distribution_samples_object(u_data, g_data, r_data)"
   ]
  },
  {
   "cell_type": "code",
   "execution_count": 8,
   "metadata": {},
   "outputs": [
    {
     "name": "stdout",
     "output_type": "stream",
     "text": [
      "23/23 [==============================] - 14s 586ms/step\n",
      "43/43 [==============================] - 39s 909ms/step\n",
      "37/37 [==============================] - 9s 239ms/step\n"
     ]
    },
    {
     "name": "stderr",
     "output_type": "stream",
     "text": [
      "WARNING:matplotlib.legend:No artists with labels found to put in legend.  Note that artists whose label start with an underscore are ignored when legend() is called with no argument.\n"
     ]
    },
    {
     "name": "stdout",
     "output_type": "stream",
     "text": [
      "3.2907159716758456\n",
      "4.172145845786013 8.29089316028695 3.305337306962883\n",
      "4.925156929019797 5.6426332288401255 2.7139874739039667\n"
     ]
    },
    {
     "data": {
      "image/png": "[encoded data removed]",
      "text/plain": [
       "<Figure size 640x480 with 1 Axes>"
      ]
     },
     "metadata": {},
     "output_type": "display_data"
    }
   ],
   "source": [
    "confidence=0.6 \n",
    "\n",
    "original_objects_u, selected_objects_u, z_bins_u = test_model(model_u, test_dataset_u, test_red_u, test_labels_u, confidence=confidence, zl=2.5, zh=3.5)\n",
    "original_objects_g, selected_objects_g, z_bins_g = test_model(model_g, test_dataset_g, test_red_g, test_labels_g, confidence=confidence, zl=3.5, zh=4.5)\n",
    "original_objects_r, selected_objects_r, z_bins_r = test_model(model_r, test_dataset_r, test_red_r, test_labels_r, confidence=confidence, zl=4.5, zh=5.5)\n",
    "\n",
    "bins = np.linspace(0, 7, 50)\n",
    "alpha=0.5\n",
    "\n",
    "u_nz = plt.hist(nzs[0], bins=bins, alpha=alpha, density=True, histtype='step', ls='--', lw=3)\n",
    "g_nz = plt.hist(nzs[1], bins=bins, alpha=alpha, density=True, histtype='step', ls='--', lw=3)\n",
    "r_nz = plt.hist(nzs[2], bins=bins, alpha=alpha, density=True, histtype='step', ls='--', lw=3)\n",
    "\n",
    "u_nz = plt.hist(selected_objects_u, bins=bins, alpha=alpha, density=True, histtype='step', ls='-', lw=3)\n",
    "g_nz = plt.hist(selected_objects_g, bins=bins, alpha=alpha, density=True, histtype='step', ls='-', lw=3)\n",
    "r_nz = plt.hist(selected_objects_r, bins=bins, alpha=alpha, density=True, histtype='step', ls='-', lw=3)\n",
    "\n",
    "plt.legend()\n",
    "\n",
    "print(nzs[0].shape[0]/original_objects_u.shape[0])\n",
    "print(get_interloper_fraction(nzs[0]), get_interloper_fraction(nzs[1]), get_interloper_fraction(nzs[2]))\n",
    "print(get_interloper_fraction(selected_objects_u), get_interloper_fraction(selected_objects_g), get_interloper_fraction(selected_objects_r))"
   ]
  },
  {
   "cell_type": "code",
   "execution_count": 9,
   "metadata": {},
   "outputs": [],
   "source": [
    "#xsl_colours = stellar.get_xsl_LSST_colours()\n",
    "#xsl_labels = np.zeros(xsl_colours.shape[0])\n",
    "#stellar.plot_xsl_colour_diagram()"
   ]
  },
  {
   "cell_type": "code",
   "execution_count": 10,
   "metadata": {},
   "outputs": [],
   "source": [
    "#confidence = 0.7\n",
    "#train_dataset, test_dataset, train_size, test_size = create_test_validation_data(xsl_colours, xsl_labels, 1.0, 1000)\n",
    "\n",
    "\n",
    "#xsl_dataframe = pd.DataFrame({'umg':xsl_colours[:, 0],\n",
    "#             'gmr':xsl_colours[:, 1],\n",
    "#             'rmi':xsl_colours[:, 2],\n",
    "#             'imz':xsl_colours[:, 3],\n",
    "#             'labels':xsl_labels})\n",
    "\n",
    "#xsl_dataset = tfdf.keras.pd_dataframe_to_tf_dataset(xsl_dataframe, label=\"labels\")\n",
    "\n",
    "\n",
    "#classification = make_prediction_at_confidence(model, xsl_dataset, confidence)\n",
    "#print(\"Stars Wrongly Classified as Galaxies(%): \", ((np.where(classification > 0.0)[0]).shape[0]/xsl_labels.shape[0])*100)"
   ]
  }
 ],
 "metadata": {
  "kernelspec": {
   "display_name": "tfdt_env",
   "language": "python",
   "name": "python3"
  },
  "language_info": {
   "codemirror_mode": {
    "name": "ipython",
    "version": 3
   },
   "file_extension": ".py",
   "mimetype": "text/x-python",
   "name": "python",
   "nbconvert_exporter": "python",
   "pygments_lexer": "ipython3",
   "version": "3.11.9"
  }
 },
 "nbformat": 4,
 "nbformat_minor": 2
}
