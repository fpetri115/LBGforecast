{
 "cells": [
  {
   "cell_type": "code",
   "execution_count": 1,
   "id": "88ed40f7-3c42-408b-a599-f93d4498b908",
   "metadata": {},
   "outputs": [],
   "source": [
    "\n"
   ]
  }
 ],
 "metadata": {
  "kernelspec": {
   "display_name": "test_env",
   "language": "python",
   "name": "python3"
  },
  "language_info": {
   "codemirror_mode": {
    "name": "ipython",
    "version": 3
   },
   "file_extension": ".py",
   "mimetype": "text/x-python",
   "name": "python",
   "nbconvert_exporter": "python",
   "pygments_lexer": "ipython3",
   "version": "3.11.2"
  },
  "vscode": {
   "interpreter": {
    "hash": "9f786d24bde0690d602794da06f5808bb5a2a2ae7cbe875da61e4e56a3ca1e62"
   }
  }
 },
 "nbformat": 4,
 "nbformat_minor": 5
}
