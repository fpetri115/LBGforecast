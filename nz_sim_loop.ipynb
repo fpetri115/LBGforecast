{
 "cells": [
  {
   "cell_type": "code",
   "execution_count": 1,
   "metadata": {},
   "outputs": [],
   "source": [
    "import os\n",
    "os.environ[\"SPS_HOME\"] = \"/Users/fpetri/packages/fsps\" "
   ]
  },
  {
   "cell_type": "code",
   "execution_count": 2,
   "id": "740a3264",
   "metadata": {},
   "outputs": [
    {
     "name": "stderr",
     "output_type": "stream",
     "text": [
      "WARNING:absl:At this time, the v2.11+ optimizer `tf.keras.optimizers.Adam` runs slowly on M1/M2 Macs, please use the legacy Keras optimizer instead, located at `tf.keras.optimizers.legacy.Adam`.\n",
      "2023-12-08 14:18:38.820552: I metal_plugin/src/device/metal_device.cc:1154] Metal device set to: Apple M2 Pro\n",
      "2023-12-08 14:18:38.820571: I metal_plugin/src/device/metal_device.cc:296] systemMemory: 16.00 GB\n",
      "2023-12-08 14:18:38.820578: I metal_plugin/src/device/metal_device.cc:313] maxCacheSize: 5.33 GB\n",
      "2023-12-08 14:18:38.820605: I tensorflow/core/common_runtime/pluggable_device/pluggable_device_factory.cc:306] Could not identify NUMA node of platform GPU ID 0, defaulting to 0. Your kernel may not have been built with NUMA support.\n",
      "2023-12-08 14:18:38.820619: I tensorflow/core/common_runtime/pluggable_device/pluggable_device_factory.cc:272] Created TensorFlow device (/job:localhost/replica:0/task:0/device:GPU:0 with 0 MB memory) -> physical PluggableDevice (device: 0, name: METAL, pci bus id: <undefined>)\n",
      "WARNING:absl:At this time, the v2.11+ optimizer `tf.keras.optimizers.Adam` runs slowly on M1/M2 Macs, please use the legacy Keras optimizer instead, located at `tf.keras.optimizers.legacy.Adam`.\n",
      "WARNING:absl:At this time, the v2.11+ optimizer `tf.keras.optimizers.Adam` runs slowly on M1/M2 Macs, please use the legacy Keras optimizer instead, located at `tf.keras.optimizers.legacy.Adam`.\n",
      "WARNING:absl:At this time, the v2.11+ optimizer `tf.keras.optimizers.Adam` runs slowly on M1/M2 Macs, please use the legacy Keras optimizer instead, located at `tf.keras.optimizers.legacy.Adam`.\n",
      "WARNING:absl:At this time, the v2.11+ optimizer `tf.keras.optimizers.Adam` runs slowly on M1/M2 Macs, please use the legacy Keras optimizer instead, located at `tf.keras.optimizers.legacy.Adam`.\n"
     ]
    }
   ],
   "source": [
    "import numpy as np\n",
    "import lbg_forecast.nz_sim as nz\n",
    "import lbg_forecast.emulator as em\n",
    "import lbg_forecast.hyperparams as hyp\n",
    "import lbg_forecast.tools as tools\n",
    "import matplotlib.pyplot as plt"
   ]
  },
  {
   "cell_type": "code",
   "execution_count": 3,
   "metadata": {},
   "outputs": [],
   "source": [
    "# initalise fsps emulator\n",
    "model = em.fsps_emulator()\n",
    "sps_params = model._sps_params"
   ]
  },
  {
   "cell_type": "code",
   "execution_count": 4,
   "metadata": {},
   "outputs": [],
   "source": [
    "# nz histogram parameters\n",
    "dz = 0.1\n",
    "minz = 0.0\n",
    "maxz = 7.0\n",
    "\n",
    "bins = np.arange(minz, maxz, dz)"
   ]
  },
  {
   "cell_type": "code",
   "execution_count": 5,
   "metadata": {},
   "outputs": [],
   "source": [
    "bounds = hyp.define_hyperparameter_bounds(   \n",
    "\n",
    "    zred = np.array([0, 0, 7]),\n",
    "    logtage = np.array([0, -3, 1]),\n",
    "    logzsol = np.array([1, -2.5, 0.5]),\n",
    "    dust1 = np.array([1, 0, 2]),\n",
    "    dust2 = np.array([1, 0, 2]),\n",
    "    igm_factor = np.array([0, 1, 1]), \n",
    "    gas_logu = np.array([1, -4, -1]),\n",
    "    logfagn = np.array([1, 0, 10]),\n",
    "    imf1 = np.array([0, 1.3, 1.3]), \n",
    "    imf2 = np.array([0, 2.3, 2.3]), \n",
    "    imf3 = np.array([0, 2.3, 2.3]), \n",
    "    logtau = np.array([1, -4, 1]),\n",
    "    loga = np.array([1, -3, 3]),\n",
    "    logb = np.array([1, -3, 3]),\n",
    "    logmass = np.array([1, 7, 13])\n",
    "    \n",
    ")"
   ]
  },
  {
   "cell_type": "code",
   "execution_count": 6,
   "metadata": {},
   "outputs": [],
   "source": [
    "hyperparams = []\n",
    "nsamples = 4\n",
    "h = 0\n",
    "while(h < nsamples):\n",
    "    hyperparams.append(hyp.sample_hyper_parameters(bounds))\n",
    "    h+=1\n",
    "\n",
    "hyperparams = np.asanyarray(hyperparams)\n",
    "#hyperparams[i] gives hyparams for realisation i"
   ]
  },
  {
   "cell_type": "code",
   "execution_count": 7,
   "metadata": {},
   "outputs": [
    {
     "name": "stderr",
     "output_type": "stream",
     "text": [
      "/Users/fpetri/anaconda3/envs/tf_env/lib/python3.11/site-packages/speculator/speculator.py:709: RuntimeWarning: overflow encountered in exp\n",
      "  layers.append((self.betas_[i] + (1.-self.betas_[i])*1./(1.+np.exp(-self.alphas_[i]*act[-1])))*act[-1])\n",
      "/Users/fpetri/anaconda3/envs/tf_env/lib/python3.11/site-packages/photerr/model.py:362: RuntimeWarning: overflow encountered in power\n",
      "  fluxes = 10 ** (mags / -2.5)\n",
      "/Users/fpetri/anaconda3/envs/tf_env/lib/python3.11/site-packages/photerr/model.py:362: RuntimeWarning: overflow encountered in power\n",
      "  fluxes = 10 ** (mags / -2.5)\n",
      "/Users/fpetri/anaconda3/envs/tf_env/lib/python3.11/site-packages/speculator/speculator.py:709: RuntimeWarning: overflow encountered in exp\n",
      "  layers.append((self.betas_[i] + (1.-self.betas_[i])*1./(1.+np.exp(-self.alphas_[i]*act[-1])))*act[-1])\n",
      "/Users/fpetri/anaconda3/envs/tf_env/lib/python3.11/site-packages/photerr/model.py:362: RuntimeWarning: overflow encountered in power\n",
      "  fluxes = 10 ** (mags / -2.5)\n",
      "/Users/fpetri/anaconda3/envs/tf_env/lib/python3.11/site-packages/photerr/model.py:362: RuntimeWarning: overflow encountered in power\n",
      "  fluxes = 10 ** (mags / -2.5)\n",
      "/Users/fpetri/anaconda3/envs/tf_env/lib/python3.11/site-packages/speculator/speculator.py:709: RuntimeWarning: overflow encountered in exp\n",
      "  layers.append((self.betas_[i] + (1.-self.betas_[i])*1./(1.+np.exp(-self.alphas_[i]*act[-1])))*act[-1])\n",
      "/Users/fpetri/anaconda3/envs/tf_env/lib/python3.11/site-packages/speculator/speculator.py:709: RuntimeWarning: overflow encountered in exp\n",
      "  layers.append((self.betas_[i] + (1.-self.betas_[i])*1./(1.+np.exp(-self.alphas_[i]*act[-1])))*act[-1])\n",
      "/Users/fpetri/anaconda3/envs/tf_env/lib/python3.11/site-packages/photerr/model.py:362: RuntimeWarning: overflow encountered in power\n",
      "  fluxes = 10 ** (mags / -2.5)\n",
      "/Users/fpetri/anaconda3/envs/tf_env/lib/python3.11/site-packages/photerr/model.py:362: RuntimeWarning: overflow encountered in power\n",
      "  fluxes = 10 ** (mags / -2.5)\n"
     ]
    }
   ],
   "source": [
    "g = 0\n",
    "nz_data = []\n",
    "while(g<nsamples):\n",
    "    sps_params = tools.draw_sps_parameters(100000, hyperparams[g])\n",
    "    nzs = nz.simulate_nzs(sps_params, model, bins)\n",
    "    nz_data.append(nzs)\n",
    "    g+=1"
   ]
  },
  {
   "cell_type": "code",
   "execution_count": 8,
   "metadata": {},
   "outputs": [
    {
     "data": {
      "text/plain": [
       "array([[array([0., 0., 7.]), 0.0, 7.0],\n",
       "       [array([ 0., -3.,  1.]), -3.0, 1.0],\n",
       "       [array([ 1. , -2.5,  0.5]), -2.2235586602818564,\n",
       "        0.7521947062655888],\n",
       "       [array([1., 0., 2.]), 0.10639904296595892, 0.04602139479674702],\n",
       "       [array([1., 0., 2.]), 0.4537973540749536, 1.0416649732070535],\n",
       "       [array([0., 1., 1.]), 1.0, 1.0],\n",
       "       [array([ 1., -4., -1.]), -2.0614466096320108, 2.625101529017613],\n",
       "       [array([ 1.,  0., 10.]), 0.9912584313832518, 1.2072268442145677],\n",
       "       [array([0. , 1.3, 1.3]), 1.3, 1.3],\n",
       "       [array([0. , 2.3, 2.3]), 2.3, 2.3],\n",
       "       [array([0. , 2.3, 2.3]), 2.3, 2.3],\n",
       "       [array([ 1., -4.,  1.]), -0.08790339068697994, 3.5123653564566237],\n",
       "       [array([ 1., -3.,  3.]), 0.13226531437206912, 1.7727547750398656],\n",
       "       [array([ 1., -3.,  3.]), 1.5778831073402113, 1.0498170843678265],\n",
       "       [array([ 1.,  8., 11.]), 9.645424977228231, 0.7310122656126139]],\n",
       "      dtype=object)"
      ]
     },
     "execution_count": 8,
     "metadata": {},
     "output_type": "execute_result"
    }
   ],
   "source": [
    "hyperparams[2]"
   ]
  },
  {
   "cell_type": "code",
   "execution_count": 14,
   "metadata": {},
   "outputs": [
    {
     "data": {
      "text/plain": [
       "<BarContainer object of 69 artists>"
      ]
     },
     "execution_count": 14,
     "metadata": {},
     "output_type": "execute_result"
    },
    {
     "data": {
      "image/png": "[encoded data removed]",
      "text/plain": [
       "<Figure size 640x480 with 1 Axes>"
      ]
     },
     "metadata": {},
     "output_type": "display_data"
    }
   ],
   "source": [
    "realisation = 3\n",
    "plt.bar(bins[:-1], nz_data[realisation][0], width=np.diff(bins), edgecolor=\"black\", align=\"edge\", alpha=0.5, lw=1)\n",
    "plt.bar(bins[:-1], nz_data[realisation][1], width=np.diff(bins), edgecolor=\"black\", align=\"edge\", alpha=0.5, lw=1)\n",
    "plt.bar(bins[:-1], nz_data[realisation][2], width=np.diff(bins), edgecolor=\"black\", align=\"edge\", alpha=0.5, lw=1)"
   ]
  },
  {
   "cell_type": "code",
   "execution_count": 10,
   "metadata": {},
   "outputs": [
    {
     "data": {
      "text/plain": [
       "array([0.        , 0.0128041 , 0.        , 0.02560819, 0.        ,\n",
       "       0.06402049, 0.02560819, 0.03841229, 0.10243278, 0.02560819,\n",
       "       0.08962868, 0.03841229, 0.03841229, 0.10243278, 0.06402049,\n",
       "       0.02560819, 0.03841229, 0.05121639, 0.05121639, 0.07682458,\n",
       "       0.06402049, 0.06402049, 0.05121639, 0.07682458, 0.19206146,\n",
       "       0.26888604, 0.43533931, 0.51216389, 0.78104994, 1.07554417,\n",
       "       1.45966709, 0.99871959, 0.99871959, 0.79385403, 0.61459667,\n",
       "       0.35851472, 0.12804097, 0.06402049, 0.02560819, 0.        ,\n",
       "       0.        , 0.        , 0.0128041 , 0.        , 0.0128041 ,\n",
       "       0.        , 0.0128041 , 0.        , 0.        , 0.02560819,\n",
       "       0.        , 0.        , 0.02560819, 0.0128041 , 0.0128041 ,\n",
       "       0.        , 0.0128041 , 0.        , 0.        , 0.02560819,\n",
       "       0.        , 0.        , 0.0128041 , 0.        , 0.        ,\n",
       "       0.        , 0.        , 0.        , 0.        ])"
      ]
     },
     "execution_count": 10,
     "metadata": {},
     "output_type": "execute_result"
    }
   ],
   "source": [
    "nz_data[realisation][0]"
   ]
  },
  {
   "cell_type": "markdown",
   "metadata": {},
   "source": [
    "uniform = np.load(\"/Users/fpetri/repos/LBGforecast/data/data/training_params.npy\")[:1000000]\n",
    "nz_uni = nz.simulate_nzs(uniform, model, bins)\n",
    "plt.bar(bins[:-1], nz_uni[0], width=np.diff(bins), edgecolor=\"black\", align=\"edge\", alpha=0.5, lw=1)\n",
    "plt.bar(bins[:-1], nz_uni[1], width=np.diff(bins), edgecolor=\"black\", align=\"edge\", alpha=0.5, lw=1)\n",
    "plt.bar(bins[:-1], nz_uni[2], width=np.diff(bins), edgecolor=\"black\", align=\"edge\", alpha=0.5, lw=1)"
   ]
  },
  {
   "cell_type": "code",
   "execution_count": 11,
   "id": "f092e780-7bf1-4e96-aa76-849acca36de5",
   "metadata": {},
   "outputs": [],
   "source": [
    "#n_sims = 100\n",
    "#sim_no = 82"
   ]
  },
  {
   "cell_type": "markdown",
   "id": "9bd4214a-0e0c-4c89-af4b-297a119ba4f8",
   "metadata": {},
   "source": [
    "while(sim_no <= 100):\n",
    "    \n",
    "    red_mu = np.random.uniform(0.1, 7.0)\n",
    "    red_sigma = np.random.uniform(1.0, 5.0)\n",
    "    \n",
    "    age_mu = np.random.uniform(-3, np.log10(cosmo.age(red_mu).value))\n",
    "    age_sigma = np.random.uniform(1, 2)\n",
    "    mass_mu = np.random.uniform(7, 13)\n",
    "    mass_sigma = np.random.uniform(1, 3)\n",
    "    tau_mu = np.random.uniform(-1, 2)\n",
    "    tau_sigma = np.random.uniform(1, 2)\n",
    "    const_mu = np.random.uniform(0, 1)\n",
    "    const_sigma = np.random.uniform(0.1, 1)\n",
    "    met_mu = np.random.uniform(-2.5, 0.5)\n",
    "    met_sigma = np.random.uniform(0.5, 3.0)\n",
    "    dust_mu = np.random.uniform(0.0, 2.0)\n",
    "    dust_sigma = np.random.uniform(0.1, 2.0)\n",
    "    tburst_mu = np.random.uniform(-3, age_mu)\n",
    "    tburst_sigma = np.random.uniform(1, 2)\n",
    "    fburst_mu = np.random.uniform(0, 1)\n",
    "    fburst_sigma = np.random.uniform(0.1, 1)\n",
    "    imf = np.random.uniform(1.3, 3.3)\n",
    "    \n",
    "    prior_params = (age_mu, age_sigma, mass_mu, mass_sigma, tau_mu, tau_sigma, const_mu, const_sigma, red_mu, red_sigma, met_mu, met_sigma, dust_mu, dust_sigma, tburst_mu, tburst_sigma, fburst_mu, fburst_sigma, imf)\n",
    "    nz_sim(sim_no, prior_params)\n",
    "    sim_no+=1"
   ]
  }
 ],
 "metadata": {
  "kernelspec": {
   "display_name": "tensorflow",
   "language": "python",
   "name": "tf_env"
  },
  "language_info": {
   "codemirror_mode": {
    "name": "ipython",
    "version": 3
   },
   "file_extension": ".py",
   "mimetype": "text/x-python",
   "name": "python",
   "nbconvert_exporter": "python",
   "pygments_lexer": "ipython3",
   "version": "3.11.0"
  }
 },
 "nbformat": 4,
 "nbformat_minor": 5
}
