{
 "cells": [
  {
   "cell_type": "code",
   "execution_count": 1,
   "id": "740a3264",
   "metadata": {},
   "outputs": [
    {
     "name": "stderr",
     "output_type": "stream",
     "text": [
      "WARNING:absl:At this time, the v2.11+ optimizer `tf.keras.optimizers.Adam` runs slowly on M1/M2 Macs, please use the legacy Keras optimizer instead, located at `tf.keras.optimizers.legacy.Adam`.\n",
      "2023-12-06 18:26:13.930217: I metal_plugin/src/device/metal_device.cc:1154] Metal device set to: Apple M2 Pro\n",
      "2023-12-06 18:26:13.930242: I metal_plugin/src/device/metal_device.cc:296] systemMemory: 16.00 GB\n",
      "2023-12-06 18:26:13.930249: I metal_plugin/src/device/metal_device.cc:313] maxCacheSize: 5.33 GB\n",
      "2023-12-06 18:26:13.930279: I tensorflow/core/common_runtime/pluggable_device/pluggable_device_factory.cc:306] Could not identify NUMA node of platform GPU ID 0, defaulting to 0. Your kernel may not have been built with NUMA support.\n",
      "2023-12-06 18:26:13.930295: I tensorflow/core/common_runtime/pluggable_device/pluggable_device_factory.cc:272] Created TensorFlow device (/job:localhost/replica:0/task:0/device:GPU:0 with 0 MB memory) -> physical PluggableDevice (device: 0, name: METAL, pci bus id: <undefined>)\n",
      "WARNING:absl:At this time, the v2.11+ optimizer `tf.keras.optimizers.Adam` runs slowly on M1/M2 Macs, please use the legacy Keras optimizer instead, located at `tf.keras.optimizers.legacy.Adam`.\n",
      "WARNING:absl:At this time, the v2.11+ optimizer `tf.keras.optimizers.Adam` runs slowly on M1/M2 Macs, please use the legacy Keras optimizer instead, located at `tf.keras.optimizers.legacy.Adam`.\n",
      "WARNING:absl:At this time, the v2.11+ optimizer `tf.keras.optimizers.Adam` runs slowly on M1/M2 Macs, please use the legacy Keras optimizer instead, located at `tf.keras.optimizers.legacy.Adam`.\n",
      "WARNING:absl:At this time, the v2.11+ optimizer `tf.keras.optimizers.Adam` runs slowly on M1/M2 Macs, please use the legacy Keras optimizer instead, located at `tf.keras.optimizers.legacy.Adam`.\n"
     ]
    }
   ],
   "source": [
    "import numpy as np\n",
    "import lbg_forecast.nz_sim as nz\n",
    "import lbg_forecast.emulator as em\n",
    "import matplotlib.pyplot as plt"
   ]
  },
  {
   "cell_type": "code",
   "execution_count": 2,
   "metadata": {},
   "outputs": [],
   "source": [
    "# initalise fsps emulator\n",
    "model = em.fsps_emulator()\n",
    "sps_params = model._sps_params"
   ]
  },
  {
   "cell_type": "code",
   "execution_count": 3,
   "metadata": {},
   "outputs": [],
   "source": [
    "# nz histogram parameters\n",
    "dz = 0.1\n",
    "minz = 0.0\n",
    "maxz = 7.0\n",
    "\n",
    "bins = np.arange(minz, maxz, dz)"
   ]
  },
  {
   "cell_type": "code",
   "execution_count": 4,
   "metadata": {},
   "outputs": [
    {
     "name": "stderr",
     "output_type": "stream",
     "text": [
      "/Users/fpetri/anaconda3/envs/tf_env/lib/python3.11/site-packages/speculator/speculator.py:709: RuntimeWarning: overflow encountered in exp\n",
      "  layers.append((self.betas_[i] + (1.-self.betas_[i])*1./(1.+np.exp(-self.alphas_[i]*act[-1])))*act[-1])\n"
     ]
    }
   ],
   "source": [
    "nzu, nzg, nzr = nz.simulate_nzs(sps_params[:1000000], model, bins)"
   ]
  },
  {
   "cell_type": "code",
   "execution_count": 7,
   "metadata": {},
   "outputs": [
    {
     "data": {
      "text/plain": [
       "<BarContainer object of 69 artists>"
      ]
     },
     "execution_count": 7,
     "metadata": {},
     "output_type": "execute_result"
    },
    {
     "data": {
      "image/png": "[encoded data removed]",
      "text/plain": [
       "<Figure size 640x480 with 1 Axes>"
      ]
     },
     "metadata": {},
     "output_type": "display_data"
    }
   ],
   "source": [
    "plt.bar(bins[:-1], nzu, width=np.diff(bins), edgecolor=\"black\", align=\"edge\", alpha=0.5, lw=1)\n",
    "plt.bar(bins[:-1], nzg, width=np.diff(bins), edgecolor=\"black\", align=\"edge\", alpha=0.5, lw=1)\n",
    "plt.bar(bins[:-1], nzr, width=np.diff(bins), edgecolor=\"black\", align=\"edge\", alpha=0.5, lw=1)"
   ]
  },
  {
   "cell_type": "code",
   "execution_count": 6,
   "id": "f092e780-7bf1-4e96-aa76-849acca36de5",
   "metadata": {},
   "outputs": [],
   "source": [
    "#n_sims = 100\n",
    "#sim_no = 82"
   ]
  },
  {
   "cell_type": "markdown",
   "id": "9bd4214a-0e0c-4c89-af4b-297a119ba4f8",
   "metadata": {},
   "source": [
    "while(sim_no <= 100):\n",
    "    \n",
    "    red_mu = np.random.uniform(0.1, 7.0)\n",
    "    red_sigma = np.random.uniform(1.0, 5.0)\n",
    "    \n",
    "    age_mu = np.random.uniform(-3, np.log10(cosmo.age(red_mu).value))\n",
    "    age_sigma = np.random.uniform(1, 2)\n",
    "    mass_mu = np.random.uniform(7, 13)\n",
    "    mass_sigma = np.random.uniform(1, 3)\n",
    "    tau_mu = np.random.uniform(-1, 2)\n",
    "    tau_sigma = np.random.uniform(1, 2)\n",
    "    const_mu = np.random.uniform(0, 1)\n",
    "    const_sigma = np.random.uniform(0.1, 1)\n",
    "    met_mu = np.random.uniform(-2.5, 0.5)\n",
    "    met_sigma = np.random.uniform(0.5, 3.0)\n",
    "    dust_mu = np.random.uniform(0.0, 2.0)\n",
    "    dust_sigma = np.random.uniform(0.1, 2.0)\n",
    "    tburst_mu = np.random.uniform(-3, age_mu)\n",
    "    tburst_sigma = np.random.uniform(1, 2)\n",
    "    fburst_mu = np.random.uniform(0, 1)\n",
    "    fburst_sigma = np.random.uniform(0.1, 1)\n",
    "    imf = np.random.uniform(1.3, 3.3)\n",
    "    \n",
    "    prior_params = (age_mu, age_sigma, mass_mu, mass_sigma, tau_mu, tau_sigma, const_mu, const_sigma, red_mu, red_sigma, met_mu, met_sigma, dust_mu, dust_sigma, tburst_mu, tburst_sigma, fburst_mu, fburst_sigma, imf)\n",
    "    nz_sim(sim_no, prior_params)\n",
    "    sim_no+=1"
   ]
  }
 ],
 "metadata": {
  "kernelspec": {
   "display_name": "tensorflow",
   "language": "python",
   "name": "tf_env"
  },
  "language_info": {
   "codemirror_mode": {
    "name": "ipython",
    "version": 3
   },
   "file_extension": ".py",
   "mimetype": "text/x-python",
   "name": "python",
   "nbconvert_exporter": "python",
   "pygments_lexer": "ipython3",
   "version": "3.11.0"
  }
 },
 "nbformat": 4,
 "nbformat_minor": 5
}
