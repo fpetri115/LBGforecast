{
 "cells": [
  {
   "cell_type": "code",
   "execution_count": 1,
   "metadata": {},
   "outputs": [],
   "source": [
    "import os\n",
    "os.environ[\"SPS_HOME\"] = \"/Users/fpetri/packages/fsps\" "
   ]
  },
  {
   "cell_type": "code",
   "execution_count": 2,
   "id": "740a3264",
   "metadata": {},
   "outputs": [
    {
     "name": "stderr",
     "output_type": "stream",
     "text": [
      "WARNING:absl:At this time, the v2.11+ optimizer `tf.keras.optimizers.Adam` runs slowly on M1/M2 Macs, please use the legacy Keras optimizer instead, located at `tf.keras.optimizers.legacy.Adam`.\n",
      "2023-12-08 15:37:01.775031: I metal_plugin/src/device/metal_device.cc:1154] Metal device set to: Apple M2 Pro\n",
      "2023-12-08 15:37:01.775048: I metal_plugin/src/device/metal_device.cc:296] systemMemory: 16.00 GB\n",
      "2023-12-08 15:37:01.775055: I metal_plugin/src/device/metal_device.cc:313] maxCacheSize: 5.33 GB\n",
      "2023-12-08 15:37:01.775085: I tensorflow/core/common_runtime/pluggable_device/pluggable_device_factory.cc:306] Could not identify NUMA node of platform GPU ID 0, defaulting to 0. Your kernel may not have been built with NUMA support.\n",
      "2023-12-08 15:37:01.775101: I tensorflow/core/common_runtime/pluggable_device/pluggable_device_factory.cc:272] Created TensorFlow device (/job:localhost/replica:0/task:0/device:GPU:0 with 0 MB memory) -> physical PluggableDevice (device: 0, name: METAL, pci bus id: <undefined>)\n",
      "WARNING:absl:At this time, the v2.11+ optimizer `tf.keras.optimizers.Adam` runs slowly on M1/M2 Macs, please use the legacy Keras optimizer instead, located at `tf.keras.optimizers.legacy.Adam`.\n",
      "WARNING:absl:At this time, the v2.11+ optimizer `tf.keras.optimizers.Adam` runs slowly on M1/M2 Macs, please use the legacy Keras optimizer instead, located at `tf.keras.optimizers.legacy.Adam`.\n",
      "WARNING:absl:At this time, the v2.11+ optimizer `tf.keras.optimizers.Adam` runs slowly on M1/M2 Macs, please use the legacy Keras optimizer instead, located at `tf.keras.optimizers.legacy.Adam`.\n",
      "WARNING:absl:At this time, the v2.11+ optimizer `tf.keras.optimizers.Adam` runs slowly on M1/M2 Macs, please use the legacy Keras optimizer instead, located at `tf.keras.optimizers.legacy.Adam`.\n"
     ]
    }
   ],
   "source": [
    "import numpy as np\n",
    "import lbg_forecast.nz_sim as nz\n",
    "import lbg_forecast.emulator as em\n",
    "import lbg_forecast.hyperparams as hyp\n",
    "import lbg_forecast.tools as tools\n",
    "import matplotlib.pyplot as plt"
   ]
  },
  {
   "cell_type": "code",
   "execution_count": 3,
   "metadata": {},
   "outputs": [],
   "source": [
    "# initalise fsps emulator\n",
    "model = em.fsps_emulator()\n",
    "sps_params = model._sps_params"
   ]
  },
  {
   "cell_type": "code",
   "execution_count": 4,
   "metadata": {},
   "outputs": [],
   "source": [
    "# nz histogram parameters\n",
    "dz = 0.1\n",
    "minz = 0.0\n",
    "maxz = 7.0\n",
    "\n",
    "bins = np.arange(minz, maxz, dz)"
   ]
  },
  {
   "cell_type": "code",
   "execution_count": 5,
   "metadata": {},
   "outputs": [],
   "source": [
    "bounds = hyp.define_hyperparameter_bounds(   \n",
    "\n",
    "    zred = np.array([1, 0, 7]),\n",
    "    logtage = np.array([1, -3, 1]),\n",
    "    logzsol = np.array([1, -2.5, 0.5]),\n",
    "    dust1 = np.array([1, 0, 2]),\n",
    "    dust2 = np.array([1, 0, 2]),\n",
    "    igm_factor = np.array([0, 1, 1]), \n",
    "    gas_logu = np.array([1, -4, -1]),\n",
    "    logfagn = np.array([1, 0, 10]),\n",
    "    imf1 = np.array([0, 1.3, 1.3]), \n",
    "    imf2 = np.array([0, 2.3, 2.3]), \n",
    "    imf3 = np.array([0, 2.3, 2.3]), \n",
    "    logtau = np.array([1, -4, 1]),\n",
    "    loga = np.array([1, -3, 3]),\n",
    "    logb = np.array([1, -3, 3]),\n",
    "    logmass = np.array([1, 7, 13])\n",
    "    \n",
    ")"
   ]
  },
  {
   "cell_type": "code",
   "execution_count": 6,
   "metadata": {},
   "outputs": [],
   "source": [
    "hyp.plot_hyperparameters(100000, bounds)"
   ]
  },
  {
   "cell_type": "code",
   "execution_count": 7,
   "metadata": {},
   "outputs": [],
   "source": [
    "hyperparams = []\n",
    "nsamples = 4\n",
    "h = 0\n",
    "while(h < nsamples):\n",
    "    hyperparams.append(hyp.sample_hyper_parameters(bounds))\n",
    "    h+=1\n",
    "\n",
    "hyperparams = np.asanyarray(hyperparams)\n",
    "#hyperparams[i] gives hyparams for realisation i"
   ]
  },
  {
   "cell_type": "code",
   "execution_count": 8,
   "metadata": {},
   "outputs": [
    {
     "ename": "KeyboardInterrupt",
     "evalue": "",
     "output_type": "error",
     "traceback": [
      "\u001b[0;31m---------------------------------------------------------------------------\u001b[0m",
      "\u001b[0;31mKeyboardInterrupt\u001b[0m                         Traceback (most recent call last)",
      "\u001b[1;32m/Users/fpetri/repos/LBGforecast/nz_sim_loop.ipynb Cell 8\u001b[0m line \u001b[0;36m1\n\u001b[0;32m----> <a href='vscode-notebook-cell:/Users/fpetri/repos/LBGforecast/nz_sim_loop.ipynb#X10sZmlsZQ%3D%3D?line=0'>1</a>\u001b[0m tools\u001b[39m.\u001b[39;49mdraw_sps_parameters(\u001b[39m1000000\u001b[39;49m, hyperparams[\u001b[39m0\u001b[39;49m])\n",
      "File \u001b[0;32m~/repos/LBGforecast/lbg_forecast/tools.py:131\u001b[0m, in \u001b[0;36mdraw_sps_parameters\u001b[0;34m(ngalaxies, hyperparams, imf_spacing)\u001b[0m\n\u001b[1;32m    128\u001b[0m sps_parameters \u001b[39m=\u001b[39m []\n\u001b[1;32m    129\u001b[0m \u001b[39mwhile\u001b[39;00m(i \u001b[39m<\u001b[39m ngalaxies):\n\u001b[0;32m--> 131\u001b[0m     source \u001b[39m=\u001b[39m pop\u001b[39m.\u001b[39;49mgalaxy_population_model(hyperparams)\n\u001b[1;32m    132\u001b[0m     sps_parameters\u001b[39m.\u001b[39mappend(source)\n\u001b[1;32m    134\u001b[0m     i\u001b[39m+\u001b[39m\u001b[39m=\u001b[39m\u001b[39m1\u001b[39m\n",
      "File \u001b[0;32m~/repos/LBGforecast/lbg_forecast/popmodel.py:24\u001b[0m, in \u001b[0;36mgalaxy_population_model\u001b[0;34m(hparams)\u001b[0m\n\u001b[1;32m     22\u001b[0m         realisation_list\u001b[39m.\u001b[39mappend(np\u001b[39m.\u001b[39mlog10(tage))\n\u001b[1;32m     23\u001b[0m     \u001b[39melse\u001b[39;00m: \u001b[39m#all other params\u001b[39;00m\n\u001b[0;32m---> 24\u001b[0m         realisation_list\u001b[39m.\u001b[39mappend(dstr\u001b[39m.\u001b[39;49msample_prior(hparam))\n\u001b[1;32m     26\u001b[0m     i\u001b[39m+\u001b[39m\u001b[39m=\u001b[39m\u001b[39m1\u001b[39m\n\u001b[1;32m     28\u001b[0m realisation \u001b[39m=\u001b[39m np\u001b[39m.\u001b[39masarray(realisation_list)\n",
      "File \u001b[0;32m~/repos/LBGforecast/lbg_forecast/distributions.py:17\u001b[0m, in \u001b[0;36msample_prior\u001b[0;34m(hparams)\u001b[0m\n\u001b[1;32m     15\u001b[0m \u001b[39m#truncated gaussian with free parameters\u001b[39;00m\n\u001b[1;32m     16\u001b[0m \u001b[39mif\u001b[39;00m(distribution \u001b[39m==\u001b[39m \u001b[39m1\u001b[39m):\n\u001b[0;32m---> 17\u001b[0m      param \u001b[39m=\u001b[39m np\u001b[39m.\u001b[39mrandom\u001b[39m.\u001b[39mnormal(p1, p2)\n\u001b[1;32m     18\u001b[0m      bmin \u001b[39m=\u001b[39m bound[\u001b[39m1\u001b[39m]\n\u001b[1;32m     19\u001b[0m      bmax \u001b[39m=\u001b[39m bound[\u001b[39m2\u001b[39m]\n",
      "\u001b[0;31mKeyboardInterrupt\u001b[0m: "
     ]
    }
   ],
   "source": [
    "tools.draw_sps_parameters(1000000, hyperparams[0])"
   ]
  },
  {
   "cell_type": "code",
   "execution_count": null,
   "metadata": {},
   "outputs": [
    {
     "name": "stderr",
     "output_type": "stream",
     "text": [
      "/Users/fpetri/anaconda3/envs/tf_env/lib/python3.11/site-packages/speculator/speculator.py:709: RuntimeWarning: overflow encountered in exp\n",
      "  layers.append((self.betas_[i] + (1.-self.betas_[i])*1./(1.+np.exp(-self.alphas_[i]*act[-1])))*act[-1])\n",
      "/Users/fpetri/anaconda3/envs/tf_env/lib/python3.11/site-packages/photerr/model.py:362: RuntimeWarning: overflow encountered in power\n",
      "  fluxes = 10 ** (mags / -2.5)\n",
      "/Users/fpetri/anaconda3/envs/tf_env/lib/python3.11/site-packages/photerr/model.py:362: RuntimeWarning: overflow encountered in power\n",
      "  fluxes = 10 ** (mags / -2.5)\n",
      "/Users/fpetri/anaconda3/envs/tf_env/lib/python3.11/site-packages/speculator/speculator.py:709: RuntimeWarning: overflow encountered in exp\n",
      "  layers.append((self.betas_[i] + (1.-self.betas_[i])*1./(1.+np.exp(-self.alphas_[i]*act[-1])))*act[-1])\n",
      "/Users/fpetri/anaconda3/envs/tf_env/lib/python3.11/site-packages/photerr/model.py:362: RuntimeWarning: overflow encountered in power\n",
      "  fluxes = 10 ** (mags / -2.5)\n",
      "/Users/fpetri/anaconda3/envs/tf_env/lib/python3.11/site-packages/photerr/model.py:362: RuntimeWarning: overflow encountered in power\n",
      "  fluxes = 10 ** (mags / -2.5)\n",
      "/Users/fpetri/anaconda3/envs/tf_env/lib/python3.11/site-packages/speculator/speculator.py:709: RuntimeWarning: overflow encountered in exp\n",
      "  layers.append((self.betas_[i] + (1.-self.betas_[i])*1./(1.+np.exp(-self.alphas_[i]*act[-1])))*act[-1])\n",
      "/Users/fpetri/anaconda3/envs/tf_env/lib/python3.11/site-packages/speculator/speculator.py:709: RuntimeWarning: overflow encountered in exp\n",
      "  layers.append((self.betas_[i] + (1.-self.betas_[i])*1./(1.+np.exp(-self.alphas_[i]*act[-1])))*act[-1])\n",
      "/Users/fpetri/anaconda3/envs/tf_env/lib/python3.11/site-packages/photerr/model.py:362: RuntimeWarning: overflow encountered in power\n",
      "  fluxes = 10 ** (mags / -2.5)\n",
      "/Users/fpetri/anaconda3/envs/tf_env/lib/python3.11/site-packages/photerr/model.py:362: RuntimeWarning: overflow encountered in power\n",
      "  fluxes = 10 ** (mags / -2.5)\n"
     ]
    }
   ],
   "source": [
    "g = 0\n",
    "nz_data = []\n",
    "while(g<nsamples):\n",
    "    sps_params = tools.draw_sps_parameters(100000, hyperparams[g])\n",
    "    nzs = nz.simulate_nzs(sps_params, model, bins)\n",
    "    nz_data.append(nzs)\n",
    "    g+=1"
   ]
  },
  {
   "cell_type": "code",
   "execution_count": null,
   "metadata": {},
   "outputs": [
    {
     "data": {
      "text/plain": [
       "array([[array([1., 0., 7.]), 5.717263824927957, 1.2559497597292795],\n",
       "       [array([ 1., -3.,  1.]), -1.839429526105921, 3.7170568969347264],\n",
       "       [array([ 1. , -2.5,  0.5]), -1.568617117957905,\n",
       "        0.8416541424212202],\n",
       "       [array([1., 0., 2.]), 1.2510809987630107, 1.4465284565759124],\n",
       "       [array([1., 0., 2.]), 1.3280532225526642, 1.1158745915620516],\n",
       "       [array([0., 1., 1.]), 1.0, 1.0],\n",
       "       [array([ 1., -4., -1.]), -1.7334154083905777, 2.980027271147092],\n",
       "       [array([ 1.,  0., 10.]), 1.2762136303650073, 2.0051909220221926],\n",
       "       [array([0. , 1.3, 1.3]), 1.3, 1.3],\n",
       "       [array([0. , 2.3, 2.3]), 2.3, 2.3],\n",
       "       [array([0. , 2.3, 2.3]), 2.3, 2.3],\n",
       "       [array([ 1., -4.,  1.]), -2.7848582522494674, 3.179985548561248],\n",
       "       [array([ 1., -3.,  3.]), -2.616823313594181, 4.416114239397648],\n",
       "       [array([ 1., -3.,  3.]), -1.3902806024997174, 3.4566183279062663],\n",
       "       [array([ 1.,  7., 13.]), 11.699757044090248, 4.236016924426711]],\n",
       "      dtype=object)"
      ]
     },
     "execution_count": 9,
     "metadata": {},
     "output_type": "execute_result"
    }
   ],
   "source": [
    "hyperparams[2]"
   ]
  },
  {
   "cell_type": "code",
   "execution_count": null,
   "metadata": {},
   "outputs": [
    {
     "data": {
      "text/plain": [
       "<BarContainer object of 69 artists>"
      ]
     },
     "execution_count": 16,
     "metadata": {},
     "output_type": "execute_result"
    },
    {
     "data": {
      "image/png": "[encoded data removed]",
      "text/plain": [
       "<Figure size 640x480 with 1 Axes>"
      ]
     },
     "metadata": {},
     "output_type": "display_data"
    }
   ],
   "source": [
    "realisation = 3\n",
    "plt.bar(bins[:-1], nz_data[realisation][0], width=np.diff(bins), edgecolor=\"black\", align=\"edge\", alpha=0.5, lw=1)\n",
    "plt.bar(bins[:-1], nz_data[realisation][1], width=np.diff(bins), edgecolor=\"black\", align=\"edge\", alpha=0.5, lw=1)\n",
    "plt.bar(bins[:-1], nz_data[realisation][2], width=np.diff(bins), edgecolor=\"black\", align=\"edge\", alpha=0.5, lw=1)"
   ]
  },
  {
   "cell_type": "code",
   "execution_count": null,
   "metadata": {},
   "outputs": [
    {
     "data": {
      "text/plain": [
       "array([0.        , 0.        , 0.        , 0.        , 0.        ,\n",
       "       0.        , 0.        , 0.        , 0.        , 0.        ,\n",
       "       0.        , 0.06849315, 0.03424658, 0.06849315, 0.03424658,\n",
       "       0.06849315, 0.06849315, 0.06849315, 0.        , 0.03424658,\n",
       "       0.20547945, 0.30821918, 0.17123288, 0.10273973, 0.17123288,\n",
       "       0.44520548, 0.23972603, 0.58219178, 0.95890411, 1.06164384,\n",
       "       1.57534247, 1.36986301, 0.99315068, 0.68493151, 0.44520548,\n",
       "       0.20547945, 0.03424658, 0.        , 0.        , 0.        ,\n",
       "       0.        , 0.        , 0.        , 0.        , 0.        ,\n",
       "       0.        , 0.        , 0.        , 0.        , 0.        ,\n",
       "       0.        , 0.        , 0.        , 0.        , 0.        ,\n",
       "       0.        , 0.        , 0.        , 0.        , 0.        ,\n",
       "       0.        , 0.        , 0.        , 0.        , 0.        ,\n",
       "       0.        , 0.        , 0.        , 0.        ])"
      ]
     },
     "execution_count": 11,
     "metadata": {},
     "output_type": "execute_result"
    }
   ],
   "source": [
    "nz_data[realisation][0]"
   ]
  },
  {
   "cell_type": "markdown",
   "metadata": {},
   "source": [
    "uniform = np.load(\"/Users/fpetri/repos/LBGforecast/data/data/training_params.npy\")[:1000000]\n",
    "nz_uni = nz.simulate_nzs(uniform, model, bins)\n",
    "plt.bar(bins[:-1], nz_uni[0], width=np.diff(bins), edgecolor=\"black\", align=\"edge\", alpha=0.5, lw=1)\n",
    "plt.bar(bins[:-1], nz_uni[1], width=np.diff(bins), edgecolor=\"black\", align=\"edge\", alpha=0.5, lw=1)\n",
    "plt.bar(bins[:-1], nz_uni[2], width=np.diff(bins), edgecolor=\"black\", align=\"edge\", alpha=0.5, lw=1)"
   ]
  },
  {
   "cell_type": "code",
   "execution_count": null,
   "id": "f092e780-7bf1-4e96-aa76-849acca36de5",
   "metadata": {},
   "outputs": [],
   "source": [
    "#n_sims = 100\n",
    "#sim_no = 82"
   ]
  },
  {
   "cell_type": "markdown",
   "id": "9bd4214a-0e0c-4c89-af4b-297a119ba4f8",
   "metadata": {},
   "source": [
    "while(sim_no <= 100):\n",
    "    \n",
    "    red_mu = np.random.uniform(0.1, 7.0)\n",
    "    red_sigma = np.random.uniform(1.0, 5.0)\n",
    "    \n",
    "    age_mu = np.random.uniform(-3, np.log10(cosmo.age(red_mu).value))\n",
    "    age_sigma = np.random.uniform(1, 2)\n",
    "    mass_mu = np.random.uniform(7, 13)\n",
    "    mass_sigma = np.random.uniform(1, 3)\n",
    "    tau_mu = np.random.uniform(-1, 2)\n",
    "    tau_sigma = np.random.uniform(1, 2)\n",
    "    const_mu = np.random.uniform(0, 1)\n",
    "    const_sigma = np.random.uniform(0.1, 1)\n",
    "    met_mu = np.random.uniform(-2.5, 0.5)\n",
    "    met_sigma = np.random.uniform(0.5, 3.0)\n",
    "    dust_mu = np.random.uniform(0.0, 2.0)\n",
    "    dust_sigma = np.random.uniform(0.1, 2.0)\n",
    "    tburst_mu = np.random.uniform(-3, age_mu)\n",
    "    tburst_sigma = np.random.uniform(1, 2)\n",
    "    fburst_mu = np.random.uniform(0, 1)\n",
    "    fburst_sigma = np.random.uniform(0.1, 1)\n",
    "    imf = np.random.uniform(1.3, 3.3)\n",
    "    \n",
    "    prior_params = (age_mu, age_sigma, mass_mu, mass_sigma, tau_mu, tau_sigma, const_mu, const_sigma, red_mu, red_sigma, met_mu, met_sigma, dust_mu, dust_sigma, tburst_mu, tburst_sigma, fburst_mu, fburst_sigma, imf)\n",
    "    nz_sim(sim_no, prior_params)\n",
    "    sim_no+=1"
   ]
  }
 ],
 "metadata": {
  "kernelspec": {
   "display_name": "tensorflow",
   "language": "python",
   "name": "tf_env"
  },
  "language_info": {
   "codemirror_mode": {
    "name": "ipython",
    "version": 3
   },
   "file_extension": ".py",
   "mimetype": "text/x-python",
   "name": "python",
   "nbconvert_exporter": "python",
   "pygments_lexer": "ipython3",
   "version": "3.11.0"
  }
 },
 "nbformat": 4,
 "nbformat_minor": 5
}
