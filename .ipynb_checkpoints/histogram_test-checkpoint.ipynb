{
 "cells": [
  {
   "cell_type": "code",
   "execution_count": 1,
   "id": "2e151844-3b0c-45d2-8d94-e6d50fa82357",
   "metadata": {},
   "outputs": [],
   "source": [
    "import jax.numpy as jnp\n",
    "import jax\n",
    "from jax.config import config\n",
    "config.update(\"jax_enable_x64\", True)\n",
    "\n",
    "from jax import jit\n",
    "import jax_cosmo as jc\n",
    "import matplotlib.pyplot as plt\n"
   ]
  },
  {
   "cell_type": "code",
   "execution_count": 2,
   "id": "150f0f8b-d8df-4c39-ab02-78149d57eb5f",
   "metadata": {},
   "outputs": [],
   "source": [
    "def line_seg(size):\n",
    "    return jnp.ones(size)"
   ]
  },
  {
   "cell_type": "code",
   "execution_count": 3,
   "id": "edddd412-07ef-4de8-be5b-86b2c40aad36",
   "metadata": {},
   "outputs": [
    {
     "name": "stderr",
     "output_type": "stream",
     "text": [
      "WARNING:absl:No GPU/TPU found, falling back to CPU. (Set TF_CPP_MIN_LOG_LEVEL=0 and rerun for more info.)\n"
     ]
    },
    {
     "data": {
      "text/plain": [
       "DeviceArray([1., 1., 1., 1., 1.], dtype=float64)"
      ]
     },
     "execution_count": 3,
     "metadata": {},
     "output_type": "execute_result"
    }
   ],
   "source": [
    "line_seg(5)"
   ]
  },
  {
   "cell_type": "code",
   "execution_count": 4,
   "id": "cd772684-f203-411c-ab80-b0b1aac8623d",
   "metadata": {},
   "outputs": [],
   "source": [
    "def nz_hist(zmin, zmax, size, bin_heights):\n",
    "    \"\"\"\n",
    "    nz represented as histogram\n",
    "    -------------------------------\n",
    "    \n",
    "    \"\"\"\n",
    "    nbins = len(bin_heights)\n",
    "    \n",
    "    i = 0\n",
    "    lines = []\n",
    "    grid = jnp.linspace(zmin, zmax, size*nbins)\n",
    "    \n",
    "    dz = (zmax-zmin)/nbins\n",
    "    \n",
    "    for i in range (nbins):\n",
    "        lines.append(line_seg(size)*bin_heights[i])\n",
    "        \n",
    "        \n",
    "    return grid, jnp.hstack(lines)\n",
    "        "
   ]
  },
  {
   "cell_type": "code",
   "execution_count": 20,
   "id": "db2e4c38-43c7-4a99-ad0a-17bf29e49c57",
   "metadata": {},
   "outputs": [],
   "source": [
    "h = jnp.array([0, 1, 5, 3, 2, 1, 1])\n",
    "\n",
    "len(h) == "
   ]
  },
  {
   "cell_type": "code",
   "execution_count": 22,
   "id": "8d414b18-1f73-4df5-917e-f797d89bf225",
   "metadata": {},
   "outputs": [
    {
     "data": {
      "text/plain": [
       "[<matplotlib.lines.Line2D at 0x7f2084674a90>]"
      ]
     },
     "execution_count": 22,
     "metadata": {},
     "output_type": "execute_result"
    },
    {
     "data": {
      "image/png": "[encoded data removed]",
      "text/plain": [
       "<Figure size 432x288 with 1 Axes>"
      ]
     },
     "metadata": {
      "needs_background": "light"
     },
     "output_type": "display_data"
    }
   ],
   "source": [
    "z_grid, hist = nz_hist(0, 7, 7, 100, h)\n",
    "plt.plot(z_grid, hist)"
   ]
  },
  {
   "cell_type": "code",
   "execution_count": 11,
   "id": "0d459467-8a97-4109-a1c6-3c1c272a85da",
   "metadata": {},
   "outputs": [
    {
     "data": {
      "text/plain": [
       "DeviceArray([0.        , 0.04032258, 0.08064516, 0.12096774, 0.16129032,\n",
       "             0.2016129 , 0.24193548, 0.28225806, 0.32258065, 0.36290323,\n",
       "             0.40322581, 0.44354839, 0.48387097, 0.52419355, 0.56451613,\n",
       "             0.60483871, 0.64516129, 0.68548387, 0.72580645, 0.76612903,\n",
       "             0.80645161, 0.84677419, 0.88709677, 0.92741935, 0.96774194,\n",
       "             1.00806452, 1.0483871 , 1.08870968, 1.12903226, 1.16935484,\n",
       "             1.20967742, 1.25      , 1.29032258, 1.33064516, 1.37096774,\n",
       "             1.41129032, 1.4516129 , 1.49193548, 1.53225806, 1.57258065,\n",
       "             1.61290323, 1.65322581, 1.69354839, 1.73387097, 1.77419355,\n",
       "             1.81451613, 1.85483871, 1.89516129, 1.93548387, 1.97580645,\n",
       "             2.01612903, 2.05645161, 2.09677419, 2.13709677, 2.17741935,\n",
       "             2.21774194, 2.25806452, 2.2983871 , 2.33870968, 2.37903226,\n",
       "             2.41935484, 2.45967742, 2.5       , 2.54032258, 2.58064516,\n",
       "             2.62096774, 2.66129032, 2.7016129 , 2.74193548, 2.78225806,\n",
       "             2.82258065, 2.86290323, 2.90322581, 2.94354839, 2.98387097,\n",
       "             3.02419355, 3.06451613, 3.10483871, 3.14516129, 3.18548387,\n",
       "             3.22580645, 3.26612903, 3.30645161, 3.34677419, 3.38709677,\n",
       "             3.42741935, 3.46774194, 3.50806452, 3.5483871 , 3.58870968,\n",
       "             3.62903226, 3.66935484, 3.70967742, 3.75      , 3.79032258,\n",
       "             3.83064516, 3.87096774, 3.91129032, 3.9516129 , 3.99193548,\n",
       "             4.03225806, 4.07258065, 4.11290323, 4.15322581, 4.19354839,\n",
       "             4.23387097, 4.27419355, 4.31451613, 4.35483871, 4.39516129,\n",
       "             4.43548387, 4.47580645, 4.51612903, 4.55645161, 4.59677419,\n",
       "             4.63709677, 4.67741935, 4.71774194, 4.75806452, 4.7983871 ,\n",
       "             4.83870968, 4.87903226, 4.91935484, 4.95967742, 5.        ],            dtype=float64)"
      ]
     },
     "execution_count": 11,
     "metadata": {},
     "output_type": "execute_result"
    }
   ],
   "source": [
    "z_grid"
   ]
  },
  {
   "cell_type": "code",
   "execution_count": 12,
   "id": "2a841015-f2e6-42fa-bf00-1a6a01a9041e",
   "metadata": {},
   "outputs": [
    {
     "data": {
      "text/plain": [
       "DeviceArray([0., 0., 0., 0., 0., 0., 0., 0., 0., 0., 0., 0., 0., 0., 0.,\n",
       "             0., 0., 0., 0., 0., 0., 0., 0., 0., 0., 1., 1., 1., 1., 1.,\n",
       "             1., 1., 1., 1., 1., 1., 1., 1., 1., 1., 1., 1., 1., 1., 1.,\n",
       "             1., 1., 1., 1., 1., 2., 2., 2., 2., 2., 2., 2., 2., 2., 2.,\n",
       "             2., 2., 2., 2., 2., 2., 2., 2., 2., 2., 2., 2., 2., 2., 2.,\n",
       "             3., 3., 3., 3., 3., 3., 3., 3., 3., 3., 3., 3., 3., 3., 3.,\n",
       "             3., 3., 3., 3., 3., 3., 3., 3., 3., 3., 4., 4., 4., 4., 4.,\n",
       "             4., 4., 4., 4., 4., 4., 4., 4., 4., 4., 4., 4., 4., 4., 4.,\n",
       "             4., 4., 4., 4., 4.], dtype=float64)"
      ]
     },
     "execution_count": 12,
     "metadata": {},
     "output_type": "execute_result"
    }
   ],
   "source": [
    "hist"
   ]
  },
  {
   "cell_type": "code",
   "execution_count": 9,
   "id": "e60701ed-7301-45c6-8b4c-b99b2f41bf38",
   "metadata": {},
   "outputs": [
    {
     "ename": "TypeError",
     "evalue": "line_seg() takes 1 positional argument but 3 were given",
     "output_type": "error",
     "traceback": [
      "\u001b[0;31m---------------------------------------------------------------------------\u001b[0m",
      "\u001b[0;31mTypeError\u001b[0m                                 Traceback (most recent call last)",
      "Input \u001b[0;32mIn [9]\u001b[0m, in \u001b[0;36m<cell line: 1>\u001b[0;34m()\u001b[0m\n\u001b[0;32m----> 1\u001b[0m \u001b[43mline_seg\u001b[49m\u001b[43m(\u001b[49m\u001b[38;5;241;43m0.01\u001b[39;49m\u001b[43m,\u001b[49m\u001b[43m \u001b[49m\u001b[38;5;241;43m2\u001b[39;49m\u001b[43m,\u001b[49m\u001b[43m \u001b[49m\u001b[38;5;241;43m3\u001b[39;49m\u001b[43m)\u001b[49m\n",
      "\u001b[0;31mTypeError\u001b[0m: line_seg() takes 1 positional argument but 3 were given"
     ]
    }
   ],
   "source": [
    "line_seg(0.01, 2, 3)"
   ]
  },
  {
   "cell_type": "code",
   "execution_count": null,
   "id": "b4da7a43-d69c-4f69-9dec-ca39c164b320",
   "metadata": {},
   "outputs": [],
   "source": [
    "for i in range(10):\n",
    "    print(i)"
   ]
  },
  {
   "cell_type": "code",
   "execution_count": null,
   "id": "90f48b0f-887d-46a4-8b27-489a61dd2aa7",
   "metadata": {},
   "outputs": [],
   "source": []
  }
 ],
 "metadata": {
  "kernelspec": {
   "display_name": "Python 3 (ipykernel)",
   "language": "python",
   "name": "python3"
  },
  "language_info": {
   "codemirror_mode": {
    "name": "ipython",
    "version": 3
   },
   "file_extension": ".py",
   "mimetype": "text/x-python",
   "name": "python",
   "nbconvert_exporter": "python",
   "pygments_lexer": "ipython3",
   "version": "3.9.12"
  }
 },
 "nbformat": 4,
 "nbformat_minor": 5
}
