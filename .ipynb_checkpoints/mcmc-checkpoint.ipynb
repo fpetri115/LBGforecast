{
 "cells": [
  {
   "cell_type": "code",
   "execution_count": 1,
   "id": "c2f51c22-56d6-4ecc-be83-3c6c24e7e787",
   "metadata": {},
   "outputs": [],
   "source": [
    "import jax.numpy as jnp\n",
    "import jax\n",
    "from jax.config import config\n",
    "config.update(\"jax_enable_x64\", True)\n",
    "from jax import jacfwd, jacrev\n",
    "\n",
    "from jax import jit\n",
    "import numpy as np\n",
    "import jax_cosmo as jc\n",
    "from likelihood import Likelihood\n",
    "import matplotlib.pyplot as plt\n",
    "\n",
    "import emcee\n"
   ]
  },
  {
   "cell_type": "code",
   "execution_count": 2,
   "id": "7871dfc7-7974-400e-8efe-58646fbc14df",
   "metadata": {},
   "outputs": [
    {
     "name": "stderr",
     "output_type": "stream",
     "text": [
      "WARNING:absl:No GPU/TPU found, falling back to CPU. (Set TF_CPP_MIN_LOG_LEVEL=0 and rerun for more info.)\n"
     ]
    },
    {
     "name": "stdout",
     "output_type": "stream",
     "text": [
      "Initialising likelihood\n",
      "Initialisation Complete\n"
     ]
    }
   ],
   "source": [
    "lhood = Likelihood()\n",
    "fidparam = np.array([0.8159,  0.2589,  0.0486,  0.6774,  0.9667, -1., 2., 1.])\n",
    "symbols = ['$\\sigma_{8}$', '$\\Omega_{c}$', '$\\Omega_{b}$', '$h$', '$n_{s}$', '$w_{0}$', '$b_lbg$', '$b_int$']"
   ]
  },
  {
   "cell_type": "code",
   "execution_count": 3,
   "id": "fbbb6c48-6491-487b-966c-efd9ad8f3a38",
   "metadata": {},
   "outputs": [],
   "source": [
    "def logl_func(p):\n",
    "    sig8, o_c, o_b, h, n_s, w_0, b_lbg, b_int = p\n",
    "    if(sig8 < 0.0 or sig8 > 1.1):\n",
    "        return -np.inf\n",
    "    elif(o_c < 0.001 or o_c > 0.99):\n",
    "        return -np.inf\n",
    "    elif(o_b < 0.001 or o_b > 0.1):\n",
    "        return -np.inf\n",
    "    elif(h < 0.1 or h > 1.1):\n",
    "        return -np.inf\n",
    "    elif(n_s < 0.1 or n_s > 1.1):\n",
    "        return -np.inf\n",
    "    elif(w_0 < -3.0 or w_0 > -0.3):\n",
    "        return -np.inf\n",
    "    elif(b_lbg < 0 or b_lbg > 30):\n",
    "        return -np.inf\n",
    "    elif(b_int < 0 or b_int > 30):\n",
    "        return -np.inf\n",
    "    else:\n",
    "        return lhood.logLgauss(p)"
   ]
  },
  {
   "cell_type": "code",
   "execution_count": 4,
   "id": "77039c48-8a50-42da-8497-8075f6c578ee",
   "metadata": {},
   "outputs": [
    {
     "data": {
      "text/plain": [
       "DeviceArray(-2360.69758583, dtype=float64)"
      ]
     },
     "execution_count": 4,
     "metadata": {},
     "output_type": "execute_result"
    }
   ],
   "source": [
    "logl_func(fidparam)"
   ]
  },
  {
   "cell_type": "code",
   "execution_count": 5,
   "id": "3ea76d1c-0851-4259-a850-2a97d7e4f7b3",
   "metadata": {},
   "outputs": [],
   "source": [
    "ndim, nwalkers = 8, 200"
   ]
  },
  {
   "cell_type": "code",
   "execution_count": 6,
   "id": "c10a22ff-048c-41ec-b17f-712be1d4d2c8",
   "metadata": {},
   "outputs": [],
   "source": [
    "sig8 = np.random.uniform(0.91, 0.92, nwalkers)\n",
    "o_c = np.random.uniform(0.31, 0.32, nwalkers)\n",
    "o_b = np.random.uniform(0.06, 0.07, nwalkers)\n",
    "h = np.random.uniform(0.5, 0.51, nwalkers)\n",
    "n_s = np.random.uniform(0.91, 0.92, nwalkers)\n",
    "w0 = np.random.uniform(-1.6, -1.5, nwalkers)\n",
    "b_lbg = np.random.uniform(5, 6, nwalkers)\n",
    "b_int = np.random.uniform(5, 6, nwalkers)"
   ]
  },
  {
   "cell_type": "code",
   "execution_count": 7,
   "id": "f2d697ba-4ba8-46c1-887d-ccd8d4d825dc",
   "metadata": {},
   "outputs": [],
   "source": [
    "p0 = np.transpose(np.vstack([sig8, o_c, o_b, h, n_s, w0, b_lbg, b_int]))"
   ]
  },
  {
   "cell_type": "code",
   "execution_count": 8,
   "id": "2fc8f0c4-9da2-43c8-bbfe-f6332a2a4fb0",
   "metadata": {},
   "outputs": [
    {
     "data": {
      "text/plain": [
       "(200, 8)"
      ]
     },
     "execution_count": 8,
     "metadata": {},
     "output_type": "execute_result"
    }
   ],
   "source": [
    "p0.shape"
   ]
  },
  {
   "cell_type": "code",
   "execution_count": 9,
   "id": "c499e3e2-c289-478f-8a55-ad7f0af15441",
   "metadata": {},
   "outputs": [],
   "source": [
    "filename = \"mcmc_data.h5\"\n",
    "backend = emcee.backends.HDFBackend(filename)\n",
    "backend.reset(nwalkers, ndim)"
   ]
  },
  {
   "cell_type": "code",
   "execution_count": 10,
   "id": "36104096-64cd-472e-bd44-c201f2d3bbae",
   "metadata": {},
   "outputs": [],
   "source": [
    "move = emcee.moves.StretchMove(2)"
   ]
  },
  {
   "cell_type": "code",
   "execution_count": null,
   "id": "64fa2cfe-59e1-4da9-846d-9c238a931273",
   "metadata": {},
   "outputs": [],
   "source": [
    "sampler = emcee.EnsembleSampler(nwalkers, ndim, logl_func, moves=move, backend=backend)\n",
    "sampler.run_mcmc(p0, 10000)"
   ]
  },
  {
   "cell_type": "code",
   "execution_count": null,
   "id": "e56a1cac-29ea-4a6e-bcf1-501e58ebd83d",
   "metadata": {},
   "outputs": [],
   "source": [
    "samples = sampler.get_chain(flat=True)"
   ]
  },
  {
   "cell_type": "code",
   "execution_count": null,
   "id": "e907c0da-796f-4453-bffc-1b7e36c6d087",
   "metadata": {},
   "outputs": [],
   "source": [
    "print(\n",
    "    \"Mean acceptance fraction: {0:.3f}\".format(\n",
    "        np.mean(sampler.acceptance_fraction)\n",
    "    )\n",
    ")"
   ]
  },
  {
   "cell_type": "code",
   "execution_count": null,
   "id": "8b2423b3-75df-41ea-a1e0-a5d4a8de9cb3",
   "metadata": {},
   "outputs": [],
   "source": []
  }
 ],
 "metadata": {
  "kernelspec": {
   "display_name": "Python 3 (ipykernel)",
   "language": "python",
   "name": "python3"
  },
  "language_info": {
   "codemirror_mode": {
    "name": "ipython",
    "version": 3
   },
   "file_extension": ".py",
   "mimetype": "text/x-python",
   "name": "python",
   "nbconvert_exporter": "python",
   "pygments_lexer": "ipython3",
   "version": "3.9.12"
  }
 },
 "nbformat": 4,
 "nbformat_minor": 5
}
