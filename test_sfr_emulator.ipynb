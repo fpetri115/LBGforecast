{
 "cells": [
  {
   "cell_type": "code",
   "execution_count": 1,
   "metadata": {},
   "outputs": [],
   "source": [
    "from sklearn.ensemble import RandomForestRegressor\n",
    "from sklearn.model_selection import train_test_split\n",
    "from sklearn.preprocessing import StandardScaler\n",
    "from sklearn.metrics import mean_squared_error\n",
    "import numpy as np\n",
    "import lbg_forecast.sfh as sfh\n",
    "import matplotlib.pyplot as plt\n",
    "import joblib"
   ]
  },
  {
   "cell_type": "markdown",
   "metadata": {},
   "source": [
    "#run = 'hpc120'\n",
    "nsamples = 10000000\n",
    "#spsp = np.load(\"sps_parameter_samples/sps_\"+run+\".npy\")\n",
    "#training_data = np.vstack(spsp)[:nsamples, :]"
   ]
  },
  {
   "cell_type": "markdown",
   "metadata": {},
   "source": [
    "#input\n",
    "train_redshift = np.random.uniform(0, 7, (nsamples, 1))#np.reshape(training_data[:, 0], (nsamples, 1))\n",
    "train_mass = np.random.uniform(7, 13, (nsamples, 1))#np.log10(np.reshape(training_data[:, -1], (nsamples, 1)))\n",
    "train_logsfrratios = np.random.uniform(-5, 5, (nsamples, 6))\n",
    "\n",
    "x = np.hstack((train_redshift, train_logsfrratios ,train_mass))\n",
    "print(x.shape)\n",
    "\n",
    "#output\n",
    "y = np.log10(sfh.calculate_recent_sfr(np.squeeze(train_redshift), np.squeeze(10**train_mass), train_logsfrratios))\n",
    "#plt.scatter(train_recent_sfrs, training_data[:, 3])\n",
    "\n",
    "np.save(\"sfr_emulator/train_x.npy\", x)\n",
    "np.save(\"sfr_emulator/train_y.npy\", y)"
   ]
  },
  {
   "cell_type": "code",
   "execution_count": null,
   "metadata": {},
   "outputs": [
    {
     "name": "stdout",
     "output_type": "stream",
     "text": [
      "(100000, 8) (100000,)\n"
     ]
    }
   ],
   "source": [
    "nsamples=1000000\n",
    "x = np.load(\"sfr_emulator/train_x.npy\")[:nsamples]\n",
    "y = np.load(\"sfr_emulator/train_y.npy\")[:nsamples]\n",
    "regressor = RandomForestRegressor(n_estimators=50, max_depth=20, min_samples_leaf=5)\n",
    "print(x.shape, y.shape)"
   ]
  },
  {
   "cell_type": "code",
   "execution_count": 3,
   "metadata": {},
   "outputs": [
    {
     "name": "stdout",
     "output_type": "stream",
     "text": [
      "Iteration:  <built-in function iter> MSE:  0.5916551861154012\n"
     ]
    }
   ],
   "source": [
    "x_train, x_test, y_train, y_test = train_test_split(x, y, test_size=0.05)\n",
    "\n",
    "regressor.fit(x_train, y_train)\n",
    "y_pred = regressor.predict(x_test)\n",
    "mse = mean_squared_error(y_test, y_pred)\n",
    "print(\"Iteration: \", iter, \"MSE: \", mse)"
   ]
  },
  {
   "cell_type": "code",
   "execution_count": 4,
   "metadata": {},
   "outputs": [
    {
     "data": {
      "text/plain": [
       "<matplotlib.collections.PolyCollection at 0x3106803d0>"
      ]
     },
     "execution_count": 4,
     "metadata": {},
     "output_type": "execute_result"
    },
    {
     "data": {
      "image/png": "[encoded data removed]",
      "text/plain": [
       "<Figure size 640x480 with 1 Axes>"
      ]
     },
     "metadata": {},
     "output_type": "display_data"
    }
   ],
   "source": [
    "import scipy as sc\n",
    "def process_samples(x, y, xl, xh, ngrid=15):\n",
    "\n",
    "    bin_means, bin_edges, binnumber = sc.stats.binned_statistic(x, y, 'mean', np.linspace(xl, xh, ngrid))\n",
    "    bin_std, bin_edges, binnumber = sc.stats.binned_statistic(x, y, 'std', np.linspace(xl, xh, ngrid))\n",
    "    bin_width = (bin_edges[1] - bin_edges[0])\n",
    "    bin_centers = bin_edges[1:] - bin_width/2\n",
    "\n",
    "    return bin_centers, bin_means, bin_std\n",
    "\n",
    "error = (y_pred-y_test)#)/y_test)*100\n",
    "#plt.scatter(x_test[:, 0], percentage_error)\n",
    "\n",
    "bin_centers, bin_means, bin_std = process_samples(y_test, error, -8, 3, 20)\n",
    "plt.errorbar(bin_centers, bin_means, bin_std, fmt='ko')\n",
    "plt.fill_between(bin_centers, bin_means-bin_std, bin_means+bin_std, alpha=0.5)"
   ]
  },
  {
   "cell_type": "code",
   "execution_count": 5,
   "metadata": {},
   "outputs": [],
   "source": [
    "#joblib.dump(regressor, 'sfr_emulator/sfr_emulator_test.pkl')"
   ]
  },
  {
   "cell_type": "markdown",
   "metadata": {},
   "source": [
    "loaded_regressor = joblib.load(\"sfr_emulator/sfr_emulator_test.pkl\")"
   ]
  },
  {
   "cell_type": "markdown",
   "metadata": {},
   "source": [
    "y_pred = regressor.predict(x_test)\n",
    "mse = mean_squared_error(y_test, y_pred)\n",
    "print(mse)"
   ]
  },
  {
   "cell_type": "markdown",
   "metadata": {},
   "source": [
    "import scipy as sc\n",
    "def process_samples(x, y, xl, xh, ngrid=15):\n",
    "\n",
    "    bin_means, bin_edges, binnumber = sc.stats.binned_statistic(x, y, 'mean', np.linspace(xl, xh, ngrid))\n",
    "    bin_std, bin_edges, binnumber = sc.stats.binned_statistic(x, y, 'std', np.linspace(xl, xh, ngrid))\n",
    "    bin_width = (bin_edges[1] - bin_edges[0])\n",
    "    bin_centers = bin_edges[1:] - bin_width/2\n",
    "\n",
    "    return bin_centers, bin_means, bin_std\n",
    "\n",
    "error = (y_pred-y_test)#)/y_test)*100\n",
    "#plt.scatter(x_test[:, 0], percentage_error)\n",
    "\n",
    "bin_centers, bin_means, bin_std = process_samples(y_test, error, -8, 3, 20)\n",
    "plt.errorbar(bin_centers, bin_means, bin_std, fmt='ko')\n",
    "plt.fill_between(bin_centers, bin_means-bin_std, bin_means+bin_std, alpha=0.5)"
   ]
  }
 ],
 "metadata": {
  "kernelspec": {
   "display_name": "tf_env",
   "language": "python",
   "name": "python3"
  },
  "language_info": {
   "codemirror_mode": {
    "name": "ipython",
    "version": 3
   },
   "file_extension": ".py",
   "mimetype": "text/x-python",
   "name": "python",
   "nbconvert_exporter": "python",
   "pygments_lexer": "ipython3",
   "version": "3.11.9"
  }
 },
 "nbformat": 4,
 "nbformat_minor": 2
}
